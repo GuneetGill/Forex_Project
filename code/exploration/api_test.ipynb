{
 "cells": [
  {
   "cell_type": "code",
   "execution_count": 3,
   "id": "eb9a0d6c",
   "metadata": {},
   "outputs": [],
   "source": [
    "import requests\n",
    "import pandas as pd\n",
    "import json\n",
    "from dateutil import parser #convert string to data time\n",
    "#requests is a library for sending HTTP requests in Python "
   ]
  },
  {
   "cell_type": "code",
   "execution_count": 4,
   "id": "e8639712",
   "metadata": {},
   "outputs": [],
   "source": [
    "API_KEY = \"17e7a04426b523ef4eedec284ec3be58-b816384cb30003eefbb6af11ae99dbef\"\n",
    "ACCOUNT_ID = \"101-002-26761156-001\"\n",
    "OANDA_URL = \"https://api-fxpractice.oanda.com/v3\"\n",
    "#This is our unique key account id and then we have the url"
   ]
  },
  {
   "cell_type": "code",
   "execution_count": 5,
   "id": "196669c0",
   "metadata": {},
   "outputs": [],
   "source": [
    "session = requests.Session()\n",
    "#stores parameters like cookies and HTTP headers"
   ]
  },
  {
   "cell_type": "code",
   "execution_count": 6,
   "id": "2b02ffb0",
   "metadata": {},
   "outputs": [],
   "source": [
    "session.headers.update({\n",
    "    \"Authorization\": f\"Bearer {API_KEY}\",\n",
    "    \"Content-Type\": \"application/json\"\n",
    "})"
   ]
  },
  {
   "cell_type": "code",
   "execution_count": 7,
   "id": "724662b9",
   "metadata": {},
   "outputs": [],
   "source": [
    "params = dict(\n",
    "    count = 10,\n",
    "    granularity = \"H1\",\n",
    "    price = \"MBA\"\n",
    ")\n",
    "#what exactly we are requesting"
   ]
  },
  {
   "cell_type": "code",
   "execution_count": 8,
   "id": "ce4feeee",
   "metadata": {},
   "outputs": [],
   "source": [
    "url = f\"{OANDA_URL}/accounts/{ACCOUNT_ID}/instruments\"\n",
    "#save url as formatted string taken from postman"
   ]
  },
  {
   "cell_type": "code",
   "execution_count": 9,
   "id": "3adb3bc0",
   "metadata": {},
   "outputs": [],
   "source": [
    "response = session.get(url, params=None, data=None, headers=None)\n",
    "#.get method GET is used to request data from a specified resource.\n",
    "#the query string (name/value pairs) is sent in the URL of a GET request"
   ]
  },
  {
   "cell_type": "code",
   "execution_count": 10,
   "id": "2d1e3f68",
   "metadata": {},
   "outputs": [
    {
     "data": {
      "text/plain": [
       "200"
      ]
     },
     "execution_count": 10,
     "metadata": {},
     "output_type": "execute_result"
    }
   ],
   "source": [
    "response.status_code\n",
    "#tells us if any errors happened or it requested successfully"
   ]
  },
  {
   "cell_type": "code",
   "execution_count": 11,
   "id": "b61af922",
   "metadata": {},
   "outputs": [],
   "source": [
    "data = response.json()\n",
    "#returns back object with all info contains all instruments \n",
    "#returns back a dictionary with keys and values"
   ]
  },
  {
   "cell_type": "code",
   "execution_count": 16,
   "id": "7cca9dbf",
   "metadata": {},
   "outputs": [],
   "source": [
    "instruments_list = data['instruments']\n",
    "#saves each different instrument in my instrument list"
   ]
  },
  {
   "cell_type": "code",
   "execution_count": 13,
   "id": "062ad001",
   "metadata": {},
   "outputs": [
    {
     "data": {
      "text/plain": [
       "123"
      ]
     },
     "execution_count": 13,
     "metadata": {},
     "output_type": "execute_result"
    }
   ],
   "source": [
    "len(instruments_list)"
   ]
  },
  {
   "cell_type": "code",
   "execution_count": 14,
   "id": "f206398b",
   "metadata": {},
   "outputs": [
    {
     "data": {
      "text/plain": [
       "dict_keys(['name', 'type', 'displayName', 'pipLocation', 'displayPrecision', 'tradeUnitsPrecision', 'minimumTradeSize', 'maximumTrailingStopDistance', 'minimumTrailingStopDistance', 'maximumPositionSize', 'maximumOrderUnits', 'marginRate', 'guaranteedStopLossOrderMode', 'tags', 'financing'])"
      ]
     },
     "execution_count": 14,
     "metadata": {},
     "output_type": "execute_result"
    }
   ],
   "source": [
    "instruments_list[0].keys() #what info we have releated to each object"
   ]
  },
  {
   "cell_type": "code",
   "execution_count": 15,
   "id": "1f3ca436",
   "metadata": {},
   "outputs": [],
   "source": [
    "key_i = ['name', 'type', 'displayName', 'pipLocation',\n",
    "         'displayPrecision', 'tradeUnitsPrecision', 'marginRate']\n",
    "#i only want these values from whatever the object returned back to us "
   ]
  },
  {
   "cell_type": "code",
   "execution_count": 20,
   "id": "b71bf92e",
   "metadata": {},
   "outputs": [],
   "source": [
    "instruments_dict = {}\n",
    "for i in instruments_list: #loop through entire instrument list\n",
    "    key = i['name'] #key is equal to instrument name \n",
    "    instruments_dict[key] = { k: i[k] for k in key_i } \n",
    "    #k would be name, type etc line 15\n"
   ]
  },
  {
   "cell_type": "code",
   "execution_count": 21,
   "id": "5de0c72a",
   "metadata": {},
   "outputs": [
    {
     "data": {
      "text/plain": [
       "{'name': 'USD_CAD',\n",
       " 'type': 'CURRENCY',\n",
       " 'displayName': 'USD/CAD',\n",
       " 'pipLocation': -4,\n",
       " 'displayPrecision': 5,\n",
       " 'tradeUnitsPrecision': 0,\n",
       " 'marginRate': '0.02'}"
      ]
     },
     "execution_count": 21,
     "metadata": {},
     "output_type": "execute_result"
    }
   ],
   "source": [
    "instruments_dict['USD_CAD']     \n",
    "#the key would be the name of the pair so USD_CAD and by using that as the key\n",
    "#i can look at all the info related to USD_CAD for example."
   ]
  },
  {
   "cell_type": "code",
   "execution_count": 22,
   "id": "cd30b045",
   "metadata": {},
   "outputs": [
    {
     "data": {
      "text/plain": [
       "0.0001"
      ]
     },
     "execution_count": 22,
     "metadata": {},
     "output_type": "execute_result"
    }
   ],
   "source": [
    "# -4 -> 0.0001 we want pip location to be integer \n",
    "pow(10, -4)"
   ]
  },
  {
   "cell_type": "code",
   "execution_count": 27,
   "id": "e5fa457a",
   "metadata": {},
   "outputs": [],
   "source": [
    "#where I want to save it \n",
    "with open(\"../data/instruments.json\", \"w\") as f:\n",
    "    f.write(json.dumps(instruments_dict, indent=2))\n",
    "    #write dictionary we just created into json format "
   ]
  },
  {
   "cell_type": "code",
   "execution_count": 28,
   "id": "34fb0cd2",
   "metadata": {},
   "outputs": [],
   "source": [
    "#pair name = USD_CAD for ex, granularirt is 1 hour default \n",
    "#doing same thing as before since we are making a call to the API to get data\n",
    "def fetch_candles(pair_name, count=10, granularity=\"H1\"):\n",
    "    url = f\"{OANDA_URL}/instruments/{pair_name}/candles\"\n",
    "    params = dict(\n",
    "        count = count,\n",
    "        granularity = granularity,\n",
    "        price = \"MBA\"\n",
    "    )\n",
    "    \n",
    "    response = session.get(url, params=params, data=None, headers=None)\n",
    "    data = response.json()\n",
    "\n",
    "    #if successful status return code I want to make sure i get back a candles key back\n",
    "    if response.status_code == 200:\n",
    "        if 'candles' not in data:\n",
    "            data = []\n",
    "        else:\n",
    "            data = data['candles']\n",
    "    return response.status_code, data\n",
    "\n",
    "\n",
    "def get_candles_df(data):\n",
    "    #if data is empty return empty dataframe \n",
    "    if len(data) == 0:\n",
    "        return pd.DataFrame()\n",
    "        \n",
    "    #will be used for column names in DataFrame\n",
    "    prices = ['mid', 'bid', 'ask']\n",
    "    ohlc = ['o', 'h', 'l', 'c'] #open,high,low and close key\n",
    "    #mid_c mid_o bid_h for example\n",
    "\n",
    "    final_data = []\n",
    "    \n",
    "    #visit each candle in the data we passed in\n",
    "    for candle in data:\n",
    "        #if incomplete candle is returned we dont want it \n",
    "        if candle['complete'] == False:\n",
    "            continue\n",
    "        new_dict = {} # new object which will contain out keys from candle data\n",
    "        # we want time and volume \n",
    "        new_dict['time'] = parser.parse(candle['time'])\n",
    "        # we are given a string for time so convert into date time type \n",
    "        new_dict['volume'] = candle['volume']\n",
    "\n",
    "        #constuct keys like mid_o etc and add data from candle data\n",
    "        for p in prices:\n",
    "            for o in ohlc:\n",
    "                new_dict[f\"{p}_{o}\"] = float(candle[p][o])\n",
    "        final_data.append(new_dict) #append new dictionary list to final data\n",
    "        # we created eariler \n",
    "\n",
    "    #uses pandas method \"dataframe.fron_dict to create dataframe from the list\n",
    "    #of dictionaries final_data. each dictionary becomes a row in datafrmae\n",
    "    #and keys becomes column names\n",
    "    df = pd.DataFrame.from_dict(final_data)\n",
    "    \n",
    "    return df\n",
    "    \n",
    "#saves dataframe in pickle file \n",
    "#pair_name = USD_CAD for ex, default # of candles to fetch is 10 and time of candles\n",
    "#set default to 1 hour\n",
    "def create_data_file(pair_name, count=10, granularity=\"H1\"):\n",
    "    #call function to get candlestick data \n",
    "    code, data = fetch_candles(pair_name, count, granularity)\n",
    "    if code != 200:\n",
    "        print(\"Failed\", pair_name, data)\n",
    "        return #failed attempt to get data return back faliure object\n",
    "        \n",
    "    if len(data) == 0:\n",
    "        print(\"No candles\", pair_name) # if empty return back this\n",
    "\n",
    "    #convert candle data into dataframe\n",
    "    candles_df = get_candles_df(data)\n",
    "    #saves dataframe to pickle file in specfic location\n",
    "    #filename is based on currency pair name\n",
    "    candles_df.to_pickle(f\"../data/{pair_name}_{granularity}.pkl\")\n",
    "    #prints out info about what is in dataframe \n",
    "    print(f\"{pair_name} {granularity} {candles_df.shape[0]} candles, {candles_df.time.min()} {candles_df.time.max()}\")\n",
    "    "
   ]
  },
  {
   "cell_type": "code",
   "execution_count": 29,
   "id": "ab340e70",
   "metadata": {},
   "outputs": [],
   "source": [
    "code, data = fetch_candles(\"EUR_USD\", count=10, granularity=\"H4\")\n",
    "candles_df = get_candles_df(data)"
   ]
  },
  {
   "cell_type": "code",
   "execution_count": 30,
   "id": "eba4c21e",
   "metadata": {},
   "outputs": [
    {
     "name": "stdout",
     "output_type": "stream",
     "text": [
      "EUR_USD H4 9 candles, 2023-11-13 14:00:00+00:00 2023-11-14 22:00:00+00:00\n"
     ]
    }
   ],
   "source": [
    "create_data_file(\"EUR_USD\", count=10, granularity=\"H4\")"
   ]
  },
  {
   "cell_type": "code",
   "execution_count": 31,
   "id": "9c359733",
   "metadata": {},
   "outputs": [],
   "source": [
    "our_curr = ['EUR', 'USD', 'GBP', 'JPY', 'CHF', 'NZD', 'CAD', 'AUD']"
   ]
  },
  {
   "cell_type": "code",
   "execution_count": 32,
   "id": "36c29996",
   "metadata": {},
   "outputs": [
    {
     "name": "stdout",
     "output_type": "stream",
     "text": [
      "EUR_USD H1 4000 candles, 2023-03-27 12:00:00+00:00 2023-11-15 04:00:00+00:00\n",
      "EUR_USD H4 4000 candles, 2021-04-23 09:00:00+00:00 2023-11-14 22:00:00+00:00\n",
      "EUR_GBP H1 4000 candles, 2023-03-27 12:00:00+00:00 2023-11-15 04:00:00+00:00\n",
      "EUR_GBP H4 4000 candles, 2021-04-23 09:00:00+00:00 2023-11-14 22:00:00+00:00\n",
      "EUR_JPY H1 4000 candles, 2023-03-27 12:00:00+00:00 2023-11-15 04:00:00+00:00\n",
      "EUR_JPY H4 4000 candles, 2021-04-23 01:00:00+00:00 2023-11-14 22:00:00+00:00\n",
      "EUR_CHF H1 4000 candles, 2023-03-27 12:00:00+00:00 2023-11-15 04:00:00+00:00\n",
      "EUR_CHF H4 4000 candles, 2021-04-23 09:00:00+00:00 2023-11-14 22:00:00+00:00\n",
      "EUR_NZD H1 4000 candles, 2023-03-27 11:00:00+00:00 2023-11-15 04:00:00+00:00\n",
      "EUR_NZD H4 4000 candles, 2021-04-23 09:00:00+00:00 2023-11-14 22:00:00+00:00\n",
      "EUR_CAD H1 4000 candles, 2023-03-27 12:00:00+00:00 2023-11-15 04:00:00+00:00\n",
      "EUR_CAD H4 4000 candles, 2021-04-23 09:00:00+00:00 2023-11-14 22:00:00+00:00\n",
      "EUR_AUD H1 4000 candles, 2023-03-27 11:00:00+00:00 2023-11-15 04:00:00+00:00\n",
      "EUR_AUD H4 4000 candles, 2021-04-23 09:00:00+00:00 2023-11-14 22:00:00+00:00\n",
      "USD_JPY H1 4000 candles, 2023-03-27 12:00:00+00:00 2023-11-15 04:00:00+00:00\n",
      "USD_JPY H4 4000 candles, 2021-04-23 09:00:00+00:00 2023-11-14 22:00:00+00:00\n",
      "USD_CHF H1 4000 candles, 2023-03-27 12:00:00+00:00 2023-11-15 04:00:00+00:00\n",
      "USD_CHF H4 4000 candles, 2021-04-23 09:00:00+00:00 2023-11-14 22:00:00+00:00\n",
      "USD_CAD H1 4000 candles, 2023-03-27 12:00:00+00:00 2023-11-15 04:00:00+00:00\n",
      "USD_CAD H4 4000 candles, 2021-04-23 09:00:00+00:00 2023-11-14 22:00:00+00:00\n",
      "GBP_USD H1 4000 candles, 2023-03-27 12:00:00+00:00 2023-11-15 04:00:00+00:00\n",
      "GBP_USD H4 4000 candles, 2021-04-23 09:00:00+00:00 2023-11-14 22:00:00+00:00\n",
      "GBP_JPY H1 4000 candles, 2023-03-27 12:00:00+00:00 2023-11-15 04:00:00+00:00\n",
      "GBP_JPY H4 4000 candles, 2021-04-23 09:00:00+00:00 2023-11-14 22:00:00+00:00\n",
      "GBP_CHF H1 4000 candles, 2023-03-27 12:00:00+00:00 2023-11-15 04:00:00+00:00\n",
      "GBP_CHF H4 4000 candles, 2021-04-23 09:00:00+00:00 2023-11-14 22:00:00+00:00\n",
      "GBP_NZD H1 4000 candles, 2023-03-27 11:00:00+00:00 2023-11-15 04:00:00+00:00\n",
      "GBP_NZD H4 4000 candles, 2021-04-23 09:00:00+00:00 2023-11-14 22:00:00+00:00\n",
      "GBP_CAD H1 4000 candles, 2023-03-27 12:00:00+00:00 2023-11-15 04:00:00+00:00\n",
      "GBP_CAD H4 4000 candles, 2021-04-23 09:00:00+00:00 2023-11-14 22:00:00+00:00\n",
      "GBP_AUD H1 4000 candles, 2023-03-27 09:00:00+00:00 2023-11-15 04:00:00+00:00\n",
      "GBP_AUD H4 4000 candles, 2021-04-23 09:00:00+00:00 2023-11-14 22:00:00+00:00\n",
      "CHF_JPY H1 4000 candles, 2023-03-27 12:00:00+00:00 2023-11-15 04:00:00+00:00\n",
      "CHF_JPY H4 4000 candles, 2021-04-23 09:00:00+00:00 2023-11-14 22:00:00+00:00\n",
      "NZD_USD H1 4000 candles, 2023-03-27 12:00:00+00:00 2023-11-15 04:00:00+00:00\n",
      "NZD_USD H4 4000 candles, 2021-04-23 17:00:00+00:00 2023-11-14 22:00:00+00:00\n",
      "NZD_JPY H1 4000 candles, 2023-03-27 12:00:00+00:00 2023-11-15 04:00:00+00:00\n",
      "NZD_JPY H4 4000 candles, 2021-04-23 09:00:00+00:00 2023-11-14 22:00:00+00:00\n",
      "NZD_CHF H1 4000 candles, 2023-03-27 05:00:00+00:00 2023-11-15 04:00:00+00:00\n",
      "NZD_CHF H4 4000 candles, 2021-04-23 05:00:00+00:00 2023-11-14 22:00:00+00:00\n",
      "NZD_CAD H1 4000 candles, 2023-03-27 11:00:00+00:00 2023-11-15 04:00:00+00:00\n",
      "NZD_CAD H4 4000 candles, 2021-04-23 09:00:00+00:00 2023-11-14 22:00:00+00:00\n",
      "CAD_JPY H1 4000 candles, 2023-03-27 12:00:00+00:00 2023-11-15 04:00:00+00:00\n",
      "CAD_JPY H4 4000 candles, 2021-04-23 09:00:00+00:00 2023-11-14 22:00:00+00:00\n",
      "CAD_CHF H1 4000 candles, 2023-03-27 10:00:00+00:00 2023-11-15 04:00:00+00:00\n",
      "CAD_CHF H4 4000 candles, 2021-04-23 09:00:00+00:00 2023-11-14 22:00:00+00:00\n",
      "AUD_USD H1 4000 candles, 2023-03-27 12:00:00+00:00 2023-11-15 04:00:00+00:00\n",
      "AUD_USD H4 4000 candles, 2021-04-23 09:00:00+00:00 2023-11-14 22:00:00+00:00\n",
      "AUD_JPY H1 4000 candles, 2023-03-27 12:00:00+00:00 2023-11-15 04:00:00+00:00\n",
      "AUD_JPY H4 4000 candles, 2021-04-26 09:00:00+00:00 2023-11-14 22:00:00+00:00\n",
      "AUD_CHF H1 4000 candles, 2023-03-27 11:00:00+00:00 2023-11-15 04:00:00+00:00\n",
      "AUD_CHF H4 4000 candles, 2021-04-23 05:00:00+00:00 2023-11-14 22:00:00+00:00\n",
      "AUD_NZD H1 4000 candles, 2023-03-27 12:00:00+00:00 2023-11-15 04:00:00+00:00\n",
      "AUD_NZD H4 4000 candles, 2021-04-23 05:00:00+00:00 2023-11-14 22:00:00+00:00\n",
      "AUD_CAD H1 4000 candles, 2023-03-27 12:00:00+00:00 2023-11-15 04:00:00+00:00\n",
      "AUD_CAD H4 4000 candles, 2021-04-23 09:00:00+00:00 2023-11-14 22:00:00+00:00\n"
     ]
    }
   ],
   "source": [
    "for p1 in our_curr:\n",
    "    for p2 in our_curr:\n",
    "        pr = f\"{p1}_{p2}\"\n",
    "        if pr in instruments_dict:\n",
    "            for g in [\"H1\", \"H4\"]:\n",
    "                create_data_file(pr, count=4001, granularity=g)"
   ]
  },
  {
   "cell_type": "code",
   "execution_count": null,
   "id": "20c06649",
   "metadata": {},
   "outputs": [],
   "source": []
  },
  {
   "cell_type": "code",
   "execution_count": null,
   "id": "0b10bf8f",
   "metadata": {},
   "outputs": [],
   "source": []
  },
  {
   "cell_type": "code",
   "execution_count": null,
   "id": "21d891ee",
   "metadata": {},
   "outputs": [],
   "source": []
  },
  {
   "cell_type": "code",
   "execution_count": null,
   "id": "b58d0f7d",
   "metadata": {},
   "outputs": [],
   "source": []
  },
  {
   "cell_type": "code",
   "execution_count": null,
   "id": "f065a3d2",
   "metadata": {},
   "outputs": [],
   "source": []
  },
  {
   "cell_type": "code",
   "execution_count": null,
   "id": "719819da",
   "metadata": {},
   "outputs": [],
   "source": []
  }
 ],
 "metadata": {
  "kernelspec": {
   "display_name": "Python 3 (ipykernel)",
   "language": "python",
   "name": "python3"
  },
  "language_info": {
   "codemirror_mode": {
    "name": "ipython",
    "version": 3
   },
   "file_extension": ".py",
   "mimetype": "text/x-python",
   "name": "python",
   "nbconvert_exporter": "python",
   "pygments_lexer": "ipython3",
   "version": "3.10.9"
  }
 },
 "nbformat": 4,
 "nbformat_minor": 5
}
