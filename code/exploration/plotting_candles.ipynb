{
 "cells": [
  {
   "cell_type": "code",
   "execution_count": 1,
   "id": "5fed330a",
   "metadata": {},
   "outputs": [],
   "source": [
    "import pandas as pd\n",
    "import plotly.graph_objects as go\n",
    "import datetime as dt"
   ]
  },
  {
   "cell_type": "code",
   "execution_count": 2,
   "id": "b19a3cf7",
   "metadata": {},
   "outputs": [],
   "source": [
    "pair = \"EUR_USD\"\n",
    "granularity = \"H4\"\n",
    "df = pd.read_pickle(f\"../data/{pair}_{granularity}.pkl\")"
   ]
  },
  {
   "cell_type": "code",
   "execution_count": 3,
   "id": "df3f6e66",
   "metadata": {},
   "outputs": [
    {
     "data": {
      "text/html": [
       "<div>\n",
       "<style scoped>\n",
       "    .dataframe tbody tr th:only-of-type {\n",
       "        vertical-align: middle;\n",
       "    }\n",
       "\n",
       "    .dataframe tbody tr th {\n",
       "        vertical-align: top;\n",
       "    }\n",
       "\n",
       "    .dataframe thead th {\n",
       "        text-align: right;\n",
       "    }\n",
       "</style>\n",
       "<table border=\"1\" class=\"dataframe\">\n",
       "  <thead>\n",
       "    <tr style=\"text-align: right;\">\n",
       "      <th></th>\n",
       "      <th>time</th>\n",
       "      <th>volume</th>\n",
       "      <th>mid_o</th>\n",
       "      <th>mid_h</th>\n",
       "      <th>mid_l</th>\n",
       "      <th>mid_c</th>\n",
       "      <th>bid_o</th>\n",
       "      <th>bid_h</th>\n",
       "      <th>bid_l</th>\n",
       "      <th>bid_c</th>\n",
       "      <th>ask_o</th>\n",
       "      <th>ask_h</th>\n",
       "      <th>ask_l</th>\n",
       "      <th>ask_c</th>\n",
       "    </tr>\n",
       "  </thead>\n",
       "  <tbody>\n",
       "    <tr>\n",
       "      <th>3995</th>\n",
       "      <td>2023-11-14 06:00:00+00:00</td>\n",
       "      <td>12703</td>\n",
       "      <td>1.06956</td>\n",
       "      <td>1.07177</td>\n",
       "      <td>1.06942</td>\n",
       "      <td>1.07162</td>\n",
       "      <td>1.06948</td>\n",
       "      <td>1.07170</td>\n",
       "      <td>1.06934</td>\n",
       "      <td>1.07152</td>\n",
       "      <td>1.06964</td>\n",
       "      <td>1.07184</td>\n",
       "      <td>1.06951</td>\n",
       "      <td>1.07171</td>\n",
       "    </tr>\n",
       "    <tr>\n",
       "      <th>3996</th>\n",
       "      <td>2023-11-14 10:00:00+00:00</td>\n",
       "      <td>23573</td>\n",
       "      <td>1.07162</td>\n",
       "      <td>1.08003</td>\n",
       "      <td>1.07110</td>\n",
       "      <td>1.07895</td>\n",
       "      <td>1.07153</td>\n",
       "      <td>1.07996</td>\n",
       "      <td>1.07085</td>\n",
       "      <td>1.07888</td>\n",
       "      <td>1.07171</td>\n",
       "      <td>1.08011</td>\n",
       "      <td>1.07135</td>\n",
       "      <td>1.07902</td>\n",
       "    </tr>\n",
       "    <tr>\n",
       "      <th>3997</th>\n",
       "      <td>2023-11-14 14:00:00+00:00</td>\n",
       "      <td>33315</td>\n",
       "      <td>1.07892</td>\n",
       "      <td>1.08739</td>\n",
       "      <td>1.07889</td>\n",
       "      <td>1.08730</td>\n",
       "      <td>1.07885</td>\n",
       "      <td>1.08732</td>\n",
       "      <td>1.07882</td>\n",
       "      <td>1.08722</td>\n",
       "      <td>1.07899</td>\n",
       "      <td>1.08746</td>\n",
       "      <td>1.07896</td>\n",
       "      <td>1.08738</td>\n",
       "    </tr>\n",
       "    <tr>\n",
       "      <th>3998</th>\n",
       "      <td>2023-11-14 18:00:00+00:00</td>\n",
       "      <td>9359</td>\n",
       "      <td>1.08728</td>\n",
       "      <td>1.08876</td>\n",
       "      <td>1.08678</td>\n",
       "      <td>1.08791</td>\n",
       "      <td>1.08721</td>\n",
       "      <td>1.08869</td>\n",
       "      <td>1.08671</td>\n",
       "      <td>1.08783</td>\n",
       "      <td>1.08736</td>\n",
       "      <td>1.08884</td>\n",
       "      <td>1.08685</td>\n",
       "      <td>1.08799</td>\n",
       "    </tr>\n",
       "    <tr>\n",
       "      <th>3999</th>\n",
       "      <td>2023-11-14 22:00:00+00:00</td>\n",
       "      <td>6338</td>\n",
       "      <td>1.08786</td>\n",
       "      <td>1.08828</td>\n",
       "      <td>1.08656</td>\n",
       "      <td>1.08721</td>\n",
       "      <td>1.08772</td>\n",
       "      <td>1.08821</td>\n",
       "      <td>1.08648</td>\n",
       "      <td>1.08714</td>\n",
       "      <td>1.08799</td>\n",
       "      <td>1.08836</td>\n",
       "      <td>1.08664</td>\n",
       "      <td>1.08728</td>\n",
       "    </tr>\n",
       "  </tbody>\n",
       "</table>\n",
       "</div>"
      ],
      "text/plain": [
       "                          time  volume    mid_o    mid_h    mid_l    mid_c  \\\n",
       "3995 2023-11-14 06:00:00+00:00   12703  1.06956  1.07177  1.06942  1.07162   \n",
       "3996 2023-11-14 10:00:00+00:00   23573  1.07162  1.08003  1.07110  1.07895   \n",
       "3997 2023-11-14 14:00:00+00:00   33315  1.07892  1.08739  1.07889  1.08730   \n",
       "3998 2023-11-14 18:00:00+00:00    9359  1.08728  1.08876  1.08678  1.08791   \n",
       "3999 2023-11-14 22:00:00+00:00    6338  1.08786  1.08828  1.08656  1.08721   \n",
       "\n",
       "        bid_o    bid_h    bid_l    bid_c    ask_o    ask_h    ask_l    ask_c  \n",
       "3995  1.06948  1.07170  1.06934  1.07152  1.06964  1.07184  1.06951  1.07171  \n",
       "3996  1.07153  1.07996  1.07085  1.07888  1.07171  1.08011  1.07135  1.07902  \n",
       "3997  1.07885  1.08732  1.07882  1.08722  1.07899  1.08746  1.07896  1.08738  \n",
       "3998  1.08721  1.08869  1.08671  1.08783  1.08736  1.08884  1.08685  1.08799  \n",
       "3999  1.08772  1.08821  1.08648  1.08714  1.08799  1.08836  1.08664  1.08728  "
      ]
     },
     "execution_count": 3,
     "metadata": {},
     "output_type": "execute_result"
    }
   ],
   "source": [
    "df.tail()"
   ]
  },
  {
   "cell_type": "code",
   "execution_count": 4,
   "id": "d438e633",
   "metadata": {},
   "outputs": [],
   "source": [
    "df['sTime'] = [dt.datetime.strftime(x, \"s%y-%m-%d %H:%M\") for x in df.time]"
   ]
  },
  {
   "cell_type": "code",
   "execution_count": 7,
   "id": "2046e30d",
   "metadata": {},
   "outputs": [],
   "source": [
    "df_plot = df.iloc[:100]"
   ]
  },
  {
   "cell_type": "code",
   "execution_count": 8,
   "id": "0a1c446f",
   "metadata": {},
   "outputs": [
    {
     "data": {
      "application/vnd.plotly.v1+json": {
       "config": {
        "plotlyServerURL": "https://plot.ly"
       },
       "data": [
        {
         "close": [
          1.20717,
          1.20768,
          1.20968,
          1.21032,
          1.21082,
          1.20998,
          1.20807,
          1.20892,
          1.20859,
          1.20792,
          1.20728,
          1.20584,
          1.20818,
          1.20709,
          1.20916,
          1.20786,
          1.20728,
          1.20748,
          1.20678,
          1.20903,
          1.21258,
          1.21419,
          1.21319,
          1.21156,
          1.21226,
          1.21178,
          1.21199,
          1.21221,
          1.21171,
          1.20952,
          1.20838,
          1.20268,
          1.202,
          1.2034,
          1.20212,
          1.20475,
          1.20431,
          1.20529,
          1.20638,
          1.20557,
          1.20407,
          1.20034,
          1.20257,
          1.20174,
          1.20133,
          1.20197,
          1.20225,
          1.19968,
          1.1997,
          1.1994,
          1.20048,
          1.20002,
          1.20025,
          1.20395,
          1.20571,
          1.20499,
          1.20653,
          1.20636,
          1.20637,
          1.20876,
          1.2129,
          1.21511,
          1.21632,
          1.21616,
          1.21516,
          1.21712,
          1.21712,
          1.2159,
          1.21288,
          1.2128,
          1.21417,
          1.21624,
          1.21683,
          1.21638,
          1.21483,
          1.21382,
          1.21204,
          1.21345,
          1.213,
          1.20664,
          1.20726,
          1.2082,
          1.20783,
          1.20624,
          1.20816,
          1.20797,
          1.2079,
          1.20753,
          1.20858,
          1.21252,
          1.21296,
          1.2137,
          1.21457,
          1.2134,
          1.21299,
          1.21481,
          1.214,
          1.2156,
          1.215,
          1.21564
         ],
         "decreasing": {
          "fillcolor": "#CC2E3C",
          "line": {
           "color": "#FF3A4C"
          }
         },
         "high": [
          1.20757,
          1.20774,
          1.21002,
          1.21054,
          1.2117,
          1.21156,
          1.21097,
          1.20898,
          1.20936,
          1.20895,
          1.20812,
          1.20804,
          1.20926,
          1.20904,
          1.2093,
          1.2093,
          1.2085,
          1.20798,
          1.20772,
          1.21027,
          1.21348,
          1.2142,
          1.215,
          1.21368,
          1.21358,
          1.21268,
          1.21294,
          1.21262,
          1.21267,
          1.212,
          1.20982,
          1.2092,
          1.20304,
          1.20346,
          1.20354,
          1.20496,
          1.20578,
          1.20763,
          1.20672,
          1.20652,
          1.20564,
          1.20408,
          1.20306,
          1.20357,
          1.20236,
          1.20208,
          1.20266,
          1.20225,
          1.202,
          1.2012,
          1.20062,
          1.20098,
          1.20118,
          1.20448,
          1.20606,
          1.20717,
          1.20653,
          1.20698,
          1.20693,
          1.20908,
          1.21464,
          1.21652,
          1.21716,
          1.21789,
          1.21632,
          1.21754,
          1.21744,
          1.21784,
          1.21596,
          1.21429,
          1.21496,
          1.21645,
          1.21715,
          1.21818,
          1.21647,
          1.2151,
          1.21382,
          1.21439,
          1.21468,
          1.21524,
          1.20826,
          1.20845,
          1.20888,
          1.21062,
          1.20942,
          1.21002,
          1.20872,
          1.20845,
          1.2088,
          1.21295,
          1.21375,
          1.21478,
          1.2147,
          1.21512,
          1.21388,
          1.215,
          1.2169,
          1.21577,
          1.21615,
          1.2159
         ],
         "increasing": {
          "fillcolor": "#24A06B",
          "line": {
           "color": "#2EC886"
          }
         },
         "line": {
          "width": 1
         },
         "low": [
          1.20491,
          1.20462,
          1.20743,
          1.20888,
          1.21032,
          1.20888,
          1.20766,
          1.20612,
          1.20832,
          1.20748,
          1.20652,
          1.20574,
          1.20569,
          1.20692,
          1.20706,
          1.20782,
          1.20724,
          1.20561,
          1.20617,
          1.20568,
          1.20657,
          1.21229,
          1.2124,
          1.21112,
          1.2114,
          1.21024,
          1.21127,
          1.21178,
          1.21154,
          1.20944,
          1.20774,
          1.2024,
          1.20168,
          1.20202,
          1.20171,
          1.20132,
          1.20418,
          1.20426,
          1.20515,
          1.20531,
          1.20371,
          1.20022,
          1.1999,
          1.20016,
          1.20093,
          1.20099,
          1.2018,
          1.1986,
          1.19916,
          1.1992,
          1.19912,
          1.2,
          1.19932,
          1.2002,
          1.20363,
          1.20442,
          1.20482,
          1.20596,
          1.20595,
          1.2053,
          1.20582,
          1.21022,
          1.21498,
          1.216,
          1.2151,
          1.21368,
          1.21568,
          1.21526,
          1.21278,
          1.2126,
          1.21264,
          1.2123,
          1.21538,
          1.2148,
          1.2145,
          1.21372,
          1.21156,
          1.212,
          1.2072,
          1.20656,
          1.20656,
          1.20704,
          1.20718,
          1.20514,
          1.20601,
          1.20644,
          1.20621,
          1.2071,
          1.20729,
          1.20843,
          1.2103,
          1.21242,
          1.2134,
          1.21322,
          1.2129,
          1.21262,
          1.21346,
          1.2138,
          1.21496,
          1.21508
         ],
         "opacity": 1,
         "open": [
          1.2059,
          1.20716,
          1.20766,
          1.20926,
          1.21032,
          1.21084,
          1.20997,
          1.20808,
          1.2089,
          1.20865,
          1.20794,
          1.20729,
          1.20584,
          1.20817,
          1.2071,
          1.20898,
          1.20784,
          1.2073,
          1.20747,
          1.2068,
          1.20901,
          1.21252,
          1.21422,
          1.21318,
          1.21157,
          1.21225,
          1.21177,
          1.21199,
          1.21222,
          1.2117,
          1.20954,
          1.20839,
          1.20268,
          1.2033,
          1.20341,
          1.20213,
          1.20473,
          1.2043,
          1.2053,
          1.20648,
          1.20558,
          1.20406,
          1.20032,
          1.20259,
          1.20172,
          1.20141,
          1.20198,
          1.20224,
          1.19966,
          1.19969,
          1.19938,
          1.20038,
          1.20002,
          1.20024,
          1.20397,
          1.2057,
          1.20498,
          1.2061,
          1.20635,
          1.20636,
          1.20875,
          1.21295,
          1.21512,
          1.2164,
          1.21617,
          1.21515,
          1.2171,
          1.21712,
          1.21592,
          1.21293,
          1.21282,
          1.21416,
          1.21626,
          1.21682,
          1.21639,
          1.21486,
          1.21381,
          1.21203,
          1.21346,
          1.21302,
          1.20662,
          1.20734,
          1.20819,
          1.20784,
          1.20625,
          1.20814,
          1.20798,
          1.20806,
          1.20752,
          1.20858,
          1.21253,
          1.21295,
          1.21369,
          1.21474,
          1.21339,
          1.21298,
          1.2148,
          1.21398,
          1.21561,
          1.21528
         ],
         "type": "candlestick",
         "x": [
          "s21-04-23 09:00",
          "s21-04-23 13:00",
          "s21-04-23 17:00",
          "s21-04-25 21:00",
          "s21-04-26 01:00",
          "s21-04-26 05:00",
          "s21-04-26 09:00",
          "s21-04-26 13:00",
          "s21-04-26 17:00",
          "s21-04-26 21:00",
          "s21-04-27 01:00",
          "s21-04-27 05:00",
          "s21-04-27 09:00",
          "s21-04-27 13:00",
          "s21-04-27 17:00",
          "s21-04-27 21:00",
          "s21-04-28 01:00",
          "s21-04-28 05:00",
          "s21-04-28 09:00",
          "s21-04-28 13:00",
          "s21-04-28 17:00",
          "s21-04-28 21:00",
          "s21-04-29 01:00",
          "s21-04-29 05:00",
          "s21-04-29 09:00",
          "s21-04-29 13:00",
          "s21-04-29 17:00",
          "s21-04-29 21:00",
          "s21-04-30 01:00",
          "s21-04-30 05:00",
          "s21-04-30 09:00",
          "s21-04-30 13:00",
          "s21-04-30 17:00",
          "s21-05-02 21:00",
          "s21-05-03 01:00",
          "s21-05-03 05:00",
          "s21-05-03 09:00",
          "s21-05-03 13:00",
          "s21-05-03 17:00",
          "s21-05-03 21:00",
          "s21-05-04 01:00",
          "s21-05-04 05:00",
          "s21-05-04 09:00",
          "s21-05-04 13:00",
          "s21-05-04 17:00",
          "s21-05-04 21:00",
          "s21-05-05 01:00",
          "s21-05-05 05:00",
          "s21-05-05 09:00",
          "s21-05-05 13:00",
          "s21-05-05 17:00",
          "s21-05-05 21:00",
          "s21-05-06 01:00",
          "s21-05-06 05:00",
          "s21-05-06 09:00",
          "s21-05-06 13:00",
          "s21-05-06 17:00",
          "s21-05-06 21:00",
          "s21-05-07 01:00",
          "s21-05-07 05:00",
          "s21-05-07 09:00",
          "s21-05-07 13:00",
          "s21-05-07 17:00",
          "s21-05-09 21:00",
          "s21-05-10 01:00",
          "s21-05-10 05:00",
          "s21-05-10 09:00",
          "s21-05-10 13:00",
          "s21-05-10 17:00",
          "s21-05-10 21:00",
          "s21-05-11 01:00",
          "s21-05-11 05:00",
          "s21-05-11 09:00",
          "s21-05-11 13:00",
          "s21-05-11 17:00",
          "s21-05-11 21:00",
          "s21-05-12 01:00",
          "s21-05-12 05:00",
          "s21-05-12 09:00",
          "s21-05-12 13:00",
          "s21-05-12 17:00",
          "s21-05-12 21:00",
          "s21-05-13 01:00",
          "s21-05-13 05:00",
          "s21-05-13 09:00",
          "s21-05-13 13:00",
          "s21-05-13 17:00",
          "s21-05-13 21:00",
          "s21-05-14 01:00",
          "s21-05-14 05:00",
          "s21-05-14 09:00",
          "s21-05-14 13:00",
          "s21-05-14 17:00",
          "s21-05-16 21:00",
          "s21-05-17 01:00",
          "s21-05-17 05:00",
          "s21-05-17 09:00",
          "s21-05-17 13:00",
          "s21-05-17 17:00",
          "s21-05-17 21:00"
         ]
        }
       ],
       "layout": {
        "font": {
         "color": "#e1e1e1",
         "size": 8
        },
        "height": 400,
        "margin": {
         "b": 10,
         "l": 10,
         "r": 10,
         "t": 10
        },
        "paper_bgcolor": "#2c303c",
        "plot_bgcolor": "#2c303c",
        "template": {
         "data": {
          "bar": [
           {
            "error_x": {
             "color": "#2a3f5f"
            },
            "error_y": {
             "color": "#2a3f5f"
            },
            "marker": {
             "line": {
              "color": "#E5ECF6",
              "width": 0.5
             },
             "pattern": {
              "fillmode": "overlay",
              "size": 10,
              "solidity": 0.2
             }
            },
            "type": "bar"
           }
          ],
          "barpolar": [
           {
            "marker": {
             "line": {
              "color": "#E5ECF6",
              "width": 0.5
             },
             "pattern": {
              "fillmode": "overlay",
              "size": 10,
              "solidity": 0.2
             }
            },
            "type": "barpolar"
           }
          ],
          "carpet": [
           {
            "aaxis": {
             "endlinecolor": "#2a3f5f",
             "gridcolor": "white",
             "linecolor": "white",
             "minorgridcolor": "white",
             "startlinecolor": "#2a3f5f"
            },
            "baxis": {
             "endlinecolor": "#2a3f5f",
             "gridcolor": "white",
             "linecolor": "white",
             "minorgridcolor": "white",
             "startlinecolor": "#2a3f5f"
            },
            "type": "carpet"
           }
          ],
          "choropleth": [
           {
            "colorbar": {
             "outlinewidth": 0,
             "ticks": ""
            },
            "type": "choropleth"
           }
          ],
          "contour": [
           {
            "colorbar": {
             "outlinewidth": 0,
             "ticks": ""
            },
            "colorscale": [
             [
              0,
              "#0d0887"
             ],
             [
              0.1111111111111111,
              "#46039f"
             ],
             [
              0.2222222222222222,
              "#7201a8"
             ],
             [
              0.3333333333333333,
              "#9c179e"
             ],
             [
              0.4444444444444444,
              "#bd3786"
             ],
             [
              0.5555555555555556,
              "#d8576b"
             ],
             [
              0.6666666666666666,
              "#ed7953"
             ],
             [
              0.7777777777777778,
              "#fb9f3a"
             ],
             [
              0.8888888888888888,
              "#fdca26"
             ],
             [
              1,
              "#f0f921"
             ]
            ],
            "type": "contour"
           }
          ],
          "contourcarpet": [
           {
            "colorbar": {
             "outlinewidth": 0,
             "ticks": ""
            },
            "type": "contourcarpet"
           }
          ],
          "heatmap": [
           {
            "colorbar": {
             "outlinewidth": 0,
             "ticks": ""
            },
            "colorscale": [
             [
              0,
              "#0d0887"
             ],
             [
              0.1111111111111111,
              "#46039f"
             ],
             [
              0.2222222222222222,
              "#7201a8"
             ],
             [
              0.3333333333333333,
              "#9c179e"
             ],
             [
              0.4444444444444444,
              "#bd3786"
             ],
             [
              0.5555555555555556,
              "#d8576b"
             ],
             [
              0.6666666666666666,
              "#ed7953"
             ],
             [
              0.7777777777777778,
              "#fb9f3a"
             ],
             [
              0.8888888888888888,
              "#fdca26"
             ],
             [
              1,
              "#f0f921"
             ]
            ],
            "type": "heatmap"
           }
          ],
          "heatmapgl": [
           {
            "colorbar": {
             "outlinewidth": 0,
             "ticks": ""
            },
            "colorscale": [
             [
              0,
              "#0d0887"
             ],
             [
              0.1111111111111111,
              "#46039f"
             ],
             [
              0.2222222222222222,
              "#7201a8"
             ],
             [
              0.3333333333333333,
              "#9c179e"
             ],
             [
              0.4444444444444444,
              "#bd3786"
             ],
             [
              0.5555555555555556,
              "#d8576b"
             ],
             [
              0.6666666666666666,
              "#ed7953"
             ],
             [
              0.7777777777777778,
              "#fb9f3a"
             ],
             [
              0.8888888888888888,
              "#fdca26"
             ],
             [
              1,
              "#f0f921"
             ]
            ],
            "type": "heatmapgl"
           }
          ],
          "histogram": [
           {
            "marker": {
             "pattern": {
              "fillmode": "overlay",
              "size": 10,
              "solidity": 0.2
             }
            },
            "type": "histogram"
           }
          ],
          "histogram2d": [
           {
            "colorbar": {
             "outlinewidth": 0,
             "ticks": ""
            },
            "colorscale": [
             [
              0,
              "#0d0887"
             ],
             [
              0.1111111111111111,
              "#46039f"
             ],
             [
              0.2222222222222222,
              "#7201a8"
             ],
             [
              0.3333333333333333,
              "#9c179e"
             ],
             [
              0.4444444444444444,
              "#bd3786"
             ],
             [
              0.5555555555555556,
              "#d8576b"
             ],
             [
              0.6666666666666666,
              "#ed7953"
             ],
             [
              0.7777777777777778,
              "#fb9f3a"
             ],
             [
              0.8888888888888888,
              "#fdca26"
             ],
             [
              1,
              "#f0f921"
             ]
            ],
            "type": "histogram2d"
           }
          ],
          "histogram2dcontour": [
           {
            "colorbar": {
             "outlinewidth": 0,
             "ticks": ""
            },
            "colorscale": [
             [
              0,
              "#0d0887"
             ],
             [
              0.1111111111111111,
              "#46039f"
             ],
             [
              0.2222222222222222,
              "#7201a8"
             ],
             [
              0.3333333333333333,
              "#9c179e"
             ],
             [
              0.4444444444444444,
              "#bd3786"
             ],
             [
              0.5555555555555556,
              "#d8576b"
             ],
             [
              0.6666666666666666,
              "#ed7953"
             ],
             [
              0.7777777777777778,
              "#fb9f3a"
             ],
             [
              0.8888888888888888,
              "#fdca26"
             ],
             [
              1,
              "#f0f921"
             ]
            ],
            "type": "histogram2dcontour"
           }
          ],
          "mesh3d": [
           {
            "colorbar": {
             "outlinewidth": 0,
             "ticks": ""
            },
            "type": "mesh3d"
           }
          ],
          "parcoords": [
           {
            "line": {
             "colorbar": {
              "outlinewidth": 0,
              "ticks": ""
             }
            },
            "type": "parcoords"
           }
          ],
          "pie": [
           {
            "automargin": true,
            "type": "pie"
           }
          ],
          "scatter": [
           {
            "fillpattern": {
             "fillmode": "overlay",
             "size": 10,
             "solidity": 0.2
            },
            "type": "scatter"
           }
          ],
          "scatter3d": [
           {
            "line": {
             "colorbar": {
              "outlinewidth": 0,
              "ticks": ""
             }
            },
            "marker": {
             "colorbar": {
              "outlinewidth": 0,
              "ticks": ""
             }
            },
            "type": "scatter3d"
           }
          ],
          "scattercarpet": [
           {
            "marker": {
             "colorbar": {
              "outlinewidth": 0,
              "ticks": ""
             }
            },
            "type": "scattercarpet"
           }
          ],
          "scattergeo": [
           {
            "marker": {
             "colorbar": {
              "outlinewidth": 0,
              "ticks": ""
             }
            },
            "type": "scattergeo"
           }
          ],
          "scattergl": [
           {
            "marker": {
             "colorbar": {
              "outlinewidth": 0,
              "ticks": ""
             }
            },
            "type": "scattergl"
           }
          ],
          "scattermapbox": [
           {
            "marker": {
             "colorbar": {
              "outlinewidth": 0,
              "ticks": ""
             }
            },
            "type": "scattermapbox"
           }
          ],
          "scatterpolar": [
           {
            "marker": {
             "colorbar": {
              "outlinewidth": 0,
              "ticks": ""
             }
            },
            "type": "scatterpolar"
           }
          ],
          "scatterpolargl": [
           {
            "marker": {
             "colorbar": {
              "outlinewidth": 0,
              "ticks": ""
             }
            },
            "type": "scatterpolargl"
           }
          ],
          "scatterternary": [
           {
            "marker": {
             "colorbar": {
              "outlinewidth": 0,
              "ticks": ""
             }
            },
            "type": "scatterternary"
           }
          ],
          "surface": [
           {
            "colorbar": {
             "outlinewidth": 0,
             "ticks": ""
            },
            "colorscale": [
             [
              0,
              "#0d0887"
             ],
             [
              0.1111111111111111,
              "#46039f"
             ],
             [
              0.2222222222222222,
              "#7201a8"
             ],
             [
              0.3333333333333333,
              "#9c179e"
             ],
             [
              0.4444444444444444,
              "#bd3786"
             ],
             [
              0.5555555555555556,
              "#d8576b"
             ],
             [
              0.6666666666666666,
              "#ed7953"
             ],
             [
              0.7777777777777778,
              "#fb9f3a"
             ],
             [
              0.8888888888888888,
              "#fdca26"
             ],
             [
              1,
              "#f0f921"
             ]
            ],
            "type": "surface"
           }
          ],
          "table": [
           {
            "cells": {
             "fill": {
              "color": "#EBF0F8"
             },
             "line": {
              "color": "white"
             }
            },
            "header": {
             "fill": {
              "color": "#C8D4E3"
             },
             "line": {
              "color": "white"
             }
            },
            "type": "table"
           }
          ]
         },
         "layout": {
          "annotationdefaults": {
           "arrowcolor": "#2a3f5f",
           "arrowhead": 0,
           "arrowwidth": 1
          },
          "autotypenumbers": "strict",
          "coloraxis": {
           "colorbar": {
            "outlinewidth": 0,
            "ticks": ""
           }
          },
          "colorscale": {
           "diverging": [
            [
             0,
             "#8e0152"
            ],
            [
             0.1,
             "#c51b7d"
            ],
            [
             0.2,
             "#de77ae"
            ],
            [
             0.3,
             "#f1b6da"
            ],
            [
             0.4,
             "#fde0ef"
            ],
            [
             0.5,
             "#f7f7f7"
            ],
            [
             0.6,
             "#e6f5d0"
            ],
            [
             0.7,
             "#b8e186"
            ],
            [
             0.8,
             "#7fbc41"
            ],
            [
             0.9,
             "#4d9221"
            ],
            [
             1,
             "#276419"
            ]
           ],
           "sequential": [
            [
             0,
             "#0d0887"
            ],
            [
             0.1111111111111111,
             "#46039f"
            ],
            [
             0.2222222222222222,
             "#7201a8"
            ],
            [
             0.3333333333333333,
             "#9c179e"
            ],
            [
             0.4444444444444444,
             "#bd3786"
            ],
            [
             0.5555555555555556,
             "#d8576b"
            ],
            [
             0.6666666666666666,
             "#ed7953"
            ],
            [
             0.7777777777777778,
             "#fb9f3a"
            ],
            [
             0.8888888888888888,
             "#fdca26"
            ],
            [
             1,
             "#f0f921"
            ]
           ],
           "sequentialminus": [
            [
             0,
             "#0d0887"
            ],
            [
             0.1111111111111111,
             "#46039f"
            ],
            [
             0.2222222222222222,
             "#7201a8"
            ],
            [
             0.3333333333333333,
             "#9c179e"
            ],
            [
             0.4444444444444444,
             "#bd3786"
            ],
            [
             0.5555555555555556,
             "#d8576b"
            ],
            [
             0.6666666666666666,
             "#ed7953"
            ],
            [
             0.7777777777777778,
             "#fb9f3a"
            ],
            [
             0.8888888888888888,
             "#fdca26"
            ],
            [
             1,
             "#f0f921"
            ]
           ]
          },
          "colorway": [
           "#636efa",
           "#EF553B",
           "#00cc96",
           "#ab63fa",
           "#FFA15A",
           "#19d3f3",
           "#FF6692",
           "#B6E880",
           "#FF97FF",
           "#FECB52"
          ],
          "font": {
           "color": "#2a3f5f"
          },
          "geo": {
           "bgcolor": "white",
           "lakecolor": "white",
           "landcolor": "#E5ECF6",
           "showlakes": true,
           "showland": true,
           "subunitcolor": "white"
          },
          "hoverlabel": {
           "align": "left"
          },
          "hovermode": "closest",
          "mapbox": {
           "style": "light"
          },
          "paper_bgcolor": "white",
          "plot_bgcolor": "#E5ECF6",
          "polar": {
           "angularaxis": {
            "gridcolor": "white",
            "linecolor": "white",
            "ticks": ""
           },
           "bgcolor": "#E5ECF6",
           "radialaxis": {
            "gridcolor": "white",
            "linecolor": "white",
            "ticks": ""
           }
          },
          "scene": {
           "xaxis": {
            "backgroundcolor": "#E5ECF6",
            "gridcolor": "white",
            "gridwidth": 2,
            "linecolor": "white",
            "showbackground": true,
            "ticks": "",
            "zerolinecolor": "white"
           },
           "yaxis": {
            "backgroundcolor": "#E5ECF6",
            "gridcolor": "white",
            "gridwidth": 2,
            "linecolor": "white",
            "showbackground": true,
            "ticks": "",
            "zerolinecolor": "white"
           },
           "zaxis": {
            "backgroundcolor": "#E5ECF6",
            "gridcolor": "white",
            "gridwidth": 2,
            "linecolor": "white",
            "showbackground": true,
            "ticks": "",
            "zerolinecolor": "white"
           }
          },
          "shapedefaults": {
           "line": {
            "color": "#2a3f5f"
           }
          },
          "ternary": {
           "aaxis": {
            "gridcolor": "white",
            "linecolor": "white",
            "ticks": ""
           },
           "baxis": {
            "gridcolor": "white",
            "linecolor": "white",
            "ticks": ""
           },
           "bgcolor": "#E5ECF6",
           "caxis": {
            "gridcolor": "white",
            "linecolor": "white",
            "ticks": ""
           }
          },
          "title": {
           "x": 0.05
          },
          "xaxis": {
           "automargin": true,
           "gridcolor": "white",
           "linecolor": "white",
           "ticks": "",
           "title": {
            "standoff": 15
           },
           "zerolinecolor": "white",
           "zerolinewidth": 2
          },
          "yaxis": {
           "automargin": true,
           "gridcolor": "white",
           "linecolor": "white",
           "ticks": "",
           "title": {
            "standoff": 15
           },
           "zerolinecolor": "white",
           "zerolinewidth": 2
          }
         }
        },
        "width": 900,
        "xaxis": {
         "autorange": true,
         "gridcolor": "#1f292f",
         "nticks": 5,
         "range": [
          -0.5,
          99.5
         ],
         "rangeslider": {
          "visible": false,
          "yaxis": {}
         },
         "type": "category"
        },
        "yaxis": {
         "autorange": true,
         "gridcolor": "#1f292f",
         "range": [
          1.1975122222222223,
          1.2192677777777778
         ]
        }
       }
      },
      "image/png": "[encoded data removed]",
      "text/html": [
       "<div>                            <div id=\"b143f6fb-2a17-4288-8e62-c18347fba9eb\" class=\"plotly-graph-div\" style=\"height:400px; width:900px;\"></div>            <script type=\"text/javascript\">                require([\"plotly\"], function(Plotly) {                    window.PLOTLYENV=window.PLOTLYENV || {};                                    if (document.getElementById(\"b143f6fb-2a17-4288-8e62-c18347fba9eb\")) {                    Plotly.newPlot(                        \"b143f6fb-2a17-4288-8e62-c18347fba9eb\",                        [{\"close\":[1.20717,1.20768,1.20968,1.21032,1.21082,1.20998,1.20807,1.20892,1.20859,1.20792,1.20728,1.20584,1.20818,1.20709,1.20916,1.20786,1.20728,1.20748,1.20678,1.20903,1.21258,1.21419,1.21319,1.21156,1.21226,1.21178,1.21199,1.21221,1.21171,1.20952,1.20838,1.20268,1.202,1.2034,1.20212,1.20475,1.20431,1.20529,1.20638,1.20557,1.20407,1.20034,1.20257,1.20174,1.20133,1.20197,1.20225,1.19968,1.1997,1.1994,1.20048,1.20002,1.20025,1.20395,1.20571,1.20499,1.20653,1.20636,1.20637,1.20876,1.2129,1.21511,1.21632,1.21616,1.21516,1.21712,1.21712,1.2159,1.21288,1.2128,1.21417,1.21624,1.21683,1.21638,1.21483,1.21382,1.21204,1.21345,1.213,1.20664,1.20726,1.2082,1.20783,1.20624,1.20816,1.20797,1.2079,1.20753,1.20858,1.21252,1.21296,1.2137,1.21457,1.2134,1.21299,1.21481,1.214,1.2156,1.215,1.21564],\"decreasing\":{\"fillcolor\":\"#CC2E3C\",\"line\":{\"color\":\"#FF3A4C\"}},\"high\":[1.20757,1.20774,1.21002,1.21054,1.2117,1.21156,1.21097,1.20898,1.20936,1.20895,1.20812,1.20804,1.20926,1.20904,1.2093,1.2093,1.2085,1.20798,1.20772,1.21027,1.21348,1.2142,1.215,1.21368,1.21358,1.21268,1.21294,1.21262,1.21267,1.212,1.20982,1.2092,1.20304,1.20346,1.20354,1.20496,1.20578,1.20763,1.20672,1.20652,1.20564,1.20408,1.20306,1.20357,1.20236,1.20208,1.20266,1.20225,1.202,1.2012,1.20062,1.20098,1.20118,1.20448,1.20606,1.20717,1.20653,1.20698,1.20693,1.20908,1.21464,1.21652,1.21716,1.21789,1.21632,1.21754,1.21744,1.21784,1.21596,1.21429,1.21496,1.21645,1.21715,1.21818,1.21647,1.2151,1.21382,1.21439,1.21468,1.21524,1.20826,1.20845,1.20888,1.21062,1.20942,1.21002,1.20872,1.20845,1.2088,1.21295,1.21375,1.21478,1.2147,1.21512,1.21388,1.215,1.2169,1.21577,1.21615,1.2159],\"increasing\":{\"fillcolor\":\"#24A06B\",\"line\":{\"color\":\"#2EC886\"}},\"line\":{\"width\":1},\"low\":[1.20491,1.20462,1.20743,1.20888,1.21032,1.20888,1.20766,1.20612,1.20832,1.20748,1.20652,1.20574,1.20569,1.20692,1.20706,1.20782,1.20724,1.20561,1.20617,1.20568,1.20657,1.21229,1.2124,1.21112,1.2114,1.21024,1.21127,1.21178,1.21154,1.20944,1.20774,1.2024,1.20168,1.20202,1.20171,1.20132,1.20418,1.20426,1.20515,1.20531,1.20371,1.20022,1.1999,1.20016,1.20093,1.20099,1.2018,1.1986,1.19916,1.1992,1.19912,1.2,1.19932,1.2002,1.20363,1.20442,1.20482,1.20596,1.20595,1.2053,1.20582,1.21022,1.21498,1.216,1.2151,1.21368,1.21568,1.21526,1.21278,1.2126,1.21264,1.2123,1.21538,1.2148,1.2145,1.21372,1.21156,1.212,1.2072,1.20656,1.20656,1.20704,1.20718,1.20514,1.20601,1.20644,1.20621,1.2071,1.20729,1.20843,1.2103,1.21242,1.2134,1.21322,1.2129,1.21262,1.21346,1.2138,1.21496,1.21508],\"opacity\":1,\"open\":[1.2059,1.20716,1.20766,1.20926,1.21032,1.21084,1.20997,1.20808,1.2089,1.20865,1.20794,1.20729,1.20584,1.20817,1.2071,1.20898,1.20784,1.2073,1.20747,1.2068,1.20901,1.21252,1.21422,1.21318,1.21157,1.21225,1.21177,1.21199,1.21222,1.2117,1.20954,1.20839,1.20268,1.2033,1.20341,1.20213,1.20473,1.2043,1.2053,1.20648,1.20558,1.20406,1.20032,1.20259,1.20172,1.20141,1.20198,1.20224,1.19966,1.19969,1.19938,1.20038,1.20002,1.20024,1.20397,1.2057,1.20498,1.2061,1.20635,1.20636,1.20875,1.21295,1.21512,1.2164,1.21617,1.21515,1.2171,1.21712,1.21592,1.21293,1.21282,1.21416,1.21626,1.21682,1.21639,1.21486,1.21381,1.21203,1.21346,1.21302,1.20662,1.20734,1.20819,1.20784,1.20625,1.20814,1.20798,1.20806,1.20752,1.20858,1.21253,1.21295,1.21369,1.21474,1.21339,1.21298,1.2148,1.21398,1.21561,1.21528],\"x\":[\"s21-04-23 09:00\",\"s21-04-23 13:00\",\"s21-04-23 17:00\",\"s21-04-25 21:00\",\"s21-04-26 01:00\",\"s21-04-26 05:00\",\"s21-04-26 09:00\",\"s21-04-26 13:00\",\"s21-04-26 17:00\",\"s21-04-26 21:00\",\"s21-04-27 01:00\",\"s21-04-27 05:00\",\"s21-04-27 09:00\",\"s21-04-27 13:00\",\"s21-04-27 17:00\",\"s21-04-27 21:00\",\"s21-04-28 01:00\",\"s21-04-28 05:00\",\"s21-04-28 09:00\",\"s21-04-28 13:00\",\"s21-04-28 17:00\",\"s21-04-28 21:00\",\"s21-04-29 01:00\",\"s21-04-29 05:00\",\"s21-04-29 09:00\",\"s21-04-29 13:00\",\"s21-04-29 17:00\",\"s21-04-29 21:00\",\"s21-04-30 01:00\",\"s21-04-30 05:00\",\"s21-04-30 09:00\",\"s21-04-30 13:00\",\"s21-04-30 17:00\",\"s21-05-02 21:00\",\"s21-05-03 01:00\",\"s21-05-03 05:00\",\"s21-05-03 09:00\",\"s21-05-03 13:00\",\"s21-05-03 17:00\",\"s21-05-03 21:00\",\"s21-05-04 01:00\",\"s21-05-04 05:00\",\"s21-05-04 09:00\",\"s21-05-04 13:00\",\"s21-05-04 17:00\",\"s21-05-04 21:00\",\"s21-05-05 01:00\",\"s21-05-05 05:00\",\"s21-05-05 09:00\",\"s21-05-05 13:00\",\"s21-05-05 17:00\",\"s21-05-05 21:00\",\"s21-05-06 01:00\",\"s21-05-06 05:00\",\"s21-05-06 09:00\",\"s21-05-06 13:00\",\"s21-05-06 17:00\",\"s21-05-06 21:00\",\"s21-05-07 01:00\",\"s21-05-07 05:00\",\"s21-05-07 09:00\",\"s21-05-07 13:00\",\"s21-05-07 17:00\",\"s21-05-09 21:00\",\"s21-05-10 01:00\",\"s21-05-10 05:00\",\"s21-05-10 09:00\",\"s21-05-10 13:00\",\"s21-05-10 17:00\",\"s21-05-10 21:00\",\"s21-05-11 01:00\",\"s21-05-11 05:00\",\"s21-05-11 09:00\",\"s21-05-11 13:00\",\"s21-05-11 17:00\",\"s21-05-11 21:00\",\"s21-05-12 01:00\",\"s21-05-12 05:00\",\"s21-05-12 09:00\",\"s21-05-12 13:00\",\"s21-05-12 17:00\",\"s21-05-12 21:00\",\"s21-05-13 01:00\",\"s21-05-13 05:00\",\"s21-05-13 09:00\",\"s21-05-13 13:00\",\"s21-05-13 17:00\",\"s21-05-13 21:00\",\"s21-05-14 01:00\",\"s21-05-14 05:00\",\"s21-05-14 09:00\",\"s21-05-14 13:00\",\"s21-05-14 17:00\",\"s21-05-16 21:00\",\"s21-05-17 01:00\",\"s21-05-17 05:00\",\"s21-05-17 09:00\",\"s21-05-17 13:00\",\"s21-05-17 17:00\",\"s21-05-17 21:00\"],\"type\":\"candlestick\"}],                        {\"template\":{\"data\":{\"histogram2dcontour\":[{\"type\":\"histogram2dcontour\",\"colorbar\":{\"outlinewidth\":0,\"ticks\":\"\"},\"colorscale\":[[0.0,\"#0d0887\"],[0.1111111111111111,\"#46039f\"],[0.2222222222222222,\"#7201a8\"],[0.3333333333333333,\"#9c179e\"],[0.4444444444444444,\"#bd3786\"],[0.5555555555555556,\"#d8576b\"],[0.6666666666666666,\"#ed7953\"],[0.7777777777777778,\"#fb9f3a\"],[0.8888888888888888,\"#fdca26\"],[1.0,\"#f0f921\"]]}],\"choropleth\":[{\"type\":\"choropleth\",\"colorbar\":{\"outlinewidth\":0,\"ticks\":\"\"}}],\"histogram2d\":[{\"type\":\"histogram2d\",\"colorbar\":{\"outlinewidth\":0,\"ticks\":\"\"},\"colorscale\":[[0.0,\"#0d0887\"],[0.1111111111111111,\"#46039f\"],[0.2222222222222222,\"#7201a8\"],[0.3333333333333333,\"#9c179e\"],[0.4444444444444444,\"#bd3786\"],[0.5555555555555556,\"#d8576b\"],[0.6666666666666666,\"#ed7953\"],[0.7777777777777778,\"#fb9f3a\"],[0.8888888888888888,\"#fdca26\"],[1.0,\"#f0f921\"]]}],\"heatmap\":[{\"type\":\"heatmap\",\"colorbar\":{\"outlinewidth\":0,\"ticks\":\"\"},\"colorscale\":[[0.0,\"#0d0887\"],[0.1111111111111111,\"#46039f\"],[0.2222222222222222,\"#7201a8\"],[0.3333333333333333,\"#9c179e\"],[0.4444444444444444,\"#bd3786\"],[0.5555555555555556,\"#d8576b\"],[0.6666666666666666,\"#ed7953\"],[0.7777777777777778,\"#fb9f3a\"],[0.8888888888888888,\"#fdca26\"],[1.0,\"#f0f921\"]]}],\"heatmapgl\":[{\"type\":\"heatmapgl\",\"colorbar\":{\"outlinewidth\":0,\"ticks\":\"\"},\"colorscale\":[[0.0,\"#0d0887\"],[0.1111111111111111,\"#46039f\"],[0.2222222222222222,\"#7201a8\"],[0.3333333333333333,\"#9c179e\"],[0.4444444444444444,\"#bd3786\"],[0.5555555555555556,\"#d8576b\"],[0.6666666666666666,\"#ed7953\"],[0.7777777777777778,\"#fb9f3a\"],[0.8888888888888888,\"#fdca26\"],[1.0,\"#f0f921\"]]}],\"contourcarpet\":[{\"type\":\"contourcarpet\",\"colorbar\":{\"outlinewidth\":0,\"ticks\":\"\"}}],\"contour\":[{\"type\":\"contour\",\"colorbar\":{\"outlinewidth\":0,\"ticks\":\"\"},\"colorscale\":[[0.0,\"#0d0887\"],[0.1111111111111111,\"#46039f\"],[0.2222222222222222,\"#7201a8\"],[0.3333333333333333,\"#9c179e\"],[0.4444444444444444,\"#bd3786\"],[0.5555555555555556,\"#d8576b\"],[0.6666666666666666,\"#ed7953\"],[0.7777777777777778,\"#fb9f3a\"],[0.8888888888888888,\"#fdca26\"],[1.0,\"#f0f921\"]]}],\"surface\":[{\"type\":\"surface\",\"colorbar\":{\"outlinewidth\":0,\"ticks\":\"\"},\"colorscale\":[[0.0,\"#0d0887\"],[0.1111111111111111,\"#46039f\"],[0.2222222222222222,\"#7201a8\"],[0.3333333333333333,\"#9c179e\"],[0.4444444444444444,\"#bd3786\"],[0.5555555555555556,\"#d8576b\"],[0.6666666666666666,\"#ed7953\"],[0.7777777777777778,\"#fb9f3a\"],[0.8888888888888888,\"#fdca26\"],[1.0,\"#f0f921\"]]}],\"mesh3d\":[{\"type\":\"mesh3d\",\"colorbar\":{\"outlinewidth\":0,\"ticks\":\"\"}}],\"scatter\":[{\"fillpattern\":{\"fillmode\":\"overlay\",\"size\":10,\"solidity\":0.2},\"type\":\"scatter\"}],\"parcoords\":[{\"type\":\"parcoords\",\"line\":{\"colorbar\":{\"outlinewidth\":0,\"ticks\":\"\"}}}],\"scatterpolargl\":[{\"type\":\"scatterpolargl\",\"marker\":{\"colorbar\":{\"outlinewidth\":0,\"ticks\":\"\"}}}],\"bar\":[{\"error_x\":{\"color\":\"#2a3f5f\"},\"error_y\":{\"color\":\"#2a3f5f\"},\"marker\":{\"line\":{\"color\":\"#E5ECF6\",\"width\":0.5},\"pattern\":{\"fillmode\":\"overlay\",\"size\":10,\"solidity\":0.2}},\"type\":\"bar\"}],\"scattergeo\":[{\"type\":\"scattergeo\",\"marker\":{\"colorbar\":{\"outlinewidth\":0,\"ticks\":\"\"}}}],\"scatterpolar\":[{\"type\":\"scatterpolar\",\"marker\":{\"colorbar\":{\"outlinewidth\":0,\"ticks\":\"\"}}}],\"histogram\":[{\"marker\":{\"pattern\":{\"fillmode\":\"overlay\",\"size\":10,\"solidity\":0.2}},\"type\":\"histogram\"}],\"scattergl\":[{\"type\":\"scattergl\",\"marker\":{\"colorbar\":{\"outlinewidth\":0,\"ticks\":\"\"}}}],\"scatter3d\":[{\"type\":\"scatter3d\",\"line\":{\"colorbar\":{\"outlinewidth\":0,\"ticks\":\"\"}},\"marker\":{\"colorbar\":{\"outlinewidth\":0,\"ticks\":\"\"}}}],\"scattermapbox\":[{\"type\":\"scattermapbox\",\"marker\":{\"colorbar\":{\"outlinewidth\":0,\"ticks\":\"\"}}}],\"scatterternary\":[{\"type\":\"scatterternary\",\"marker\":{\"colorbar\":{\"outlinewidth\":0,\"ticks\":\"\"}}}],\"scattercarpet\":[{\"type\":\"scattercarpet\",\"marker\":{\"colorbar\":{\"outlinewidth\":0,\"ticks\":\"\"}}}],\"carpet\":[{\"aaxis\":{\"endlinecolor\":\"#2a3f5f\",\"gridcolor\":\"white\",\"linecolor\":\"white\",\"minorgridcolor\":\"white\",\"startlinecolor\":\"#2a3f5f\"},\"baxis\":{\"endlinecolor\":\"#2a3f5f\",\"gridcolor\":\"white\",\"linecolor\":\"white\",\"minorgridcolor\":\"white\",\"startlinecolor\":\"#2a3f5f\"},\"type\":\"carpet\"}],\"table\":[{\"cells\":{\"fill\":{\"color\":\"#EBF0F8\"},\"line\":{\"color\":\"white\"}},\"header\":{\"fill\":{\"color\":\"#C8D4E3\"},\"line\":{\"color\":\"white\"}},\"type\":\"table\"}],\"barpolar\":[{\"marker\":{\"line\":{\"color\":\"#E5ECF6\",\"width\":0.5},\"pattern\":{\"fillmode\":\"overlay\",\"size\":10,\"solidity\":0.2}},\"type\":\"barpolar\"}],\"pie\":[{\"automargin\":true,\"type\":\"pie\"}]},\"layout\":{\"autotypenumbers\":\"strict\",\"colorway\":[\"#636efa\",\"#EF553B\",\"#00cc96\",\"#ab63fa\",\"#FFA15A\",\"#19d3f3\",\"#FF6692\",\"#B6E880\",\"#FF97FF\",\"#FECB52\"],\"font\":{\"color\":\"#2a3f5f\"},\"hovermode\":\"closest\",\"hoverlabel\":{\"align\":\"left\"},\"paper_bgcolor\":\"white\",\"plot_bgcolor\":\"#E5ECF6\",\"polar\":{\"bgcolor\":\"#E5ECF6\",\"angularaxis\":{\"gridcolor\":\"white\",\"linecolor\":\"white\",\"ticks\":\"\"},\"radialaxis\":{\"gridcolor\":\"white\",\"linecolor\":\"white\",\"ticks\":\"\"}},\"ternary\":{\"bgcolor\":\"#E5ECF6\",\"aaxis\":{\"gridcolor\":\"white\",\"linecolor\":\"white\",\"ticks\":\"\"},\"baxis\":{\"gridcolor\":\"white\",\"linecolor\":\"white\",\"ticks\":\"\"},\"caxis\":{\"gridcolor\":\"white\",\"linecolor\":\"white\",\"ticks\":\"\"}},\"coloraxis\":{\"colorbar\":{\"outlinewidth\":0,\"ticks\":\"\"}},\"colorscale\":{\"sequential\":[[0.0,\"#0d0887\"],[0.1111111111111111,\"#46039f\"],[0.2222222222222222,\"#7201a8\"],[0.3333333333333333,\"#9c179e\"],[0.4444444444444444,\"#bd3786\"],[0.5555555555555556,\"#d8576b\"],[0.6666666666666666,\"#ed7953\"],[0.7777777777777778,\"#fb9f3a\"],[0.8888888888888888,\"#fdca26\"],[1.0,\"#f0f921\"]],\"sequentialminus\":[[0.0,\"#0d0887\"],[0.1111111111111111,\"#46039f\"],[0.2222222222222222,\"#7201a8\"],[0.3333333333333333,\"#9c179e\"],[0.4444444444444444,\"#bd3786\"],[0.5555555555555556,\"#d8576b\"],[0.6666666666666666,\"#ed7953\"],[0.7777777777777778,\"#fb9f3a\"],[0.8888888888888888,\"#fdca26\"],[1.0,\"#f0f921\"]],\"diverging\":[[0,\"#8e0152\"],[0.1,\"#c51b7d\"],[0.2,\"#de77ae\"],[0.3,\"#f1b6da\"],[0.4,\"#fde0ef\"],[0.5,\"#f7f7f7\"],[0.6,\"#e6f5d0\"],[0.7,\"#b8e186\"],[0.8,\"#7fbc41\"],[0.9,\"#4d9221\"],[1,\"#276419\"]]},\"xaxis\":{\"gridcolor\":\"white\",\"linecolor\":\"white\",\"ticks\":\"\",\"title\":{\"standoff\":15},\"zerolinecolor\":\"white\",\"automargin\":true,\"zerolinewidth\":2},\"yaxis\":{\"gridcolor\":\"white\",\"linecolor\":\"white\",\"ticks\":\"\",\"title\":{\"standoff\":15},\"zerolinecolor\":\"white\",\"automargin\":true,\"zerolinewidth\":2},\"scene\":{\"xaxis\":{\"backgroundcolor\":\"#E5ECF6\",\"gridcolor\":\"white\",\"linecolor\":\"white\",\"showbackground\":true,\"ticks\":\"\",\"zerolinecolor\":\"white\",\"gridwidth\":2},\"yaxis\":{\"backgroundcolor\":\"#E5ECF6\",\"gridcolor\":\"white\",\"linecolor\":\"white\",\"showbackground\":true,\"ticks\":\"\",\"zerolinecolor\":\"white\",\"gridwidth\":2},\"zaxis\":{\"backgroundcolor\":\"#E5ECF6\",\"gridcolor\":\"white\",\"linecolor\":\"white\",\"showbackground\":true,\"ticks\":\"\",\"zerolinecolor\":\"white\",\"gridwidth\":2}},\"shapedefaults\":{\"line\":{\"color\":\"#2a3f5f\"}},\"annotationdefaults\":{\"arrowcolor\":\"#2a3f5f\",\"arrowhead\":0,\"arrowwidth\":1},\"geo\":{\"bgcolor\":\"white\",\"landcolor\":\"#E5ECF6\",\"subunitcolor\":\"white\",\"showland\":true,\"showlakes\":true,\"lakecolor\":\"white\"},\"title\":{\"x\":0.05},\"mapbox\":{\"style\":\"light\"}}},\"yaxis\":{\"gridcolor\":\"#1f292f\"},\"xaxis\":{\"rangeslider\":{\"visible\":false},\"gridcolor\":\"#1f292f\",\"nticks\":5},\"margin\":{\"l\":10,\"r\":10,\"b\":10,\"t\":10},\"font\":{\"size\":8,\"color\":\"#e1e1e1\"},\"width\":900,\"height\":400,\"paper_bgcolor\":\"#2c303c\",\"plot_bgcolor\":\"#2c303c\"},                        {\"responsive\": true}                    ).then(function(){\n",
       "                            \n",
       "var gd = document.getElementById('b143f6fb-2a17-4288-8e62-c18347fba9eb');\n",
       "var x = new MutationObserver(function (mutations, observer) {{\n",
       "        var display = window.getComputedStyle(gd).display;\n",
       "        if (!display || display === 'none') {{\n",
       "            console.log([gd, 'removed!']);\n",
       "            Plotly.purge(gd);\n",
       "            observer.disconnect();\n",
       "        }}\n",
       "}});\n",
       "\n",
       "// Listen for the removal of the full notebook cells\n",
       "var notebookContainer = gd.closest('#notebook-container');\n",
       "if (notebookContainer) {{\n",
       "    x.observe(notebookContainer, {childList: true});\n",
       "}}\n",
       "\n",
       "// Listen for the clearing of the current output cell\n",
       "var outputEl = gd.closest('.output');\n",
       "if (outputEl) {{\n",
       "    x.observe(outputEl, {childList: true});\n",
       "}}\n",
       "\n",
       "                        })                };                });            </script>        </div>"
      ]
     },
     "metadata": {},
     "output_type": "display_data"
    }
   ],
   "source": [
    "fig = go.Figure()\n",
    "fig.add_trace(go.Candlestick(\n",
    "    x=df_plot.sTime,\n",
    "    open=df_plot.mid_o,\n",
    "    high=df_plot.mid_h,\n",
    "    low=df_plot.mid_l,\n",
    "    close=df_plot.mid_c,\n",
    "    line=dict(width=1), opacity=1,\n",
    "    increasing_fillcolor='#24A06B',\n",
    "    decreasing_fillcolor=\"#CC2E3C\",\n",
    "    increasing_line_color='#2EC886',  \n",
    "    decreasing_line_color='#FF3A4C'\n",
    "))\n",
    "\n",
    "fig.update_yaxes(\n",
    "    gridcolor=\"#1f292f\"\n",
    ")\n",
    "fig.update_xaxes(\n",
    "    gridcolor=\"#1f292f\",\n",
    "    rangeslider=dict(visible=False),\n",
    "    nticks=5\n",
    ")\n",
    "\n",
    "fig.update_layout(\n",
    "    width=900,\n",
    "    height=400,\n",
    "    margin=dict(l=10,r=10,b=10,t=10),\n",
    "    paper_bgcolor=\"#2c303c\",\n",
    "    plot_bgcolor=\"#2c303c\",\n",
    "    font=dict(size=8, color=\"#e1e1e1\")\n",
    ")\n",
    "\n",
    "fig.show()"
   ]
  },
  {
   "cell_type": "code",
   "execution_count": null,
   "id": "e82b7f77",
   "metadata": {},
   "outputs": [],
   "source": []
  },
  {
   "cell_type": "code",
   "execution_count": null,
   "id": "fdb6f2c5",
   "metadata": {},
   "outputs": [],
   "source": []
  },
  {
   "cell_type": "code",
   "execution_count": null,
   "id": "210c53e5",
   "metadata": {},
   "outputs": [],
   "source": []
  },
  {
   "cell_type": "code",
   "execution_count": null,
   "id": "1f25826c",
   "metadata": {},
   "outputs": [],
   "source": []
  },
  {
   "cell_type": "code",
   "execution_count": null,
   "id": "43f3bf12",
   "metadata": {},
   "outputs": [],
   "source": []
  },
  {
   "cell_type": "code",
   "execution_count": null,
   "id": "29ec4abb",
   "metadata": {},
   "outputs": [],
   "source": []
  }
 ],
 "metadata": {
  "kernelspec": {
   "display_name": "Python 3 (ipykernel)",
   "language": "python",
   "name": "python3"
  },
  "language_info": {
   "codemirror_mode": {
    "name": "ipython",
    "version": 3
   },
   "file_extension": ".py",
   "mimetype": "text/x-python",
   "name": "python",
   "nbconvert_exporter": "python",
   "pygments_lexer": "ipython3",
   "version": "3.10.9"
  }
 },
 "nbformat": 4,
 "nbformat_minor": 5
}
