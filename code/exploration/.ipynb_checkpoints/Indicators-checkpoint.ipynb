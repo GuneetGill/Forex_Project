{
 "cells": [
  {
   "cell_type": "code",
   "execution_count": 7,
   "id": "dae82e64",
   "metadata": {},
   "outputs": [],
   "source": [
    "import sys\n",
    "sys.path.append('../')\n",
    "from plotting import CandlePlot\n",
    "import pandas as pd"
   ]
  },
  {
   "cell_type": "code",
   "execution_count": 8,
   "id": "56cdab80",
   "metadata": {},
   "outputs": [],
   "source": [
    "from technicals.indicators import BollingerBands, ATR, KeltnerChannels, RSI, MACD"
   ]
  },
  {
   "cell_type": "code",
   "execution_count": 9,
   "id": "beef41a3",
   "metadata": {},
   "outputs": [],
   "source": [
    "df = pd.read_pickle(\"../data/AUD_CAD_H1.pkl\")"
   ]
  },
  {
   "cell_type": "code",
   "execution_count": 10,
   "id": "4bf91b0c",
   "metadata": {},
   "outputs": [],
   "source": [
    "df_an = df.copy()"
   ]
  },
  {
   "cell_type": "code",
   "execution_count": 11,
   "id": "4cbda831",
   "metadata": {},
   "outputs": [],
   "source": [
    "df_an = ATR(df, n=14)"
   ]
  },
  {
   "cell_type": "code",
   "execution_count": null,
   "id": "233ff434-54ac-40d2-b98e-1db0ede5d9a4",
   "metadata": {},
   "outputs": [],
   "source": []
  },
  {
   "cell_type": "code",
   "execution_count": 12,
   "id": "cc0e5a91-0b21-4d52-92c2-6307154cc62f",
   "metadata": {},
   "outputs": [
    {
     "ename": "TypeError",
     "evalue": "CandlePlot.show_plot() got an unexpected keyword argument 'sec_traces'",
     "output_type": "error",
     "traceback": [
      "\u001b[0;31m---------------------------------------------------------------------------\u001b[0m",
      "\u001b[0;31mTypeError\u001b[0m                                 Traceback (most recent call last)",
      "Cell \u001b[0;32mIn[12], line 3\u001b[0m\n\u001b[1;32m      1\u001b[0m dfp \u001b[38;5;241m=\u001b[39m df_an\u001b[38;5;241m.\u001b[39miloc[\u001b[38;5;241m-\u001b[39m\u001b[38;5;241m200\u001b[39m:]\n\u001b[1;32m      2\u001b[0m cp \u001b[38;5;241m=\u001b[39m CandlePlot(dfp, candles\u001b[38;5;241m=\u001b[39m\u001b[38;5;28;01mTrue\u001b[39;00m)\n\u001b[0;32m----> 3\u001b[0m \u001b[43mcp\u001b[49m\u001b[38;5;241;43m.\u001b[39;49m\u001b[43mshow_plot\u001b[49m\u001b[43m(\u001b[49m\u001b[43msec_traces\u001b[49m\u001b[38;5;241;43m=\u001b[39;49m\u001b[43m[\u001b[49m\u001b[38;5;124;43m'\u001b[39;49m\u001b[38;5;124;43mATR\u001b[39;49m\u001b[38;5;124;43m'\u001b[39;49m\u001b[43m]\u001b[49m\u001b[43m)\u001b[49m\n",
      "\u001b[0;31mTypeError\u001b[0m: CandlePlot.show_plot() got an unexpected keyword argument 'sec_traces'"
     ]
    }
   ],
   "source": [
    "dfp = df_an.iloc[-200:]\n",
    "cp = CandlePlot(dfp, candles=True)\n",
    "cp.show_plot(sec_traces=['ATR'])"
   ]
  },
  {
   "cell_type": "code",
   "execution_count": null,
   "id": "307e9a5b-1606-4ded-8b2f-44687fc27186",
   "metadata": {},
   "outputs": [],
   "source": []
  },
  {
   "cell_type": "code",
   "execution_count": null,
   "id": "92f180aa",
   "metadata": {},
   "outputs": [],
   "source": [
    "# df_an.tail()"
   ]
  },
  {
   "cell_type": "code",
   "execution_count": null,
   "id": "f5b7225d",
   "metadata": {},
   "outputs": [],
   "source": [
    "# dfp = df_an.iloc[-100:]\n",
    "# cp = CandlePlot(dfp, candles=True)\n",
    "# cp.show_plot(line_traces=[], sec_traces=[])"
   ]
  },
  {
   "cell_type": "code",
   "execution_count": null,
   "id": "2fbc028f",
   "metadata": {},
   "outputs": [],
   "source": [
    "# import plotly.graph_objects as go"
   ]
  },
  {
   "cell_type": "code",
   "execution_count": null,
   "id": "1e45762a",
   "metadata": {},
   "outputs": [],
   "source": [
    "# cp = CandlePlot(dfp, candles=False)\n",
    "# cp.fig.add_trace(go.Bar(\n",
    "#     x=cp.df_plot.sTime,\n",
    "#     y=cp.df_plot.HIST,\n",
    "#     name=\"HIST\"\n",
    "# ))\n",
    "# cp.show_plot(line_traces=['SIGNAL', 'MACD'], sec_traces=[])"
   ]
  },
  {
   "cell_type": "code",
   "execution_count": null,
   "id": "8b836ece",
   "metadata": {},
   "outputs": [],
   "source": []
  },
  {
   "cell_type": "code",
   "execution_count": null,
   "id": "a70408e6",
   "metadata": {},
   "outputs": [],
   "source": []
  },
  {
   "cell_type": "code",
   "execution_count": null,
   "id": "b1d1d8e5",
   "metadata": {},
   "outputs": [],
   "source": []
  }
 ],
 "metadata": {
  "kernelspec": {
   "display_name": "Python 3 (ipykernel)",
   "language": "python",
   "name": "python3"
  },
  "language_info": {
   "codemirror_mode": {
    "name": "ipython",
    "version": 3
   },
   "file_extension": ".py",
   "mimetype": "text/x-python",
   "name": "python",
   "nbconvert_exporter": "python",
   "pygments_lexer": "ipython3",
   "version": "3.10.9"
  }
 },
 "nbformat": 4,
 "nbformat_minor": 5
}
