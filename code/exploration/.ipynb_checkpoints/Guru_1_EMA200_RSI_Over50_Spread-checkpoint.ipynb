{
 "cells": [
  {
   "cell_type": "code",
   "execution_count": 45,
   "id": "d45bb3a8",
   "metadata": {},
   "outputs": [],
   "source": [
    "import sys\n",
    "sys.path.append(\"../\")"
   ]
  },
  {
   "cell_type": "code",
   "execution_count": 46,
   "id": "2276616b",
   "metadata": {},
   "outputs": [],
   "source": [
    "import pandas as pd\n",
    "import datetime as dt\n",
    "import plotly.graph_objects as go\n",
    "from technicals.indicators import RSI\n",
    "from technicals.patterns import apply_patterns\n",
    "from plotting import CandlePlot"
   ]
  },
  {
   "cell_type": "code",
   "execution_count": 47,
   "id": "5979a5ce",
   "metadata": {},
   "outputs": [],
   "source": [
    "df_raw = pd.read_pickle(\"../data/EUR_USD_H1.pkl\")"
   ]
  },
  {
   "cell_type": "code",
   "execution_count": 48,
   "id": "e55a7c2d",
   "metadata": {},
   "outputs": [
    {
     "data": {
      "text/plain": [
       "(37216, 14)"
      ]
     },
     "execution_count": 48,
     "metadata": {},
     "output_type": "execute_result"
    }
   ],
   "source": [
    "df_raw.shape"
   ]
  },
  {
   "cell_type": "code",
   "execution_count": 49,
   "id": "9f383be9",
   "metadata": {},
   "outputs": [],
   "source": [
    "df_an = df_raw.copy()#df_raw.iloc[-6000:].copy()\n",
    "df_an.reset_index(drop=True, inplace=True)"
   ]
  },
  {
   "cell_type": "code",
   "execution_count": 50,
   "id": "0cf825ed",
   "metadata": {},
   "outputs": [
    {
     "data": {
      "text/plain": [
       "(37216, 14)"
      ]
     },
     "execution_count": 50,
     "metadata": {},
     "output_type": "execute_result"
    }
   ],
   "source": [
    "df_an.shape"
   ]
  },
  {
   "cell_type": "code",
   "execution_count": 51,
   "id": "61d8e122",
   "metadata": {},
   "outputs": [],
   "source": [
    "df_an = RSI(df_an)"
   ]
  },
  {
   "cell_type": "code",
   "execution_count": 52,
   "id": "95780bfb",
   "metadata": {},
   "outputs": [
    {
     "data": {
      "text/html": [
       "<div>\n",
       "<style scoped>\n",
       "    .dataframe tbody tr th:only-of-type {\n",
       "        vertical-align: middle;\n",
       "    }\n",
       "\n",
       "    .dataframe tbody tr th {\n",
       "        vertical-align: top;\n",
       "    }\n",
       "\n",
       "    .dataframe thead th {\n",
       "        text-align: right;\n",
       "    }\n",
       "</style>\n",
       "<table border=\"1\" class=\"dataframe\">\n",
       "  <thead>\n",
       "    <tr style=\"text-align: right;\">\n",
       "      <th></th>\n",
       "      <th>time</th>\n",
       "      <th>volume</th>\n",
       "      <th>mid_o</th>\n",
       "      <th>mid_h</th>\n",
       "      <th>mid_l</th>\n",
       "      <th>mid_c</th>\n",
       "      <th>bid_o</th>\n",
       "      <th>bid_h</th>\n",
       "      <th>bid_l</th>\n",
       "      <th>bid_c</th>\n",
       "      <th>ask_o</th>\n",
       "      <th>ask_h</th>\n",
       "      <th>ask_l</th>\n",
       "      <th>ask_c</th>\n",
       "      <th>RSI_14</th>\n",
       "    </tr>\n",
       "  </thead>\n",
       "  <tbody>\n",
       "    <tr>\n",
       "      <th>37211</th>\n",
       "      <td>2022-12-30 17:00:00+00:00</td>\n",
       "      <td>6469</td>\n",
       "      <td>1.06966</td>\n",
       "      <td>1.07116</td>\n",
       "      <td>1.06964</td>\n",
       "      <td>1.07113</td>\n",
       "      <td>1.06960</td>\n",
       "      <td>1.07108</td>\n",
       "      <td>1.06957</td>\n",
       "      <td>1.07105</td>\n",
       "      <td>1.06973</td>\n",
       "      <td>1.07125</td>\n",
       "      <td>1.06971</td>\n",
       "      <td>1.07121</td>\n",
       "      <td>66.029779</td>\n",
       "    </tr>\n",
       "    <tr>\n",
       "      <th>37212</th>\n",
       "      <td>2022-12-30 18:00:00+00:00</td>\n",
       "      <td>7963</td>\n",
       "      <td>1.07118</td>\n",
       "      <td>1.07133</td>\n",
       "      <td>1.07005</td>\n",
       "      <td>1.07024</td>\n",
       "      <td>1.07110</td>\n",
       "      <td>1.07126</td>\n",
       "      <td>1.06996</td>\n",
       "      <td>1.07015</td>\n",
       "      <td>1.07127</td>\n",
       "      <td>1.07141</td>\n",
       "      <td>1.07013</td>\n",
       "      <td>1.07032</td>\n",
       "      <td>62.011386</td>\n",
       "    </tr>\n",
       "    <tr>\n",
       "      <th>37213</th>\n",
       "      <td>2022-12-30 19:00:00+00:00</td>\n",
       "      <td>4894</td>\n",
       "      <td>1.07026</td>\n",
       "      <td>1.07095</td>\n",
       "      <td>1.06952</td>\n",
       "      <td>1.06999</td>\n",
       "      <td>1.07017</td>\n",
       "      <td>1.07087</td>\n",
       "      <td>1.06943</td>\n",
       "      <td>1.06991</td>\n",
       "      <td>1.07034</td>\n",
       "      <td>1.07103</td>\n",
       "      <td>1.06961</td>\n",
       "      <td>1.07007</td>\n",
       "      <td>60.890411</td>\n",
       "    </tr>\n",
       "    <tr>\n",
       "      <th>37214</th>\n",
       "      <td>2022-12-30 20:00:00+00:00</td>\n",
       "      <td>4719</td>\n",
       "      <td>1.06997</td>\n",
       "      <td>1.07084</td>\n",
       "      <td>1.06923</td>\n",
       "      <td>1.07055</td>\n",
       "      <td>1.06989</td>\n",
       "      <td>1.07076</td>\n",
       "      <td>1.06915</td>\n",
       "      <td>1.07045</td>\n",
       "      <td>1.07005</td>\n",
       "      <td>1.07093</td>\n",
       "      <td>1.06931</td>\n",
       "      <td>1.07065</td>\n",
       "      <td>62.524605</td>\n",
       "    </tr>\n",
       "    <tr>\n",
       "      <th>37215</th>\n",
       "      <td>2022-12-30 21:00:00+00:00</td>\n",
       "      <td>2633</td>\n",
       "      <td>1.07054</td>\n",
       "      <td>1.07076</td>\n",
       "      <td>1.06974</td>\n",
       "      <td>1.07039</td>\n",
       "      <td>1.07045</td>\n",
       "      <td>1.07068</td>\n",
       "      <td>1.06924</td>\n",
       "      <td>1.06989</td>\n",
       "      <td>1.07064</td>\n",
       "      <td>1.07094</td>\n",
       "      <td>1.07015</td>\n",
       "      <td>1.07089</td>\n",
       "      <td>61.730935</td>\n",
       "    </tr>\n",
       "  </tbody>\n",
       "</table>\n",
       "</div>"
      ],
      "text/plain": [
       "                           time  volume    mid_o    mid_h    mid_l    mid_c  \\\n",
       "37211 2022-12-30 17:00:00+00:00    6469  1.06966  1.07116  1.06964  1.07113   \n",
       "37212 2022-12-30 18:00:00+00:00    7963  1.07118  1.07133  1.07005  1.07024   \n",
       "37213 2022-12-30 19:00:00+00:00    4894  1.07026  1.07095  1.06952  1.06999   \n",
       "37214 2022-12-30 20:00:00+00:00    4719  1.06997  1.07084  1.06923  1.07055   \n",
       "37215 2022-12-30 21:00:00+00:00    2633  1.07054  1.07076  1.06974  1.07039   \n",
       "\n",
       "         bid_o    bid_h    bid_l    bid_c    ask_o    ask_h    ask_l    ask_c  \\\n",
       "37211  1.06960  1.07108  1.06957  1.07105  1.06973  1.07125  1.06971  1.07121   \n",
       "37212  1.07110  1.07126  1.06996  1.07015  1.07127  1.07141  1.07013  1.07032   \n",
       "37213  1.07017  1.07087  1.06943  1.06991  1.07034  1.07103  1.06961  1.07007   \n",
       "37214  1.06989  1.07076  1.06915  1.07045  1.07005  1.07093  1.06931  1.07065   \n",
       "37215  1.07045  1.07068  1.06924  1.06989  1.07064  1.07094  1.07015  1.07089   \n",
       "\n",
       "          RSI_14  \n",
       "37211  66.029779  \n",
       "37212  62.011386  \n",
       "37213  60.890411  \n",
       "37214  62.524605  \n",
       "37215  61.730935  "
      ]
     },
     "execution_count": 52,
     "metadata": {},
     "output_type": "execute_result"
    }
   ],
   "source": [
    "df_an.tail()"
   ]
  },
  {
   "cell_type": "code",
   "execution_count": 53,
   "id": "23769d23",
   "metadata": {},
   "outputs": [],
   "source": [
    "df_an = apply_patterns(df_an)"
   ]
  },
  {
   "cell_type": "code",
   "execution_count": 54,
   "id": "8ac55bc7",
   "metadata": {},
   "outputs": [],
   "source": [
    "df_an['EMA_200'] = df_an.mid_c.ewm(span=200, min_periods=200).mean()"
   ]
  },
  {
   "cell_type": "code",
   "execution_count": 55,
   "id": "f2498b85",
   "metadata": {},
   "outputs": [
    {
     "data": {
      "text/plain": [
       "Index(['time', 'volume', 'mid_o', 'mid_h', 'mid_l', 'mid_c', 'bid_o', 'bid_h',\n",
       "       'bid_l', 'bid_c', 'ask_o', 'ask_h', 'ask_l', 'ask_c', 'RSI_14',\n",
       "       'body_lower', 'body_upper', 'body_bottom_perc', 'body_top_perc',\n",
       "       'body_perc', 'direction', 'body_size', 'low_change', 'high_change',\n",
       "       'body_size_change', 'mid_point', 'mid_point_prev_2', 'body_size_prev',\n",
       "       'direction_prev', 'direction_prev_2', 'body_perc_prev',\n",
       "       'body_perc_prev_2', 'HANGING_MAN', 'SHOOTING_STAR', 'SPINNING_TOP',\n",
       "       'MARUBOZU', 'ENGULFING', 'TWEEZER_TOP', 'TWEEZER_BOTTOM',\n",
       "       'MORNING_STAR', 'EVENING_STAR', 'EMA_200'],\n",
       "      dtype='object')"
      ]
     },
     "execution_count": 55,
     "metadata": {},
     "output_type": "execute_result"
    }
   ],
   "source": [
    "df_an.columns"
   ]
  },
  {
   "cell_type": "code",
   "execution_count": 56,
   "id": "881c992e",
   "metadata": {},
   "outputs": [],
   "source": [
    "our_cols = ['time', 'mid_o', 'mid_h', 'mid_l', 'mid_c',\n",
    "            'bid_o', 'bid_h','bid_l', 'bid_c', \n",
    "            'ask_o', 'ask_h', 'ask_l', 'ask_c',\n",
    "                 'ENGULFING', 'direction', 'EMA_200', 'RSI_14' ]"
   ]
  },
  {
   "cell_type": "code",
   "execution_count": 57,
   "id": "c65c943c",
   "metadata": {},
   "outputs": [],
   "source": [
    "df_slim = df_an[our_cols].copy()\n",
    "df_slim.dropna(inplace=True)\n",
    "df_slim.reset_index(drop=True, inplace=True)"
   ]
  },
  {
   "cell_type": "code",
   "execution_count": 58,
   "id": "b33bb31e",
   "metadata": {},
   "outputs": [
    {
     "data": {
      "text/html": [
       "<div>\n",
       "<style scoped>\n",
       "    .dataframe tbody tr th:only-of-type {\n",
       "        vertical-align: middle;\n",
       "    }\n",
       "\n",
       "    .dataframe tbody tr th {\n",
       "        vertical-align: top;\n",
       "    }\n",
       "\n",
       "    .dataframe thead th {\n",
       "        text-align: right;\n",
       "    }\n",
       "</style>\n",
       "<table border=\"1\" class=\"dataframe\">\n",
       "  <thead>\n",
       "    <tr style=\"text-align: right;\">\n",
       "      <th></th>\n",
       "      <th>time</th>\n",
       "      <th>mid_o</th>\n",
       "      <th>mid_h</th>\n",
       "      <th>mid_l</th>\n",
       "      <th>mid_c</th>\n",
       "      <th>bid_o</th>\n",
       "      <th>bid_h</th>\n",
       "      <th>bid_l</th>\n",
       "      <th>bid_c</th>\n",
       "      <th>ask_o</th>\n",
       "      <th>ask_h</th>\n",
       "      <th>ask_l</th>\n",
       "      <th>ask_c</th>\n",
       "      <th>ENGULFING</th>\n",
       "      <th>direction</th>\n",
       "      <th>EMA_200</th>\n",
       "      <th>RSI_14</th>\n",
       "    </tr>\n",
       "  </thead>\n",
       "  <tbody>\n",
       "    <tr>\n",
       "      <th>0</th>\n",
       "      <td>2017-01-19 05:00:00+00:00</td>\n",
       "      <td>1.06406</td>\n",
       "      <td>1.06410</td>\n",
       "      <td>1.06325</td>\n",
       "      <td>1.06394</td>\n",
       "      <td>1.06400</td>\n",
       "      <td>1.06404</td>\n",
       "      <td>1.06318</td>\n",
       "      <td>1.06387</td>\n",
       "      <td>1.06413</td>\n",
       "      <td>1.06416</td>\n",
       "      <td>1.06331</td>\n",
       "      <td>1.06400</td>\n",
       "      <td>False</td>\n",
       "      <td>-1</td>\n",
       "      <td>1.063348</td>\n",
       "      <td>40.898501</td>\n",
       "    </tr>\n",
       "    <tr>\n",
       "      <th>1</th>\n",
       "      <td>2017-01-19 06:00:00+00:00</td>\n",
       "      <td>1.06392</td>\n",
       "      <td>1.06439</td>\n",
       "      <td>1.06334</td>\n",
       "      <td>1.06422</td>\n",
       "      <td>1.06385</td>\n",
       "      <td>1.06432</td>\n",
       "      <td>1.06327</td>\n",
       "      <td>1.06415</td>\n",
       "      <td>1.06398</td>\n",
       "      <td>1.06446</td>\n",
       "      <td>1.06342</td>\n",
       "      <td>1.06430</td>\n",
       "      <td>True</td>\n",
       "      <td>1</td>\n",
       "      <td>1.063358</td>\n",
       "      <td>42.586223</td>\n",
       "    </tr>\n",
       "    <tr>\n",
       "      <th>2</th>\n",
       "      <td>2017-01-19 07:00:00+00:00</td>\n",
       "      <td>1.06420</td>\n",
       "      <td>1.06470</td>\n",
       "      <td>1.06326</td>\n",
       "      <td>1.06420</td>\n",
       "      <td>1.06413</td>\n",
       "      <td>1.06463</td>\n",
       "      <td>1.06319</td>\n",
       "      <td>1.06413</td>\n",
       "      <td>1.06428</td>\n",
       "      <td>1.06479</td>\n",
       "      <td>1.06332</td>\n",
       "      <td>1.06426</td>\n",
       "      <td>False</td>\n",
       "      <td>1</td>\n",
       "      <td>1.063367</td>\n",
       "      <td>42.492882</td>\n",
       "    </tr>\n",
       "    <tr>\n",
       "      <th>3</th>\n",
       "      <td>2017-01-19 08:00:00+00:00</td>\n",
       "      <td>1.06417</td>\n",
       "      <td>1.06554</td>\n",
       "      <td>1.06378</td>\n",
       "      <td>1.06552</td>\n",
       "      <td>1.06410</td>\n",
       "      <td>1.06547</td>\n",
       "      <td>1.06372</td>\n",
       "      <td>1.06544</td>\n",
       "      <td>1.06424</td>\n",
       "      <td>1.06562</td>\n",
       "      <td>1.06385</td>\n",
       "      <td>1.06559</td>\n",
       "      <td>False</td>\n",
       "      <td>1</td>\n",
       "      <td>1.063392</td>\n",
       "      <td>50.244246</td>\n",
       "    </tr>\n",
       "    <tr>\n",
       "      <th>4</th>\n",
       "      <td>2017-01-19 09:00:00+00:00</td>\n",
       "      <td>1.06548</td>\n",
       "      <td>1.06706</td>\n",
       "      <td>1.06524</td>\n",
       "      <td>1.06608</td>\n",
       "      <td>1.06540</td>\n",
       "      <td>1.06699</td>\n",
       "      <td>1.06517</td>\n",
       "      <td>1.06601</td>\n",
       "      <td>1.06557</td>\n",
       "      <td>1.06712</td>\n",
       "      <td>1.06532</td>\n",
       "      <td>1.06614</td>\n",
       "      <td>False</td>\n",
       "      <td>1</td>\n",
       "      <td>1.063423</td>\n",
       "      <td>53.130569</td>\n",
       "    </tr>\n",
       "  </tbody>\n",
       "</table>\n",
       "</div>"
      ],
      "text/plain": [
       "                       time    mid_o    mid_h    mid_l    mid_c    bid_o  \\\n",
       "0 2017-01-19 05:00:00+00:00  1.06406  1.06410  1.06325  1.06394  1.06400   \n",
       "1 2017-01-19 06:00:00+00:00  1.06392  1.06439  1.06334  1.06422  1.06385   \n",
       "2 2017-01-19 07:00:00+00:00  1.06420  1.06470  1.06326  1.06420  1.06413   \n",
       "3 2017-01-19 08:00:00+00:00  1.06417  1.06554  1.06378  1.06552  1.06410   \n",
       "4 2017-01-19 09:00:00+00:00  1.06548  1.06706  1.06524  1.06608  1.06540   \n",
       "\n",
       "     bid_h    bid_l    bid_c    ask_o    ask_h    ask_l    ask_c  ENGULFING  \\\n",
       "0  1.06404  1.06318  1.06387  1.06413  1.06416  1.06331  1.06400      False   \n",
       "1  1.06432  1.06327  1.06415  1.06398  1.06446  1.06342  1.06430       True   \n",
       "2  1.06463  1.06319  1.06413  1.06428  1.06479  1.06332  1.06426      False   \n",
       "3  1.06547  1.06372  1.06544  1.06424  1.06562  1.06385  1.06559      False   \n",
       "4  1.06699  1.06517  1.06601  1.06557  1.06712  1.06532  1.06614      False   \n",
       "\n",
       "   direction   EMA_200     RSI_14  \n",
       "0         -1  1.063348  40.898501  \n",
       "1          1  1.063358  42.586223  \n",
       "2          1  1.063367  42.492882  \n",
       "3          1  1.063392  50.244246  \n",
       "4          1  1.063423  53.130569  "
      ]
     },
     "execution_count": 58,
     "metadata": {},
     "output_type": "execute_result"
    }
   ],
   "source": [
    "df_slim.head()"
   ]
  },
  {
   "cell_type": "code",
   "execution_count": 59,
   "id": "a0d4271d",
   "metadata": {},
   "outputs": [],
   "source": [
    "BUY = 1\n",
    "SELL = -1\n",
    "NONE = 0\n",
    "RSI_LIMIT = 50.0\n",
    "\n",
    "def apply_signal(row):\n",
    "    if row.ENGULFING == True:\n",
    "        if row.direction == BUY and row.mid_l > row.EMA_200:\n",
    "            if row.RSI_14 > RSI_LIMIT:\n",
    "                return BUY\n",
    "        if row.direction == SELL and row.mid_h < row.EMA_200:\n",
    "            if row.RSI_14 < RSI_LIMIT:\n",
    "                return SELL\n",
    "    return NONE        "
   ]
  },
  {
   "cell_type": "code",
   "execution_count": 60,
   "id": "774e924d",
   "metadata": {},
   "outputs": [],
   "source": [
    "df_slim[\"SIGNAL\"] = df_slim.apply(apply_signal, axis=1)"
   ]
  },
  {
   "cell_type": "code",
   "execution_count": 61,
   "id": "cbf03c6f",
   "metadata": {},
   "outputs": [
    {
     "data": {
      "text/plain": [
       "SIGNAL\n",
       " 0    33702\n",
       "-1     1663\n",
       " 1     1652\n",
       "Name: count, dtype: int64"
      ]
     },
     "execution_count": 61,
     "metadata": {},
     "output_type": "execute_result"
    }
   ],
   "source": [
    "df_slim[\"SIGNAL\"].value_counts()"
   ]
  },
  {
   "cell_type": "code",
   "execution_count": 62,
   "id": "41839f66",
   "metadata": {},
   "outputs": [],
   "source": [
    "LOSS_FACTOR = -1.0\n",
    "PROFIT_FACTOR = 1.5\n",
    "\n",
    "def apply_take_profit(row):\n",
    "    if row.SIGNAL != NONE:\n",
    "        if row.SIGNAL == BUY:\n",
    "            return (row.ask_c - row.ask_o) * PROFIT_FACTOR + row.ask_c\n",
    "        else:\n",
    "            #sell\n",
    "            return (row.bid_c - row.bid_o) * PROFIT_FACTOR + row.bid_c\n",
    "    else:\n",
    "        return 0.0\n",
    "\n",
    "def apply_stop_loss(row):\n",
    "    if row.SIGNAL != NONE:\n",
    "        if row.SIGNAL == BUY:\n",
    "            return row.ask_o\n",
    "        else:\n",
    "            return row.bid_o\n",
    "    else:\n",
    "        return 0.0"
   ]
  },
  {
   "cell_type": "code",
   "execution_count": 63,
   "id": "914d768a",
   "metadata": {},
   "outputs": [],
   "source": [
    "df_slim[\"TP\"] = df_slim.apply(apply_take_profit, axis=1)\n",
    "df_slim[\"SL\"] = df_slim.apply(apply_stop_loss, axis=1)"
   ]
  },
  {
   "cell_type": "code",
   "execution_count": 64,
   "id": "fa1aef5e",
   "metadata": {},
   "outputs": [
    {
     "data": {
      "text/html": [
       "<div>\n",
       "<style scoped>\n",
       "    .dataframe tbody tr th:only-of-type {\n",
       "        vertical-align: middle;\n",
       "    }\n",
       "\n",
       "    .dataframe tbody tr th {\n",
       "        vertical-align: top;\n",
       "    }\n",
       "\n",
       "    .dataframe thead th {\n",
       "        text-align: right;\n",
       "    }\n",
       "</style>\n",
       "<table border=\"1\" class=\"dataframe\">\n",
       "  <thead>\n",
       "    <tr style=\"text-align: right;\">\n",
       "      <th></th>\n",
       "      <th>time</th>\n",
       "      <th>mid_o</th>\n",
       "      <th>mid_h</th>\n",
       "      <th>mid_l</th>\n",
       "      <th>mid_c</th>\n",
       "      <th>bid_o</th>\n",
       "      <th>bid_h</th>\n",
       "      <th>bid_l</th>\n",
       "      <th>bid_c</th>\n",
       "      <th>ask_o</th>\n",
       "      <th>ask_h</th>\n",
       "      <th>ask_l</th>\n",
       "      <th>ask_c</th>\n",
       "      <th>ENGULFING</th>\n",
       "      <th>direction</th>\n",
       "      <th>EMA_200</th>\n",
       "      <th>RSI_14</th>\n",
       "      <th>SIGNAL</th>\n",
       "      <th>TP</th>\n",
       "      <th>SL</th>\n",
       "    </tr>\n",
       "  </thead>\n",
       "  <tbody>\n",
       "    <tr>\n",
       "      <th>135</th>\n",
       "      <td>2017-01-26 20:00:00+00:00</td>\n",
       "      <td>1.06982</td>\n",
       "      <td>1.06982</td>\n",
       "      <td>1.06746</td>\n",
       "      <td>1.06758</td>\n",
       "      <td>1.06974</td>\n",
       "      <td>1.06974</td>\n",
       "      <td>1.06739</td>\n",
       "      <td>1.06750</td>\n",
       "      <td>1.06990</td>\n",
       "      <td>1.06990</td>\n",
       "      <td>1.06754</td>\n",
       "      <td>1.06766</td>\n",
       "      <td>True</td>\n",
       "      <td>-1</td>\n",
       "      <td>1.070064</td>\n",
       "      <td>34.615379</td>\n",
       "      <td>-1</td>\n",
       "      <td>1.064140</td>\n",
       "      <td>1.06974</td>\n",
       "    </tr>\n",
       "    <tr>\n",
       "      <th>151</th>\n",
       "      <td>2017-01-27 12:00:00+00:00</td>\n",
       "      <td>1.06936</td>\n",
       "      <td>1.06952</td>\n",
       "      <td>1.06706</td>\n",
       "      <td>1.06748</td>\n",
       "      <td>1.06929</td>\n",
       "      <td>1.06946</td>\n",
       "      <td>1.06701</td>\n",
       "      <td>1.06742</td>\n",
       "      <td>1.06942</td>\n",
       "      <td>1.06959</td>\n",
       "      <td>1.06712</td>\n",
       "      <td>1.06754</td>\n",
       "      <td>True</td>\n",
       "      <td>-1</td>\n",
       "      <td>1.069747</td>\n",
       "      <td>42.664490</td>\n",
       "      <td>-1</td>\n",
       "      <td>1.064615</td>\n",
       "      <td>1.06929</td>\n",
       "    </tr>\n",
       "    <tr>\n",
       "      <th>313</th>\n",
       "      <td>2017-02-07 06:00:00+00:00</td>\n",
       "      <td>1.07124</td>\n",
       "      <td>1.07131</td>\n",
       "      <td>1.06914</td>\n",
       "      <td>1.06935</td>\n",
       "      <td>1.07118</td>\n",
       "      <td>1.07124</td>\n",
       "      <td>1.06907</td>\n",
       "      <td>1.06927</td>\n",
       "      <td>1.07130</td>\n",
       "      <td>1.07138</td>\n",
       "      <td>1.06921</td>\n",
       "      <td>1.06943</td>\n",
       "      <td>True</td>\n",
       "      <td>-1</td>\n",
       "      <td>1.074282</td>\n",
       "      <td>27.277212</td>\n",
       "      <td>-1</td>\n",
       "      <td>1.066405</td>\n",
       "      <td>1.07118</td>\n",
       "    </tr>\n",
       "    <tr>\n",
       "      <th>327</th>\n",
       "      <td>2017-02-07 20:00:00+00:00</td>\n",
       "      <td>1.06959</td>\n",
       "      <td>1.06974</td>\n",
       "      <td>1.06874</td>\n",
       "      <td>1.06887</td>\n",
       "      <td>1.06952</td>\n",
       "      <td>1.06967</td>\n",
       "      <td>1.06867</td>\n",
       "      <td>1.06881</td>\n",
       "      <td>1.06966</td>\n",
       "      <td>1.06981</td>\n",
       "      <td>1.06880</td>\n",
       "      <td>1.06893</td>\n",
       "      <td>True</td>\n",
       "      <td>-1</td>\n",
       "      <td>1.073468</td>\n",
       "      <td>41.931797</td>\n",
       "      <td>-1</td>\n",
       "      <td>1.067745</td>\n",
       "      <td>1.06952</td>\n",
       "    </tr>\n",
       "    <tr>\n",
       "      <th>330</th>\n",
       "      <td>2017-02-07 23:00:00+00:00</td>\n",
       "      <td>1.06805</td>\n",
       "      <td>1.06824</td>\n",
       "      <td>1.06754</td>\n",
       "      <td>1.06786</td>\n",
       "      <td>1.06792</td>\n",
       "      <td>1.06816</td>\n",
       "      <td>1.06746</td>\n",
       "      <td>1.06778</td>\n",
       "      <td>1.06818</td>\n",
       "      <td>1.06833</td>\n",
       "      <td>1.06761</td>\n",
       "      <td>1.06794</td>\n",
       "      <td>True</td>\n",
       "      <td>-1</td>\n",
       "      <td>1.073308</td>\n",
       "      <td>37.030098</td>\n",
       "      <td>-1</td>\n",
       "      <td>1.067570</td>\n",
       "      <td>1.06792</td>\n",
       "    </tr>\n",
       "  </tbody>\n",
       "</table>\n",
       "</div>"
      ],
      "text/plain": [
       "                         time    mid_o    mid_h    mid_l    mid_c    bid_o  \\\n",
       "135 2017-01-26 20:00:00+00:00  1.06982  1.06982  1.06746  1.06758  1.06974   \n",
       "151 2017-01-27 12:00:00+00:00  1.06936  1.06952  1.06706  1.06748  1.06929   \n",
       "313 2017-02-07 06:00:00+00:00  1.07124  1.07131  1.06914  1.06935  1.07118   \n",
       "327 2017-02-07 20:00:00+00:00  1.06959  1.06974  1.06874  1.06887  1.06952   \n",
       "330 2017-02-07 23:00:00+00:00  1.06805  1.06824  1.06754  1.06786  1.06792   \n",
       "\n",
       "       bid_h    bid_l    bid_c    ask_o    ask_h    ask_l    ask_c  ENGULFING  \\\n",
       "135  1.06974  1.06739  1.06750  1.06990  1.06990  1.06754  1.06766       True   \n",
       "151  1.06946  1.06701  1.06742  1.06942  1.06959  1.06712  1.06754       True   \n",
       "313  1.07124  1.06907  1.06927  1.07130  1.07138  1.06921  1.06943       True   \n",
       "327  1.06967  1.06867  1.06881  1.06966  1.06981  1.06880  1.06893       True   \n",
       "330  1.06816  1.06746  1.06778  1.06818  1.06833  1.06761  1.06794       True   \n",
       "\n",
       "     direction   EMA_200     RSI_14  SIGNAL        TP       SL  \n",
       "135         -1  1.070064  34.615379      -1  1.064140  1.06974  \n",
       "151         -1  1.069747  42.664490      -1  1.064615  1.06929  \n",
       "313         -1  1.074282  27.277212      -1  1.066405  1.07118  \n",
       "327         -1  1.073468  41.931797      -1  1.067745  1.06952  \n",
       "330         -1  1.073308  37.030098      -1  1.067570  1.06792  "
      ]
     },
     "execution_count": 64,
     "metadata": {},
     "output_type": "execute_result"
    }
   ],
   "source": [
    "df_slim[df_slim.SIGNAL==SELL].head()"
   ]
  },
  {
   "cell_type": "code",
   "execution_count": 65,
   "id": "c8be66ff",
   "metadata": {},
   "outputs": [
    {
     "data": {
      "application/vnd.plotly.v1+json": {
       "config": {
        "plotlyServerURL": "https://plot.ly"
       },
       "data": [
        {
         "close": [
          1.076,
          1.07514,
          1.07553,
          1.07411,
          1.07381,
          1.07478,
          1.07404,
          1.07298,
          1.07433,
          1.07419,
          1.07476,
          1.07616,
          1.07524,
          1.07484,
          1.07565,
          1.0735,
          1.07224,
          1.07332,
          1.07314,
          1.07316,
          1.07284,
          1.07312,
          1.07294,
          1.0731,
          1.07315,
          1.07308,
          1.07263,
          1.07216,
          1.07134,
          1.07298
         ],
         "decreasing": {
          "fillcolor": "#CC2E3C",
          "line": {
           "color": "#FF3A4C"
          }
         },
         "high": [
          1.0771,
          1.07627,
          1.07599,
          1.07568,
          1.07499,
          1.07529,
          1.07519,
          1.07441,
          1.07442,
          1.07476,
          1.07571,
          1.07666,
          1.07751,
          1.07582,
          1.0761,
          1.07581,
          1.07348,
          1.07336,
          1.07336,
          1.07342,
          1.0733,
          1.0734,
          1.07351,
          1.0738,
          1.07328,
          1.07373,
          1.07306,
          1.07264,
          1.07268,
          1.07326
         ],
         "increasing": {
          "fillcolor": "#24A06B",
          "line": {
           "color": "#2EC886"
          }
         },
         "line": {
          "width": 1
         },
         "low": [
          1.07559,
          1.07494,
          1.07484,
          1.07378,
          1.07338,
          1.07374,
          1.07351,
          1.07286,
          1.07255,
          1.07394,
          1.07406,
          1.07434,
          1.07489,
          1.07466,
          1.07482,
          1.07338,
          1.0722,
          1.07204,
          1.07299,
          1.07279,
          1.0724,
          1.07237,
          1.07222,
          1.0727,
          1.07274,
          1.07306,
          1.07238,
          1.07214,
          1.07112,
          1.07131
         ],
         "opacity": 1,
         "open": [
          1.07584,
          1.07601,
          1.07516,
          1.0755,
          1.0741,
          1.07378,
          1.07475,
          1.07406,
          1.07296,
          1.0743,
          1.07422,
          1.07474,
          1.0761,
          1.07527,
          1.07487,
          1.07568,
          1.07348,
          1.07226,
          1.07334,
          1.07306,
          1.07316,
          1.07286,
          1.0731,
          1.0729,
          1.07308,
          1.07317,
          1.07306,
          1.0726,
          1.07214,
          1.07136
         ],
         "type": "candlestick",
         "x": [
          "s17-01-24 03:00",
          "s17-01-24 04:00",
          "s17-01-24 05:00",
          "s17-01-24 06:00",
          "s17-01-24 07:00",
          "s17-01-24 08:00",
          "s17-01-24 09:00",
          "s17-01-24 10:00",
          "s17-01-24 11:00",
          "s17-01-24 12:00",
          "s17-01-24 13:00",
          "s17-01-24 14:00",
          "s17-01-24 15:00",
          "s17-01-24 16:00",
          "s17-01-24 17:00",
          "s17-01-24 18:00",
          "s17-01-24 19:00",
          "s17-01-24 20:00",
          "s17-01-24 21:00",
          "s17-01-24 22:00",
          "s17-01-24 23:00",
          "s17-01-25 00:00",
          "s17-01-25 01:00",
          "s17-01-25 02:00",
          "s17-01-25 03:00",
          "s17-01-25 04:00",
          "s17-01-25 05:00",
          "s17-01-25 06:00",
          "s17-01-25 07:00",
          "s17-01-25 08:00"
         ]
        },
        {
         "marker": {
          "color": "#0000FF",
          "size": 12
         },
         "mode": "markers",
         "type": "scatter",
         "x": [
          "s17-01-24 08:00",
          "s17-01-24 11:00",
          "s17-01-24 13:00",
          "s17-01-24 17:00"
         ],
         "y": [
          1.07478,
          1.07433,
          1.07476,
          1.07565
         ]
        },
        {
         "marker": {
          "color": "#00FF00",
          "size": 12
         },
         "mode": "markers",
         "type": "scatter",
         "x": [
          "s17-01-24 08:00",
          "s17-01-24 11:00",
          "s17-01-24 13:00",
          "s17-01-24 17:00"
         ],
         "y": [
          1.07633,
          1.0764800000000003,
          1.0756300000000003,
          1.0769300000000004
         ]
        },
        {
         "marker": {
          "color": "#FF0000",
          "size": 12
         },
         "mode": "markers",
         "type": "scatter",
         "x": [
          "s17-01-24 08:00",
          "s17-01-24 11:00",
          "s17-01-24 13:00",
          "s17-01-24 17:00"
         ],
         "y": [
          1.07388,
          1.07303,
          1.07428,
          1.07493
         ]
        },
        {
         "line": {
          "shape": "spline",
          "width": 2
         },
         "name": "EMA_200",
         "type": "scatter",
         "x": [
          "s17-01-24 03:00",
          "s17-01-24 04:00",
          "s17-01-24 05:00",
          "s17-01-24 06:00",
          "s17-01-24 07:00",
          "s17-01-24 08:00",
          "s17-01-24 09:00",
          "s17-01-24 10:00",
          "s17-01-24 11:00",
          "s17-01-24 12:00",
          "s17-01-24 13:00",
          "s17-01-24 14:00",
          "s17-01-24 15:00",
          "s17-01-24 16:00",
          "s17-01-24 17:00",
          "s17-01-24 18:00",
          "s17-01-24 19:00",
          "s17-01-24 20:00",
          "s17-01-24 21:00",
          "s17-01-24 22:00",
          "s17-01-24 23:00",
          "s17-01-25 00:00",
          "s17-01-25 01:00",
          "s17-01-25 02:00",
          "s17-01-25 03:00",
          "s17-01-25 04:00",
          "s17-01-25 05:00",
          "s17-01-25 06:00",
          "s17-01-25 07:00",
          "s17-01-25 08:00"
         ],
         "xaxis": "x",
         "y": [
          1.0670554707633277,
          1.067141647645361,
          1.0672309997526523,
          1.067304222974157,
          1.06737342539629,
          1.0674521555938283,
          1.0675221353234003,
          1.0675800728311946,
          1.0676516784909478,
          1.0677209937444376,
          1.0677955683907767,
          1.0678841281827423,
          1.067961960071205,
          1.0680346901900946,
          1.068115166168408,
          1.0681720361307656,
          1.0682149722212655,
          1.068268821649316,
          1.068320173648768,
          1.0683711649606396,
          1.0684182200403676,
          1.0684676992724818,
          1.0685147366127008,
          1.0685629346960739,
          1.0686111246727261,
          1.0686580469307039,
          1.06869972870281,
          1.0687360211390156,
          1.0687633178176714,
          1.0688074964280287
         ],
         "yaxis": "y"
        },
        {
         "line": {
          "shape": "spline",
          "width": 2
         },
         "name": "RSI_14",
         "type": "scatter",
         "x": [
          "s17-01-24 03:00",
          "s17-01-24 04:00",
          "s17-01-24 05:00",
          "s17-01-24 06:00",
          "s17-01-24 07:00",
          "s17-01-24 08:00",
          "s17-01-24 09:00",
          "s17-01-24 10:00",
          "s17-01-24 11:00",
          "s17-01-24 12:00",
          "s17-01-24 13:00",
          "s17-01-24 14:00",
          "s17-01-24 15:00",
          "s17-01-24 16:00",
          "s17-01-24 17:00",
          "s17-01-24 18:00",
          "s17-01-24 19:00",
          "s17-01-24 20:00",
          "s17-01-24 21:00",
          "s17-01-24 22:00",
          "s17-01-24 23:00",
          "s17-01-25 00:00",
          "s17-01-25 01:00",
          "s17-01-25 02:00",
          "s17-01-25 03:00",
          "s17-01-25 04:00",
          "s17-01-25 05:00",
          "s17-01-25 06:00",
          "s17-01-25 07:00",
          "s17-01-25 08:00"
         ],
         "xaxis": "x",
         "y": [
          60.15745475089826,
          55.569326391941146,
          57.16482875905929,
          50.109132732823426,
          48.74040311250201,
          53.19237626365116,
          49.64964533057028,
          45.02381308601443,
          51.25303619564624,
          50.61256941680718,
          53.17798995381394,
          58.83409727875825,
          54.20052879237402,
          52.27291485562516,
          55.70810298501097,
          46.20232675403758,
          41.710421717244145,
          46.51075185149845,
          45.83327491369255,
          45.92752019539548,
          44.59069104567457,
          46.069891198011746,
          45.23388923648464,
          46.16898235452831,
          46.47653670351123,
          46.07960956594798,
          43.5072156059925,
          40.93674843170367,
          36.8465169180347,
          48.0305267535112
         ],
         "yaxis": "y2"
        }
       ],
       "layout": {
        "font": {
         "color": "#e1e1e1",
         "size": 8
        },
        "height": 250,
        "margin": {
         "b": 10,
         "l": 10,
         "r": 10,
         "t": 10
        },
        "paper_bgcolor": "#2c303c",
        "plot_bgcolor": "#2c303c",
        "template": {
         "data": {
          "bar": [
           {
            "error_x": {
             "color": "#2a3f5f"
            },
            "error_y": {
             "color": "#2a3f5f"
            },
            "marker": {
             "line": {
              "color": "#E5ECF6",
              "width": 0.5
             },
             "pattern": {
              "fillmode": "overlay",
              "size": 10,
              "solidity": 0.2
             }
            },
            "type": "bar"
           }
          ],
          "barpolar": [
           {
            "marker": {
             "line": {
              "color": "#E5ECF6",
              "width": 0.5
             },
             "pattern": {
              "fillmode": "overlay",
              "size": 10,
              "solidity": 0.2
             }
            },
            "type": "barpolar"
           }
          ],
          "carpet": [
           {
            "aaxis": {
             "endlinecolor": "#2a3f5f",
             "gridcolor": "white",
             "linecolor": "white",
             "minorgridcolor": "white",
             "startlinecolor": "#2a3f5f"
            },
            "baxis": {
             "endlinecolor": "#2a3f5f",
             "gridcolor": "white",
             "linecolor": "white",
             "minorgridcolor": "white",
             "startlinecolor": "#2a3f5f"
            },
            "type": "carpet"
           }
          ],
          "choropleth": [
           {
            "colorbar": {
             "outlinewidth": 0,
             "ticks": ""
            },
            "type": "choropleth"
           }
          ],
          "contour": [
           {
            "colorbar": {
             "outlinewidth": 0,
             "ticks": ""
            },
            "colorscale": [
             [
              0,
              "#0d0887"
             ],
             [
              0.1111111111111111,
              "#46039f"
             ],
             [
              0.2222222222222222,
              "#7201a8"
             ],
             [
              0.3333333333333333,
              "#9c179e"
             ],
             [
              0.4444444444444444,
              "#bd3786"
             ],
             [
              0.5555555555555556,
              "#d8576b"
             ],
             [
              0.6666666666666666,
              "#ed7953"
             ],
             [
              0.7777777777777778,
              "#fb9f3a"
             ],
             [
              0.8888888888888888,
              "#fdca26"
             ],
             [
              1,
              "#f0f921"
             ]
            ],
            "type": "contour"
           }
          ],
          "contourcarpet": [
           {
            "colorbar": {
             "outlinewidth": 0,
             "ticks": ""
            },
            "type": "contourcarpet"
           }
          ],
          "heatmap": [
           {
            "colorbar": {
             "outlinewidth": 0,
             "ticks": ""
            },
            "colorscale": [
             [
              0,
              "#0d0887"
             ],
             [
              0.1111111111111111,
              "#46039f"
             ],
             [
              0.2222222222222222,
              "#7201a8"
             ],
             [
              0.3333333333333333,
              "#9c179e"
             ],
             [
              0.4444444444444444,
              "#bd3786"
             ],
             [
              0.5555555555555556,
              "#d8576b"
             ],
             [
              0.6666666666666666,
              "#ed7953"
             ],
             [
              0.7777777777777778,
              "#fb9f3a"
             ],
             [
              0.8888888888888888,
              "#fdca26"
             ],
             [
              1,
              "#f0f921"
             ]
            ],
            "type": "heatmap"
           }
          ],
          "heatmapgl": [
           {
            "colorbar": {
             "outlinewidth": 0,
             "ticks": ""
            },
            "colorscale": [
             [
              0,
              "#0d0887"
             ],
             [
              0.1111111111111111,
              "#46039f"
             ],
             [
              0.2222222222222222,
              "#7201a8"
             ],
             [
              0.3333333333333333,
              "#9c179e"
             ],
             [
              0.4444444444444444,
              "#bd3786"
             ],
             [
              0.5555555555555556,
              "#d8576b"
             ],
             [
              0.6666666666666666,
              "#ed7953"
             ],
             [
              0.7777777777777778,
              "#fb9f3a"
             ],
             [
              0.8888888888888888,
              "#fdca26"
             ],
             [
              1,
              "#f0f921"
             ]
            ],
            "type": "heatmapgl"
           }
          ],
          "histogram": [
           {
            "marker": {
             "pattern": {
              "fillmode": "overlay",
              "size": 10,
              "solidity": 0.2
             }
            },
            "type": "histogram"
           }
          ],
          "histogram2d": [
           {
            "colorbar": {
             "outlinewidth": 0,
             "ticks": ""
            },
            "colorscale": [
             [
              0,
              "#0d0887"
             ],
             [
              0.1111111111111111,
              "#46039f"
             ],
             [
              0.2222222222222222,
              "#7201a8"
             ],
             [
              0.3333333333333333,
              "#9c179e"
             ],
             [
              0.4444444444444444,
              "#bd3786"
             ],
             [
              0.5555555555555556,
              "#d8576b"
             ],
             [
              0.6666666666666666,
              "#ed7953"
             ],
             [
              0.7777777777777778,
              "#fb9f3a"
             ],
             [
              0.8888888888888888,
              "#fdca26"
             ],
             [
              1,
              "#f0f921"
             ]
            ],
            "type": "histogram2d"
           }
          ],
          "histogram2dcontour": [
           {
            "colorbar": {
             "outlinewidth": 0,
             "ticks": ""
            },
            "colorscale": [
             [
              0,
              "#0d0887"
             ],
             [
              0.1111111111111111,
              "#46039f"
             ],
             [
              0.2222222222222222,
              "#7201a8"
             ],
             [
              0.3333333333333333,
              "#9c179e"
             ],
             [
              0.4444444444444444,
              "#bd3786"
             ],
             [
              0.5555555555555556,
              "#d8576b"
             ],
             [
              0.6666666666666666,
              "#ed7953"
             ],
             [
              0.7777777777777778,
              "#fb9f3a"
             ],
             [
              0.8888888888888888,
              "#fdca26"
             ],
             [
              1,
              "#f0f921"
             ]
            ],
            "type": "histogram2dcontour"
           }
          ],
          "mesh3d": [
           {
            "colorbar": {
             "outlinewidth": 0,
             "ticks": ""
            },
            "type": "mesh3d"
           }
          ],
          "parcoords": [
           {
            "line": {
             "colorbar": {
              "outlinewidth": 0,
              "ticks": ""
             }
            },
            "type": "parcoords"
           }
          ],
          "pie": [
           {
            "automargin": true,
            "type": "pie"
           }
          ],
          "scatter": [
           {
            "fillpattern": {
             "fillmode": "overlay",
             "size": 10,
             "solidity": 0.2
            },
            "type": "scatter"
           }
          ],
          "scatter3d": [
           {
            "line": {
             "colorbar": {
              "outlinewidth": 0,
              "ticks": ""
             }
            },
            "marker": {
             "colorbar": {
              "outlinewidth": 0,
              "ticks": ""
             }
            },
            "type": "scatter3d"
           }
          ],
          "scattercarpet": [
           {
            "marker": {
             "colorbar": {
              "outlinewidth": 0,
              "ticks": ""
             }
            },
            "type": "scattercarpet"
           }
          ],
          "scattergeo": [
           {
            "marker": {
             "colorbar": {
              "outlinewidth": 0,
              "ticks": ""
             }
            },
            "type": "scattergeo"
           }
          ],
          "scattergl": [
           {
            "marker": {
             "colorbar": {
              "outlinewidth": 0,
              "ticks": ""
             }
            },
            "type": "scattergl"
           }
          ],
          "scattermapbox": [
           {
            "marker": {
             "colorbar": {
              "outlinewidth": 0,
              "ticks": ""
             }
            },
            "type": "scattermapbox"
           }
          ],
          "scatterpolar": [
           {
            "marker": {
             "colorbar": {
              "outlinewidth": 0,
              "ticks": ""
             }
            },
            "type": "scatterpolar"
           }
          ],
          "scatterpolargl": [
           {
            "marker": {
             "colorbar": {
              "outlinewidth": 0,
              "ticks": ""
             }
            },
            "type": "scatterpolargl"
           }
          ],
          "scatterternary": [
           {
            "marker": {
             "colorbar": {
              "outlinewidth": 0,
              "ticks": ""
             }
            },
            "type": "scatterternary"
           }
          ],
          "surface": [
           {
            "colorbar": {
             "outlinewidth": 0,
             "ticks": ""
            },
            "colorscale": [
             [
              0,
              "#0d0887"
             ],
             [
              0.1111111111111111,
              "#46039f"
             ],
             [
              0.2222222222222222,
              "#7201a8"
             ],
             [
              0.3333333333333333,
              "#9c179e"
             ],
             [
              0.4444444444444444,
              "#bd3786"
             ],
             [
              0.5555555555555556,
              "#d8576b"
             ],
             [
              0.6666666666666666,
              "#ed7953"
             ],
             [
              0.7777777777777778,
              "#fb9f3a"
             ],
             [
              0.8888888888888888,
              "#fdca26"
             ],
             [
              1,
              "#f0f921"
             ]
            ],
            "type": "surface"
           }
          ],
          "table": [
           {
            "cells": {
             "fill": {
              "color": "#EBF0F8"
             },
             "line": {
              "color": "white"
             }
            },
            "header": {
             "fill": {
              "color": "#C8D4E3"
             },
             "line": {
              "color": "white"
             }
            },
            "type": "table"
           }
          ]
         },
         "layout": {
          "annotationdefaults": {
           "arrowcolor": "#2a3f5f",
           "arrowhead": 0,
           "arrowwidth": 1
          },
          "autotypenumbers": "strict",
          "coloraxis": {
           "colorbar": {
            "outlinewidth": 0,
            "ticks": ""
           }
          },
          "colorscale": {
           "diverging": [
            [
             0,
             "#8e0152"
            ],
            [
             0.1,
             "#c51b7d"
            ],
            [
             0.2,
             "#de77ae"
            ],
            [
             0.3,
             "#f1b6da"
            ],
            [
             0.4,
             "#fde0ef"
            ],
            [
             0.5,
             "#f7f7f7"
            ],
            [
             0.6,
             "#e6f5d0"
            ],
            [
             0.7,
             "#b8e186"
            ],
            [
             0.8,
             "#7fbc41"
            ],
            [
             0.9,
             "#4d9221"
            ],
            [
             1,
             "#276419"
            ]
           ],
           "sequential": [
            [
             0,
             "#0d0887"
            ],
            [
             0.1111111111111111,
             "#46039f"
            ],
            [
             0.2222222222222222,
             "#7201a8"
            ],
            [
             0.3333333333333333,
             "#9c179e"
            ],
            [
             0.4444444444444444,
             "#bd3786"
            ],
            [
             0.5555555555555556,
             "#d8576b"
            ],
            [
             0.6666666666666666,
             "#ed7953"
            ],
            [
             0.7777777777777778,
             "#fb9f3a"
            ],
            [
             0.8888888888888888,
             "#fdca26"
            ],
            [
             1,
             "#f0f921"
            ]
           ],
           "sequentialminus": [
            [
             0,
             "#0d0887"
            ],
            [
             0.1111111111111111,
             "#46039f"
            ],
            [
             0.2222222222222222,
             "#7201a8"
            ],
            [
             0.3333333333333333,
             "#9c179e"
            ],
            [
             0.4444444444444444,
             "#bd3786"
            ],
            [
             0.5555555555555556,
             "#d8576b"
            ],
            [
             0.6666666666666666,
             "#ed7953"
            ],
            [
             0.7777777777777778,
             "#fb9f3a"
            ],
            [
             0.8888888888888888,
             "#fdca26"
            ],
            [
             1,
             "#f0f921"
            ]
           ]
          },
          "colorway": [
           "#636efa",
           "#EF553B",
           "#00cc96",
           "#ab63fa",
           "#FFA15A",
           "#19d3f3",
           "#FF6692",
           "#B6E880",
           "#FF97FF",
           "#FECB52"
          ],
          "font": {
           "color": "#2a3f5f"
          },
          "geo": {
           "bgcolor": "white",
           "lakecolor": "white",
           "landcolor": "#E5ECF6",
           "showlakes": true,
           "showland": true,
           "subunitcolor": "white"
          },
          "hoverlabel": {
           "align": "left"
          },
          "hovermode": "closest",
          "mapbox": {
           "style": "light"
          },
          "paper_bgcolor": "white",
          "plot_bgcolor": "#E5ECF6",
          "polar": {
           "angularaxis": {
            "gridcolor": "white",
            "linecolor": "white",
            "ticks": ""
           },
           "bgcolor": "#E5ECF6",
           "radialaxis": {
            "gridcolor": "white",
            "linecolor": "white",
            "ticks": ""
           }
          },
          "scene": {
           "xaxis": {
            "backgroundcolor": "#E5ECF6",
            "gridcolor": "white",
            "gridwidth": 2,
            "linecolor": "white",
            "showbackground": true,
            "ticks": "",
            "zerolinecolor": "white"
           },
           "yaxis": {
            "backgroundcolor": "#E5ECF6",
            "gridcolor": "white",
            "gridwidth": 2,
            "linecolor": "white",
            "showbackground": true,
            "ticks": "",
            "zerolinecolor": "white"
           },
           "zaxis": {
            "backgroundcolor": "#E5ECF6",
            "gridcolor": "white",
            "gridwidth": 2,
            "linecolor": "white",
            "showbackground": true,
            "ticks": "",
            "zerolinecolor": "white"
           }
          },
          "shapedefaults": {
           "line": {
            "color": "#2a3f5f"
           }
          },
          "ternary": {
           "aaxis": {
            "gridcolor": "white",
            "linecolor": "white",
            "ticks": ""
           },
           "baxis": {
            "gridcolor": "white",
            "linecolor": "white",
            "ticks": ""
           },
           "bgcolor": "#E5ECF6",
           "caxis": {
            "gridcolor": "white",
            "linecolor": "white",
            "ticks": ""
           }
          },
          "title": {
           "x": 0.05
          },
          "xaxis": {
           "automargin": true,
           "gridcolor": "white",
           "linecolor": "white",
           "ticks": "",
           "title": {
            "standoff": 15
           },
           "zerolinecolor": "white",
           "zerolinewidth": 2
          },
          "yaxis": {
           "automargin": true,
           "gridcolor": "white",
           "linecolor": "white",
           "ticks": "",
           "title": {
            "standoff": 15
           },
           "zerolinecolor": "white",
           "zerolinewidth": 2
          }
         }
        },
        "width": 900,
        "xaxis": {
         "anchor": "y",
         "autorange": true,
         "domain": [
          0,
          0.94
         ],
         "gridcolor": "#1f292f",
         "nticks": 5,
         "range": [
          -0.5,
          29.5
         ],
         "rangeslider": {
          "visible": false,
          "yaxis": {},
          "yaxis2": {}
         },
         "type": "category"
        },
        "yaxis": {
         "anchor": "x",
         "autorange": true,
         "domain": [
          0,
          1
         ],
         "gridcolor": "#1f292f",
         "range": [
          1.0664746635835125,
          1.078090807179815
         ],
         "type": "linear"
        },
        "yaxis2": {
         "anchor": "x",
         "autorange": true,
         "gridcolor": "#1f292f",
         "overlaying": "y",
         "range": [
          35.55146481620895,
          61.452506852724014
         ],
         "side": "right",
         "type": "linear"
        }
       }
      },
      "image/png": "[encoded data removed]",
      "text/html": [
       "<div>                            <div id=\"8c8a36ee-8767-454d-84bd-afaa32d4e5ef\" class=\"plotly-graph-div\" style=\"height:250px; width:900px;\"></div>            <script type=\"text/javascript\">                require([\"plotly\"], function(Plotly) {                    window.PLOTLYENV=window.PLOTLYENV || {};                                    if (document.getElementById(\"8c8a36ee-8767-454d-84bd-afaa32d4e5ef\")) {                    Plotly.newPlot(                        \"8c8a36ee-8767-454d-84bd-afaa32d4e5ef\",                        [{\"close\":[1.076,1.07514,1.07553,1.07411,1.07381,1.07478,1.07404,1.07298,1.07433,1.07419,1.07476,1.07616,1.07524,1.07484,1.07565,1.0735,1.07224,1.07332,1.07314,1.07316,1.07284,1.07312,1.07294,1.0731,1.07315,1.07308,1.07263,1.07216,1.07134,1.07298],\"decreasing\":{\"fillcolor\":\"#CC2E3C\",\"line\":{\"color\":\"#FF3A4C\"}},\"high\":[1.0771,1.07627,1.07599,1.07568,1.07499,1.07529,1.07519,1.07441,1.07442,1.07476,1.07571,1.07666,1.07751,1.07582,1.0761,1.07581,1.07348,1.07336,1.07336,1.07342,1.0733,1.0734,1.07351,1.0738,1.07328,1.07373,1.07306,1.07264,1.07268,1.07326],\"increasing\":{\"fillcolor\":\"#24A06B\",\"line\":{\"color\":\"#2EC886\"}},\"line\":{\"width\":1},\"low\":[1.07559,1.07494,1.07484,1.07378,1.07338,1.07374,1.07351,1.07286,1.07255,1.07394,1.07406,1.07434,1.07489,1.07466,1.07482,1.07338,1.0722,1.07204,1.07299,1.07279,1.0724,1.07237,1.07222,1.0727,1.07274,1.07306,1.07238,1.07214,1.07112,1.07131],\"opacity\":1,\"open\":[1.07584,1.07601,1.07516,1.0755,1.0741,1.07378,1.07475,1.07406,1.07296,1.0743,1.07422,1.07474,1.0761,1.07527,1.07487,1.07568,1.07348,1.07226,1.07334,1.07306,1.07316,1.07286,1.0731,1.0729,1.07308,1.07317,1.07306,1.0726,1.07214,1.07136],\"x\":[\"s17-01-24 03:00\",\"s17-01-24 04:00\",\"s17-01-24 05:00\",\"s17-01-24 06:00\",\"s17-01-24 07:00\",\"s17-01-24 08:00\",\"s17-01-24 09:00\",\"s17-01-24 10:00\",\"s17-01-24 11:00\",\"s17-01-24 12:00\",\"s17-01-24 13:00\",\"s17-01-24 14:00\",\"s17-01-24 15:00\",\"s17-01-24 16:00\",\"s17-01-24 17:00\",\"s17-01-24 18:00\",\"s17-01-24 19:00\",\"s17-01-24 20:00\",\"s17-01-24 21:00\",\"s17-01-24 22:00\",\"s17-01-24 23:00\",\"s17-01-25 00:00\",\"s17-01-25 01:00\",\"s17-01-25 02:00\",\"s17-01-25 03:00\",\"s17-01-25 04:00\",\"s17-01-25 05:00\",\"s17-01-25 06:00\",\"s17-01-25 07:00\",\"s17-01-25 08:00\"],\"type\":\"candlestick\"},{\"marker\":{\"color\":\"#0000FF\",\"size\":12},\"mode\":\"markers\",\"x\":[\"s17-01-24 08:00\",\"s17-01-24 11:00\",\"s17-01-24 13:00\",\"s17-01-24 17:00\"],\"y\":[1.07478,1.07433,1.07476,1.07565],\"type\":\"scatter\"},{\"marker\":{\"color\":\"#00FF00\",\"size\":12},\"mode\":\"markers\",\"x\":[\"s17-01-24 08:00\",\"s17-01-24 11:00\",\"s17-01-24 13:00\",\"s17-01-24 17:00\"],\"y\":[1.07633,1.0764800000000003,1.0756300000000003,1.0769300000000004],\"type\":\"scatter\"},{\"marker\":{\"color\":\"#FF0000\",\"size\":12},\"mode\":\"markers\",\"x\":[\"s17-01-24 08:00\",\"s17-01-24 11:00\",\"s17-01-24 13:00\",\"s17-01-24 17:00\"],\"y\":[1.07388,1.07303,1.07428,1.07493],\"type\":\"scatter\"},{\"line\":{\"shape\":\"spline\",\"width\":2},\"name\":\"EMA_200\",\"x\":[\"s17-01-24 03:00\",\"s17-01-24 04:00\",\"s17-01-24 05:00\",\"s17-01-24 06:00\",\"s17-01-24 07:00\",\"s17-01-24 08:00\",\"s17-01-24 09:00\",\"s17-01-24 10:00\",\"s17-01-24 11:00\",\"s17-01-24 12:00\",\"s17-01-24 13:00\",\"s17-01-24 14:00\",\"s17-01-24 15:00\",\"s17-01-24 16:00\",\"s17-01-24 17:00\",\"s17-01-24 18:00\",\"s17-01-24 19:00\",\"s17-01-24 20:00\",\"s17-01-24 21:00\",\"s17-01-24 22:00\",\"s17-01-24 23:00\",\"s17-01-25 00:00\",\"s17-01-25 01:00\",\"s17-01-25 02:00\",\"s17-01-25 03:00\",\"s17-01-25 04:00\",\"s17-01-25 05:00\",\"s17-01-25 06:00\",\"s17-01-25 07:00\",\"s17-01-25 08:00\"],\"y\":[1.0670554707633277,1.067141647645361,1.0672309997526523,1.067304222974157,1.06737342539629,1.0674521555938283,1.0675221353234003,1.0675800728311946,1.0676516784909478,1.0677209937444376,1.0677955683907767,1.0678841281827423,1.067961960071205,1.0680346901900946,1.068115166168408,1.0681720361307656,1.0682149722212655,1.068268821649316,1.068320173648768,1.0683711649606396,1.0684182200403676,1.0684676992724818,1.0685147366127008,1.0685629346960739,1.0686111246727261,1.0686580469307039,1.06869972870281,1.0687360211390156,1.0687633178176714,1.0688074964280287],\"type\":\"scatter\",\"xaxis\":\"x\",\"yaxis\":\"y\"},{\"line\":{\"shape\":\"spline\",\"width\":2},\"name\":\"RSI_14\",\"x\":[\"s17-01-24 03:00\",\"s17-01-24 04:00\",\"s17-01-24 05:00\",\"s17-01-24 06:00\",\"s17-01-24 07:00\",\"s17-01-24 08:00\",\"s17-01-24 09:00\",\"s17-01-24 10:00\",\"s17-01-24 11:00\",\"s17-01-24 12:00\",\"s17-01-24 13:00\",\"s17-01-24 14:00\",\"s17-01-24 15:00\",\"s17-01-24 16:00\",\"s17-01-24 17:00\",\"s17-01-24 18:00\",\"s17-01-24 19:00\",\"s17-01-24 20:00\",\"s17-01-24 21:00\",\"s17-01-24 22:00\",\"s17-01-24 23:00\",\"s17-01-25 00:00\",\"s17-01-25 01:00\",\"s17-01-25 02:00\",\"s17-01-25 03:00\",\"s17-01-25 04:00\",\"s17-01-25 05:00\",\"s17-01-25 06:00\",\"s17-01-25 07:00\",\"s17-01-25 08:00\"],\"y\":[60.15745475089826,55.569326391941146,57.16482875905929,50.109132732823426,48.74040311250201,53.19237626365116,49.64964533057028,45.02381308601443,51.25303619564624,50.61256941680718,53.17798995381394,58.83409727875825,54.20052879237402,52.27291485562516,55.70810298501097,46.20232675403758,41.710421717244145,46.51075185149845,45.83327491369255,45.92752019539548,44.59069104567457,46.069891198011746,45.23388923648464,46.16898235452831,46.47653670351123,46.07960956594798,43.5072156059925,40.93674843170367,36.8465169180347,48.0305267535112],\"type\":\"scatter\",\"xaxis\":\"x\",\"yaxis\":\"y2\"}],                        {\"template\":{\"data\":{\"histogram2dcontour\":[{\"type\":\"histogram2dcontour\",\"colorbar\":{\"outlinewidth\":0,\"ticks\":\"\"},\"colorscale\":[[0.0,\"#0d0887\"],[0.1111111111111111,\"#46039f\"],[0.2222222222222222,\"#7201a8\"],[0.3333333333333333,\"#9c179e\"],[0.4444444444444444,\"#bd3786\"],[0.5555555555555556,\"#d8576b\"],[0.6666666666666666,\"#ed7953\"],[0.7777777777777778,\"#fb9f3a\"],[0.8888888888888888,\"#fdca26\"],[1.0,\"#f0f921\"]]}],\"choropleth\":[{\"type\":\"choropleth\",\"colorbar\":{\"outlinewidth\":0,\"ticks\":\"\"}}],\"histogram2d\":[{\"type\":\"histogram2d\",\"colorbar\":{\"outlinewidth\":0,\"ticks\":\"\"},\"colorscale\":[[0.0,\"#0d0887\"],[0.1111111111111111,\"#46039f\"],[0.2222222222222222,\"#7201a8\"],[0.3333333333333333,\"#9c179e\"],[0.4444444444444444,\"#bd3786\"],[0.5555555555555556,\"#d8576b\"],[0.6666666666666666,\"#ed7953\"],[0.7777777777777778,\"#fb9f3a\"],[0.8888888888888888,\"#fdca26\"],[1.0,\"#f0f921\"]]}],\"heatmap\":[{\"type\":\"heatmap\",\"colorbar\":{\"outlinewidth\":0,\"ticks\":\"\"},\"colorscale\":[[0.0,\"#0d0887\"],[0.1111111111111111,\"#46039f\"],[0.2222222222222222,\"#7201a8\"],[0.3333333333333333,\"#9c179e\"],[0.4444444444444444,\"#bd3786\"],[0.5555555555555556,\"#d8576b\"],[0.6666666666666666,\"#ed7953\"],[0.7777777777777778,\"#fb9f3a\"],[0.8888888888888888,\"#fdca26\"],[1.0,\"#f0f921\"]]}],\"heatmapgl\":[{\"type\":\"heatmapgl\",\"colorbar\":{\"outlinewidth\":0,\"ticks\":\"\"},\"colorscale\":[[0.0,\"#0d0887\"],[0.1111111111111111,\"#46039f\"],[0.2222222222222222,\"#7201a8\"],[0.3333333333333333,\"#9c179e\"],[0.4444444444444444,\"#bd3786\"],[0.5555555555555556,\"#d8576b\"],[0.6666666666666666,\"#ed7953\"],[0.7777777777777778,\"#fb9f3a\"],[0.8888888888888888,\"#fdca26\"],[1.0,\"#f0f921\"]]}],\"contourcarpet\":[{\"type\":\"contourcarpet\",\"colorbar\":{\"outlinewidth\":0,\"ticks\":\"\"}}],\"contour\":[{\"type\":\"contour\",\"colorbar\":{\"outlinewidth\":0,\"ticks\":\"\"},\"colorscale\":[[0.0,\"#0d0887\"],[0.1111111111111111,\"#46039f\"],[0.2222222222222222,\"#7201a8\"],[0.3333333333333333,\"#9c179e\"],[0.4444444444444444,\"#bd3786\"],[0.5555555555555556,\"#d8576b\"],[0.6666666666666666,\"#ed7953\"],[0.7777777777777778,\"#fb9f3a\"],[0.8888888888888888,\"#fdca26\"],[1.0,\"#f0f921\"]]}],\"surface\":[{\"type\":\"surface\",\"colorbar\":{\"outlinewidth\":0,\"ticks\":\"\"},\"colorscale\":[[0.0,\"#0d0887\"],[0.1111111111111111,\"#46039f\"],[0.2222222222222222,\"#7201a8\"],[0.3333333333333333,\"#9c179e\"],[0.4444444444444444,\"#bd3786\"],[0.5555555555555556,\"#d8576b\"],[0.6666666666666666,\"#ed7953\"],[0.7777777777777778,\"#fb9f3a\"],[0.8888888888888888,\"#fdca26\"],[1.0,\"#f0f921\"]]}],\"mesh3d\":[{\"type\":\"mesh3d\",\"colorbar\":{\"outlinewidth\":0,\"ticks\":\"\"}}],\"scatter\":[{\"fillpattern\":{\"fillmode\":\"overlay\",\"size\":10,\"solidity\":0.2},\"type\":\"scatter\"}],\"parcoords\":[{\"type\":\"parcoords\",\"line\":{\"colorbar\":{\"outlinewidth\":0,\"ticks\":\"\"}}}],\"scatterpolargl\":[{\"type\":\"scatterpolargl\",\"marker\":{\"colorbar\":{\"outlinewidth\":0,\"ticks\":\"\"}}}],\"bar\":[{\"error_x\":{\"color\":\"#2a3f5f\"},\"error_y\":{\"color\":\"#2a3f5f\"},\"marker\":{\"line\":{\"color\":\"#E5ECF6\",\"width\":0.5},\"pattern\":{\"fillmode\":\"overlay\",\"size\":10,\"solidity\":0.2}},\"type\":\"bar\"}],\"scattergeo\":[{\"type\":\"scattergeo\",\"marker\":{\"colorbar\":{\"outlinewidth\":0,\"ticks\":\"\"}}}],\"scatterpolar\":[{\"type\":\"scatterpolar\",\"marker\":{\"colorbar\":{\"outlinewidth\":0,\"ticks\":\"\"}}}],\"histogram\":[{\"marker\":{\"pattern\":{\"fillmode\":\"overlay\",\"size\":10,\"solidity\":0.2}},\"type\":\"histogram\"}],\"scattergl\":[{\"type\":\"scattergl\",\"marker\":{\"colorbar\":{\"outlinewidth\":0,\"ticks\":\"\"}}}],\"scatter3d\":[{\"type\":\"scatter3d\",\"line\":{\"colorbar\":{\"outlinewidth\":0,\"ticks\":\"\"}},\"marker\":{\"colorbar\":{\"outlinewidth\":0,\"ticks\":\"\"}}}],\"scattermapbox\":[{\"type\":\"scattermapbox\",\"marker\":{\"colorbar\":{\"outlinewidth\":0,\"ticks\":\"\"}}}],\"scatterternary\":[{\"type\":\"scatterternary\",\"marker\":{\"colorbar\":{\"outlinewidth\":0,\"ticks\":\"\"}}}],\"scattercarpet\":[{\"type\":\"scattercarpet\",\"marker\":{\"colorbar\":{\"outlinewidth\":0,\"ticks\":\"\"}}}],\"carpet\":[{\"aaxis\":{\"endlinecolor\":\"#2a3f5f\",\"gridcolor\":\"white\",\"linecolor\":\"white\",\"minorgridcolor\":\"white\",\"startlinecolor\":\"#2a3f5f\"},\"baxis\":{\"endlinecolor\":\"#2a3f5f\",\"gridcolor\":\"white\",\"linecolor\":\"white\",\"minorgridcolor\":\"white\",\"startlinecolor\":\"#2a3f5f\"},\"type\":\"carpet\"}],\"table\":[{\"cells\":{\"fill\":{\"color\":\"#EBF0F8\"},\"line\":{\"color\":\"white\"}},\"header\":{\"fill\":{\"color\":\"#C8D4E3\"},\"line\":{\"color\":\"white\"}},\"type\":\"table\"}],\"barpolar\":[{\"marker\":{\"line\":{\"color\":\"#E5ECF6\",\"width\":0.5},\"pattern\":{\"fillmode\":\"overlay\",\"size\":10,\"solidity\":0.2}},\"type\":\"barpolar\"}],\"pie\":[{\"automargin\":true,\"type\":\"pie\"}]},\"layout\":{\"autotypenumbers\":\"strict\",\"colorway\":[\"#636efa\",\"#EF553B\",\"#00cc96\",\"#ab63fa\",\"#FFA15A\",\"#19d3f3\",\"#FF6692\",\"#B6E880\",\"#FF97FF\",\"#FECB52\"],\"font\":{\"color\":\"#2a3f5f\"},\"hovermode\":\"closest\",\"hoverlabel\":{\"align\":\"left\"},\"paper_bgcolor\":\"white\",\"plot_bgcolor\":\"#E5ECF6\",\"polar\":{\"bgcolor\":\"#E5ECF6\",\"angularaxis\":{\"gridcolor\":\"white\",\"linecolor\":\"white\",\"ticks\":\"\"},\"radialaxis\":{\"gridcolor\":\"white\",\"linecolor\":\"white\",\"ticks\":\"\"}},\"ternary\":{\"bgcolor\":\"#E5ECF6\",\"aaxis\":{\"gridcolor\":\"white\",\"linecolor\":\"white\",\"ticks\":\"\"},\"baxis\":{\"gridcolor\":\"white\",\"linecolor\":\"white\",\"ticks\":\"\"},\"caxis\":{\"gridcolor\":\"white\",\"linecolor\":\"white\",\"ticks\":\"\"}},\"coloraxis\":{\"colorbar\":{\"outlinewidth\":0,\"ticks\":\"\"}},\"colorscale\":{\"sequential\":[[0.0,\"#0d0887\"],[0.1111111111111111,\"#46039f\"],[0.2222222222222222,\"#7201a8\"],[0.3333333333333333,\"#9c179e\"],[0.4444444444444444,\"#bd3786\"],[0.5555555555555556,\"#d8576b\"],[0.6666666666666666,\"#ed7953\"],[0.7777777777777778,\"#fb9f3a\"],[0.8888888888888888,\"#fdca26\"],[1.0,\"#f0f921\"]],\"sequentialminus\":[[0.0,\"#0d0887\"],[0.1111111111111111,\"#46039f\"],[0.2222222222222222,\"#7201a8\"],[0.3333333333333333,\"#9c179e\"],[0.4444444444444444,\"#bd3786\"],[0.5555555555555556,\"#d8576b\"],[0.6666666666666666,\"#ed7953\"],[0.7777777777777778,\"#fb9f3a\"],[0.8888888888888888,\"#fdca26\"],[1.0,\"#f0f921\"]],\"diverging\":[[0,\"#8e0152\"],[0.1,\"#c51b7d\"],[0.2,\"#de77ae\"],[0.3,\"#f1b6da\"],[0.4,\"#fde0ef\"],[0.5,\"#f7f7f7\"],[0.6,\"#e6f5d0\"],[0.7,\"#b8e186\"],[0.8,\"#7fbc41\"],[0.9,\"#4d9221\"],[1,\"#276419\"]]},\"xaxis\":{\"gridcolor\":\"white\",\"linecolor\":\"white\",\"ticks\":\"\",\"title\":{\"standoff\":15},\"zerolinecolor\":\"white\",\"automargin\":true,\"zerolinewidth\":2},\"yaxis\":{\"gridcolor\":\"white\",\"linecolor\":\"white\",\"ticks\":\"\",\"title\":{\"standoff\":15},\"zerolinecolor\":\"white\",\"automargin\":true,\"zerolinewidth\":2},\"scene\":{\"xaxis\":{\"backgroundcolor\":\"#E5ECF6\",\"gridcolor\":\"white\",\"linecolor\":\"white\",\"showbackground\":true,\"ticks\":\"\",\"zerolinecolor\":\"white\",\"gridwidth\":2},\"yaxis\":{\"backgroundcolor\":\"#E5ECF6\",\"gridcolor\":\"white\",\"linecolor\":\"white\",\"showbackground\":true,\"ticks\":\"\",\"zerolinecolor\":\"white\",\"gridwidth\":2},\"zaxis\":{\"backgroundcolor\":\"#E5ECF6\",\"gridcolor\":\"white\",\"linecolor\":\"white\",\"showbackground\":true,\"ticks\":\"\",\"zerolinecolor\":\"white\",\"gridwidth\":2}},\"shapedefaults\":{\"line\":{\"color\":\"#2a3f5f\"}},\"annotationdefaults\":{\"arrowcolor\":\"#2a3f5f\",\"arrowhead\":0,\"arrowwidth\":1},\"geo\":{\"bgcolor\":\"white\",\"landcolor\":\"#E5ECF6\",\"subunitcolor\":\"white\",\"showland\":true,\"showlakes\":true,\"lakecolor\":\"white\"},\"title\":{\"x\":0.05},\"mapbox\":{\"style\":\"light\"}}},\"xaxis\":{\"anchor\":\"y\",\"domain\":[0.0,0.94],\"rangeslider\":{\"visible\":false},\"gridcolor\":\"#1f292f\",\"nticks\":5},\"yaxis\":{\"anchor\":\"x\",\"domain\":[0.0,1.0],\"gridcolor\":\"#1f292f\"},\"yaxis2\":{\"anchor\":\"x\",\"overlaying\":\"y\",\"side\":\"right\",\"gridcolor\":\"#1f292f\"},\"margin\":{\"l\":10,\"r\":10,\"b\":10,\"t\":10},\"font\":{\"size\":8,\"color\":\"#e1e1e1\"},\"width\":900,\"height\":250,\"paper_bgcolor\":\"#2c303c\",\"plot_bgcolor\":\"#2c303c\"},                        {\"responsive\": true}                    ).then(function(){\n",
       "                            \n",
       "var gd = document.getElementById('8c8a36ee-8767-454d-84bd-afaa32d4e5ef');\n",
       "var x = new MutationObserver(function (mutations, observer) {{\n",
       "        var display = window.getComputedStyle(gd).display;\n",
       "        if (!display || display === 'none') {{\n",
       "            console.log([gd, 'removed!']);\n",
       "            Plotly.purge(gd);\n",
       "            observer.disconnect();\n",
       "        }}\n",
       "}});\n",
       "\n",
       "// Listen for the removal of the full notebook cells\n",
       "var notebookContainer = gd.closest('#notebook-container');\n",
       "if (notebookContainer) {{\n",
       "    x.observe(notebookContainer, {childList: true});\n",
       "}}\n",
       "\n",
       "// Listen for the clearing of the current output cell\n",
       "var outputEl = gd.closest('.output');\n",
       "if (outputEl) {{\n",
       "    x.observe(outputEl, {childList: true});\n",
       "}}\n",
       "\n",
       "                        })                };                });            </script>        </div>"
      ]
     },
     "metadata": {},
     "output_type": "display_data"
    }
   ],
   "source": [
    "df_plot = df_slim.iloc[70:100]\n",
    "cp = CandlePlot(df_plot, candles=True)\n",
    "\n",
    "trades = cp.df_plot[cp.df_plot.SIGNAL != NONE]\n",
    "\n",
    "markers = ['mid_c', 'TP', 'SL']\n",
    "marker_colors = ['#0000FF', '#00FF00', '#FF0000']\n",
    "\n",
    "for i in range(3):\n",
    "    cp.fig.add_trace(go.Scatter(\n",
    "        x = trades.sTime,\n",
    "        y = trades[markers[i]],\n",
    "        mode = 'markers',\n",
    "        marker=dict(color=marker_colors[i], size=12)\n",
    "    ))\n",
    "\n",
    "cp.show_plot(line_traces=[\"EMA_200\"], sec_traces=['RSI_14'], height=250)"
   ]
  },
  {
   "cell_type": "code",
   "execution_count": 66,
   "id": "48459b4f",
   "metadata": {},
   "outputs": [],
   "source": [
    "class Trade:\n",
    "    def __init__(self, row):\n",
    "        self.running = True\n",
    "        self.start_index = row.name\n",
    "\n",
    "        #go in at ask closing\n",
    "        if row.SIGNAL == BUY:\n",
    "            self.start_price = row.ask_c\n",
    "            self.trigger_price = row.ask_c\n",
    "        else:\n",
    "            #sell signal start at bid priceS\n",
    "            self.start_price = row.bid_c\n",
    "            self.trigger_price = row.bid_c\n",
    "            \n",
    "        self.SIGNAL = row.SIGNAL\n",
    "        self.TP = row.TP\n",
    "        self.SL = row.SL\n",
    "        self.result = 0.0\n",
    "        self.end_time = row.time\n",
    "        self.start_time = row.time\n",
    "        self.duration = 0\n",
    "        \n",
    "    def close_trade(self, row, result, trigger_price):\n",
    "        self.running = False\n",
    "        self.result = result\n",
    "        self.end_time = row.time\n",
    "        self.trigger_price = trigger_price\n",
    "        \n",
    "    def update(self, row):\n",
    "        self.duration += 1\n",
    "        if self.SIGNAL == BUY:\n",
    "            if row.bid_h >= self.TP:\n",
    "                self.close_trade(row, PROFIT_FACTOR, row.bid_h)\n",
    "            elif row.bid_l <= self.SL:\n",
    "                self.close_trade(row, LOSS_FACTOR, row.bid_l)\n",
    "        if self.SIGNAL == SELL:\n",
    "            if row.ask_l <= self.TP:\n",
    "                self.close_trade(row, PROFIT_FACTOR, row.ask_l)\n",
    "            elif row.ask_h >= self.SL:\n",
    "                self.close_trade(row, LOSS_FACTOR, row.ask_h)    "
   ]
  },
  {
   "cell_type": "code",
   "execution_count": 67,
   "id": "f5fa22a7",
   "metadata": {},
   "outputs": [],
   "source": [
    "open_trades = []\n",
    "closed_trades = []\n",
    "\n",
    "for index, row in df_slim.iterrows():\n",
    "    for ot in open_trades:\n",
    "        ot.update(row)\n",
    "        if ot.running == False:\n",
    "            closed_trades.append(ot)\n",
    "    open_trades = [x for x in open_trades if x.running == True]\n",
    "    \n",
    "    if row.SIGNAL != NONE:\n",
    "        open_trades.append(Trade(row))    "
   ]
  },
  {
   "cell_type": "code",
   "execution_count": 68,
   "id": "4020ad76",
   "metadata": {},
   "outputs": [],
   "source": [
    "df_results = pd.DataFrame.from_dict([vars(x) for x in closed_trades])"
   ]
  },
  {
   "cell_type": "code",
   "execution_count": 69,
   "id": "bd745bed",
   "metadata": {},
   "outputs": [
    {
     "data": {
      "text/plain": [
       "-444.0"
      ]
     },
     "execution_count": 69,
     "metadata": {},
     "output_type": "execute_result"
    }
   ],
   "source": [
    "df_results.result.sum()"
   ]
  },
  {
   "cell_type": "code",
   "execution_count": 70,
   "id": "7f6a9b79",
   "metadata": {},
   "outputs": [],
   "source": [
    "df_results.sort_values(by=\"start_index\", inplace=True)"
   ]
  },
  {
   "cell_type": "code",
   "execution_count": 71,
   "id": "0443a648",
   "metadata": {},
   "outputs": [],
   "source": [
    "df_m5 = pd.read_pickle(\"../data/EUR_USD_M5.pkl\")"
   ]
  },
  {
   "cell_type": "code",
   "execution_count": 72,
   "id": "de1da2fe",
   "metadata": {},
   "outputs": [
    {
     "data": {
      "text/plain": [
       "(445077, 14)"
      ]
     },
     "execution_count": 72,
     "metadata": {},
     "output_type": "execute_result"
    }
   ],
   "source": [
    "df_m5.shape"
   ]
  },
  {
   "cell_type": "code",
   "execution_count": 73,
   "id": "301f614e",
   "metadata": {},
   "outputs": [],
   "source": [
    "df_m5_slim = df_m5[['time','bid_h', 'bid_l','ask_h', 'ask_l' ]].copy()"
   ]
  },
  {
   "cell_type": "code",
   "execution_count": 74,
   "id": "94d93243",
   "metadata": {},
   "outputs": [
    {
     "data": {
      "text/html": [
       "<div>\n",
       "<style scoped>\n",
       "    .dataframe tbody tr th:only-of-type {\n",
       "        vertical-align: middle;\n",
       "    }\n",
       "\n",
       "    .dataframe tbody tr th {\n",
       "        vertical-align: top;\n",
       "    }\n",
       "\n",
       "    .dataframe thead th {\n",
       "        text-align: right;\n",
       "    }\n",
       "</style>\n",
       "<table border=\"1\" class=\"dataframe\">\n",
       "  <thead>\n",
       "    <tr style=\"text-align: right;\">\n",
       "      <th></th>\n",
       "      <th>time</th>\n",
       "      <th>bid_h</th>\n",
       "      <th>bid_l</th>\n",
       "      <th>ask_h</th>\n",
       "      <th>ask_l</th>\n",
       "    </tr>\n",
       "  </thead>\n",
       "  <tbody>\n",
       "    <tr>\n",
       "      <th>0</th>\n",
       "      <td>2017-01-08 22:00:00+00:00</td>\n",
       "      <td>1.05294</td>\n",
       "      <td>1.05265</td>\n",
       "      <td>1.05364</td>\n",
       "      <td>1.05323</td>\n",
       "    </tr>\n",
       "    <tr>\n",
       "      <th>1</th>\n",
       "      <td>2017-01-08 22:05:00+00:00</td>\n",
       "      <td>1.05295</td>\n",
       "      <td>1.05290</td>\n",
       "      <td>1.05325</td>\n",
       "      <td>1.05323</td>\n",
       "    </tr>\n",
       "    <tr>\n",
       "      <th>2</th>\n",
       "      <td>2017-01-08 22:10:00+00:00</td>\n",
       "      <td>1.05298</td>\n",
       "      <td>1.05293</td>\n",
       "      <td>1.05327</td>\n",
       "      <td>1.05324</td>\n",
       "    </tr>\n",
       "    <tr>\n",
       "      <th>3</th>\n",
       "      <td>2017-01-08 22:15:00+00:00</td>\n",
       "      <td>1.05290</td>\n",
       "      <td>1.05280</td>\n",
       "      <td>1.05320</td>\n",
       "      <td>1.05308</td>\n",
       "    </tr>\n",
       "    <tr>\n",
       "      <th>4</th>\n",
       "      <td>2017-01-08 22:25:00+00:00</td>\n",
       "      <td>1.05295</td>\n",
       "      <td>1.05281</td>\n",
       "      <td>1.05324</td>\n",
       "      <td>1.05308</td>\n",
       "    </tr>\n",
       "  </tbody>\n",
       "</table>\n",
       "</div>"
      ],
      "text/plain": [
       "                       time    bid_h    bid_l    ask_h    ask_l\n",
       "0 2017-01-08 22:00:00+00:00  1.05294  1.05265  1.05364  1.05323\n",
       "1 2017-01-08 22:05:00+00:00  1.05295  1.05290  1.05325  1.05323\n",
       "2 2017-01-08 22:10:00+00:00  1.05298  1.05293  1.05327  1.05324\n",
       "3 2017-01-08 22:15:00+00:00  1.05290  1.05280  1.05320  1.05308\n",
       "4 2017-01-08 22:25:00+00:00  1.05295  1.05281  1.05324  1.05308"
      ]
     },
     "execution_count": 74,
     "metadata": {},
     "output_type": "execute_result"
    }
   ],
   "source": [
    "df_m5_slim.head()"
   ]
  },
  {
   "cell_type": "code",
   "execution_count": 75,
   "id": "a534aa58",
   "metadata": {},
   "outputs": [],
   "source": [
    "df_signals = df_slim[df_slim.SIGNAL != NONE].copy() "
   ]
  },
  {
   "cell_type": "code",
   "execution_count": 76,
   "id": "a634cf5b",
   "metadata": {},
   "outputs": [],
   "source": [
    "df_signals['m5_start'] = [x + dt.timedelta(hours=1) for x in df_signals.time]"
   ]
  },
  {
   "cell_type": "code",
   "execution_count": 77,
   "id": "a87b9c39",
   "metadata": {},
   "outputs": [],
   "source": [
    "df_signals['start_index_h1'] = df_signals.index"
   ]
  },
  {
   "cell_type": "code",
   "execution_count": 78,
   "id": "55b9d019",
   "metadata": {},
   "outputs": [
    {
     "data": {
      "text/html": [
       "<div>\n",
       "<style scoped>\n",
       "    .dataframe tbody tr th:only-of-type {\n",
       "        vertical-align: middle;\n",
       "    }\n",
       "\n",
       "    .dataframe tbody tr th {\n",
       "        vertical-align: top;\n",
       "    }\n",
       "\n",
       "    .dataframe thead th {\n",
       "        text-align: right;\n",
       "    }\n",
       "</style>\n",
       "<table border=\"1\" class=\"dataframe\">\n",
       "  <thead>\n",
       "    <tr style=\"text-align: right;\">\n",
       "      <th></th>\n",
       "      <th>time</th>\n",
       "      <th>mid_o</th>\n",
       "      <th>mid_h</th>\n",
       "      <th>mid_l</th>\n",
       "      <th>mid_c</th>\n",
       "      <th>bid_o</th>\n",
       "      <th>bid_h</th>\n",
       "      <th>bid_l</th>\n",
       "      <th>bid_c</th>\n",
       "      <th>ask_o</th>\n",
       "      <th>...</th>\n",
       "      <th>ask_c</th>\n",
       "      <th>ENGULFING</th>\n",
       "      <th>direction</th>\n",
       "      <th>EMA_200</th>\n",
       "      <th>RSI_14</th>\n",
       "      <th>SIGNAL</th>\n",
       "      <th>TP</th>\n",
       "      <th>SL</th>\n",
       "      <th>m5_start</th>\n",
       "      <th>start_index_h1</th>\n",
       "    </tr>\n",
       "  </thead>\n",
       "  <tbody>\n",
       "    <tr>\n",
       "      <th>6</th>\n",
       "      <td>2017-01-19 11:00:00+00:00</td>\n",
       "      <td>1.06556</td>\n",
       "      <td>1.06651</td>\n",
       "      <td>1.06534</td>\n",
       "      <td>1.06642</td>\n",
       "      <td>1.06550</td>\n",
       "      <td>1.06644</td>\n",
       "      <td>1.06528</td>\n",
       "      <td>1.06636</td>\n",
       "      <td>1.06563</td>\n",
       "      <td>...</td>\n",
       "      <td>1.06648</td>\n",
       "      <td>True</td>\n",
       "      <td>1</td>\n",
       "      <td>1.063481</td>\n",
       "      <td>54.663263</td>\n",
       "      <td>1</td>\n",
       "      <td>1.067755</td>\n",
       "      <td>1.06563</td>\n",
       "      <td>2017-01-19 12:00:00+00:00</td>\n",
       "      <td>6</td>\n",
       "    </tr>\n",
       "    <tr>\n",
       "      <th>20</th>\n",
       "      <td>2017-01-20 01:00:00+00:00</td>\n",
       "      <td>1.06536</td>\n",
       "      <td>1.06878</td>\n",
       "      <td>1.06536</td>\n",
       "      <td>1.06816</td>\n",
       "      <td>1.06527</td>\n",
       "      <td>1.06869</td>\n",
       "      <td>1.06527</td>\n",
       "      <td>1.06808</td>\n",
       "      <td>1.06544</td>\n",
       "      <td>...</td>\n",
       "      <td>1.06824</td>\n",
       "      <td>True</td>\n",
       "      <td>1</td>\n",
       "      <td>1.063625</td>\n",
       "      <td>60.446393</td>\n",
       "      <td>1</td>\n",
       "      <td>1.072440</td>\n",
       "      <td>1.06544</td>\n",
       "      <td>2017-01-20 02:00:00+00:00</td>\n",
       "      <td>20</td>\n",
       "    </tr>\n",
       "    <tr>\n",
       "      <th>22</th>\n",
       "      <td>2017-01-20 03:00:00+00:00</td>\n",
       "      <td>1.06776</td>\n",
       "      <td>1.06936</td>\n",
       "      <td>1.06776</td>\n",
       "      <td>1.06852</td>\n",
       "      <td>1.06769</td>\n",
       "      <td>1.06929</td>\n",
       "      <td>1.06769</td>\n",
       "      <td>1.06844</td>\n",
       "      <td>1.06784</td>\n",
       "      <td>...</td>\n",
       "      <td>1.06859</td>\n",
       "      <td>True</td>\n",
       "      <td>1</td>\n",
       "      <td>1.063725</td>\n",
       "      <td>60.944089</td>\n",
       "      <td>1</td>\n",
       "      <td>1.069715</td>\n",
       "      <td>1.06784</td>\n",
       "      <td>2017-01-20 04:00:00+00:00</td>\n",
       "      <td>22</td>\n",
       "    </tr>\n",
       "    <tr>\n",
       "      <th>25</th>\n",
       "      <td>2017-01-20 06:00:00+00:00</td>\n",
       "      <td>1.06727</td>\n",
       "      <td>1.06860</td>\n",
       "      <td>1.06727</td>\n",
       "      <td>1.06828</td>\n",
       "      <td>1.06719</td>\n",
       "      <td>1.06853</td>\n",
       "      <td>1.06719</td>\n",
       "      <td>1.06820</td>\n",
       "      <td>1.06735</td>\n",
       "      <td>...</td>\n",
       "      <td>1.06837</td>\n",
       "      <td>True</td>\n",
       "      <td>1</td>\n",
       "      <td>1.063862</td>\n",
       "      <td>58.804946</td>\n",
       "      <td>1</td>\n",
       "      <td>1.069900</td>\n",
       "      <td>1.06735</td>\n",
       "      <td>2017-01-20 07:00:00+00:00</td>\n",
       "      <td>25</td>\n",
       "    </tr>\n",
       "    <tr>\n",
       "      <th>34</th>\n",
       "      <td>2017-01-20 15:00:00+00:00</td>\n",
       "      <td>1.06552</td>\n",
       "      <td>1.06836</td>\n",
       "      <td>1.06552</td>\n",
       "      <td>1.06788</td>\n",
       "      <td>1.06546</td>\n",
       "      <td>1.06829</td>\n",
       "      <td>1.06546</td>\n",
       "      <td>1.06783</td>\n",
       "      <td>1.06559</td>\n",
       "      <td>...</td>\n",
       "      <td>1.06794</td>\n",
       "      <td>True</td>\n",
       "      <td>1</td>\n",
       "      <td>1.063998</td>\n",
       "      <td>57.432484</td>\n",
       "      <td>1</td>\n",
       "      <td>1.071465</td>\n",
       "      <td>1.06559</td>\n",
       "      <td>2017-01-20 16:00:00+00:00</td>\n",
       "      <td>34</td>\n",
       "    </tr>\n",
       "  </tbody>\n",
       "</table>\n",
       "<p>5 rows × 22 columns</p>\n",
       "</div>"
      ],
      "text/plain": [
       "                        time    mid_o    mid_h    mid_l    mid_c    bid_o  \\\n",
       "6  2017-01-19 11:00:00+00:00  1.06556  1.06651  1.06534  1.06642  1.06550   \n",
       "20 2017-01-20 01:00:00+00:00  1.06536  1.06878  1.06536  1.06816  1.06527   \n",
       "22 2017-01-20 03:00:00+00:00  1.06776  1.06936  1.06776  1.06852  1.06769   \n",
       "25 2017-01-20 06:00:00+00:00  1.06727  1.06860  1.06727  1.06828  1.06719   \n",
       "34 2017-01-20 15:00:00+00:00  1.06552  1.06836  1.06552  1.06788  1.06546   \n",
       "\n",
       "      bid_h    bid_l    bid_c    ask_o  ...    ask_c  ENGULFING  direction  \\\n",
       "6   1.06644  1.06528  1.06636  1.06563  ...  1.06648       True          1   \n",
       "20  1.06869  1.06527  1.06808  1.06544  ...  1.06824       True          1   \n",
       "22  1.06929  1.06769  1.06844  1.06784  ...  1.06859       True          1   \n",
       "25  1.06853  1.06719  1.06820  1.06735  ...  1.06837       True          1   \n",
       "34  1.06829  1.06546  1.06783  1.06559  ...  1.06794       True          1   \n",
       "\n",
       "     EMA_200     RSI_14  SIGNAL        TP       SL                  m5_start  \\\n",
       "6   1.063481  54.663263       1  1.067755  1.06563 2017-01-19 12:00:00+00:00   \n",
       "20  1.063625  60.446393       1  1.072440  1.06544 2017-01-20 02:00:00+00:00   \n",
       "22  1.063725  60.944089       1  1.069715  1.06784 2017-01-20 04:00:00+00:00   \n",
       "25  1.063862  58.804946       1  1.069900  1.06735 2017-01-20 07:00:00+00:00   \n",
       "34  1.063998  57.432484       1  1.071465  1.06559 2017-01-20 16:00:00+00:00   \n",
       "\n",
       "    start_index_h1  \n",
       "6                6  \n",
       "20              20  \n",
       "22              22  \n",
       "25              25  \n",
       "34              34  \n",
       "\n",
       "[5 rows x 22 columns]"
      ]
     },
     "execution_count": 78,
     "metadata": {},
     "output_type": "execute_result"
    }
   ],
   "source": [
    "df_signals.head()"
   ]
  },
  {
   "cell_type": "code",
   "execution_count": 79,
   "id": "78d349b1",
   "metadata": {},
   "outputs": [
    {
     "data": {
      "text/plain": [
       "Index(['time', 'mid_o', 'mid_h', 'mid_l', 'mid_c', 'bid_o', 'bid_h', 'bid_l',\n",
       "       'bid_c', 'ask_o', 'ask_h', 'ask_l', 'ask_c', 'ENGULFING', 'direction',\n",
       "       'EMA_200', 'RSI_14', 'SIGNAL', 'TP', 'SL', 'm5_start',\n",
       "       'start_index_h1'],\n",
       "      dtype='object')"
      ]
     },
     "execution_count": 79,
     "metadata": {},
     "output_type": "execute_result"
    }
   ],
   "source": [
    "df_signals.columns"
   ]
  },
  {
   "cell_type": "code",
   "execution_count": 80,
   "id": "d16475b2",
   "metadata": {},
   "outputs": [],
   "source": [
    "df_signals.drop(['time', 'mid_o', 'mid_h', 'mid_l', 'mid_c', 'bid_o', 'bid_h', 'bid_l',\n",
    "        'ask_o', 'ask_h', 'ask_l', 'ENGULFING', 'direction',\n",
    "       'EMA_200', 'RSI_14'], axis=1, inplace=True)"
   ]
  },
  {
   "cell_type": "code",
   "execution_count": 81,
   "id": "5924a24c",
   "metadata": {},
   "outputs": [
    {
     "data": {
      "text/html": [
       "<div>\n",
       "<style scoped>\n",
       "    .dataframe tbody tr th:only-of-type {\n",
       "        vertical-align: middle;\n",
       "    }\n",
       "\n",
       "    .dataframe tbody tr th {\n",
       "        vertical-align: top;\n",
       "    }\n",
       "\n",
       "    .dataframe thead th {\n",
       "        text-align: right;\n",
       "    }\n",
       "</style>\n",
       "<table border=\"1\" class=\"dataframe\">\n",
       "  <thead>\n",
       "    <tr style=\"text-align: right;\">\n",
       "      <th></th>\n",
       "      <th>bid_c</th>\n",
       "      <th>ask_c</th>\n",
       "      <th>SIGNAL</th>\n",
       "      <th>TP</th>\n",
       "      <th>SL</th>\n",
       "      <th>m5_start</th>\n",
       "      <th>start_index_h1</th>\n",
       "    </tr>\n",
       "  </thead>\n",
       "  <tbody>\n",
       "    <tr>\n",
       "      <th>6</th>\n",
       "      <td>1.06636</td>\n",
       "      <td>1.06648</td>\n",
       "      <td>1</td>\n",
       "      <td>1.067755</td>\n",
       "      <td>1.06563</td>\n",
       "      <td>2017-01-19 12:00:00+00:00</td>\n",
       "      <td>6</td>\n",
       "    </tr>\n",
       "    <tr>\n",
       "      <th>20</th>\n",
       "      <td>1.06808</td>\n",
       "      <td>1.06824</td>\n",
       "      <td>1</td>\n",
       "      <td>1.072440</td>\n",
       "      <td>1.06544</td>\n",
       "      <td>2017-01-20 02:00:00+00:00</td>\n",
       "      <td>20</td>\n",
       "    </tr>\n",
       "    <tr>\n",
       "      <th>22</th>\n",
       "      <td>1.06844</td>\n",
       "      <td>1.06859</td>\n",
       "      <td>1</td>\n",
       "      <td>1.069715</td>\n",
       "      <td>1.06784</td>\n",
       "      <td>2017-01-20 04:00:00+00:00</td>\n",
       "      <td>22</td>\n",
       "    </tr>\n",
       "    <tr>\n",
       "      <th>25</th>\n",
       "      <td>1.06820</td>\n",
       "      <td>1.06837</td>\n",
       "      <td>1</td>\n",
       "      <td>1.069900</td>\n",
       "      <td>1.06735</td>\n",
       "      <td>2017-01-20 07:00:00+00:00</td>\n",
       "      <td>25</td>\n",
       "    </tr>\n",
       "    <tr>\n",
       "      <th>34</th>\n",
       "      <td>1.06783</td>\n",
       "      <td>1.06794</td>\n",
       "      <td>1</td>\n",
       "      <td>1.071465</td>\n",
       "      <td>1.06559</td>\n",
       "      <td>2017-01-20 16:00:00+00:00</td>\n",
       "      <td>34</td>\n",
       "    </tr>\n",
       "  </tbody>\n",
       "</table>\n",
       "</div>"
      ],
      "text/plain": [
       "      bid_c    ask_c  SIGNAL        TP       SL                  m5_start  \\\n",
       "6   1.06636  1.06648       1  1.067755  1.06563 2017-01-19 12:00:00+00:00   \n",
       "20  1.06808  1.06824       1  1.072440  1.06544 2017-01-20 02:00:00+00:00   \n",
       "22  1.06844  1.06859       1  1.069715  1.06784 2017-01-20 04:00:00+00:00   \n",
       "25  1.06820  1.06837       1  1.069900  1.06735 2017-01-20 07:00:00+00:00   \n",
       "34  1.06783  1.06794       1  1.071465  1.06559 2017-01-20 16:00:00+00:00   \n",
       "\n",
       "    start_index_h1  \n",
       "6                6  \n",
       "20              20  \n",
       "22              22  \n",
       "25              25  \n",
       "34              34  "
      ]
     },
     "execution_count": 81,
     "metadata": {},
     "output_type": "execute_result"
    }
   ],
   "source": [
    "df_signals.head()"
   ]
  },
  {
   "cell_type": "code",
   "execution_count": 82,
   "id": "8d3db758",
   "metadata": {},
   "outputs": [],
   "source": [
    "df_signals.rename(columns={\n",
    "    'bid_c' : 'start_price_BUY',\n",
    "    'ask_c' : 'start_price_SELL',\n",
    "    'm5_start' : 'time'\n",
    "}, inplace=True)"
   ]
  },
  {
   "cell_type": "code",
   "execution_count": 83,
   "id": "aec9d5ae",
   "metadata": {},
   "outputs": [
    {
     "data": {
      "text/html": [
       "<div>\n",
       "<style scoped>\n",
       "    .dataframe tbody tr th:only-of-type {\n",
       "        vertical-align: middle;\n",
       "    }\n",
       "\n",
       "    .dataframe tbody tr th {\n",
       "        vertical-align: top;\n",
       "    }\n",
       "\n",
       "    .dataframe thead th {\n",
       "        text-align: right;\n",
       "    }\n",
       "</style>\n",
       "<table border=\"1\" class=\"dataframe\">\n",
       "  <thead>\n",
       "    <tr style=\"text-align: right;\">\n",
       "      <th></th>\n",
       "      <th>start_price_BUY</th>\n",
       "      <th>start_price_SELL</th>\n",
       "      <th>SIGNAL</th>\n",
       "      <th>TP</th>\n",
       "      <th>SL</th>\n",
       "      <th>time</th>\n",
       "      <th>start_index_h1</th>\n",
       "    </tr>\n",
       "  </thead>\n",
       "  <tbody>\n",
       "    <tr>\n",
       "      <th>6</th>\n",
       "      <td>1.06636</td>\n",
       "      <td>1.06648</td>\n",
       "      <td>1</td>\n",
       "      <td>1.067755</td>\n",
       "      <td>1.06563</td>\n",
       "      <td>2017-01-19 12:00:00+00:00</td>\n",
       "      <td>6</td>\n",
       "    </tr>\n",
       "    <tr>\n",
       "      <th>20</th>\n",
       "      <td>1.06808</td>\n",
       "      <td>1.06824</td>\n",
       "      <td>1</td>\n",
       "      <td>1.072440</td>\n",
       "      <td>1.06544</td>\n",
       "      <td>2017-01-20 02:00:00+00:00</td>\n",
       "      <td>20</td>\n",
       "    </tr>\n",
       "  </tbody>\n",
       "</table>\n",
       "</div>"
      ],
      "text/plain": [
       "    start_price_BUY  start_price_SELL  SIGNAL        TP       SL  \\\n",
       "6           1.06636           1.06648       1  1.067755  1.06563   \n",
       "20          1.06808           1.06824       1  1.072440  1.06544   \n",
       "\n",
       "                        time  start_index_h1  \n",
       "6  2017-01-19 12:00:00+00:00               6  \n",
       "20 2017-01-20 02:00:00+00:00              20  "
      ]
     },
     "execution_count": 83,
     "metadata": {},
     "output_type": "execute_result"
    }
   ],
   "source": [
    "df_signals.head(2)"
   ]
  },
  {
   "cell_type": "code",
   "execution_count": 84,
   "id": "ae7ca4af",
   "metadata": {},
   "outputs": [
    {
     "data": {
      "text/html": [
       "<div>\n",
       "<style scoped>\n",
       "    .dataframe tbody tr th:only-of-type {\n",
       "        vertical-align: middle;\n",
       "    }\n",
       "\n",
       "    .dataframe tbody tr th {\n",
       "        vertical-align: top;\n",
       "    }\n",
       "\n",
       "    .dataframe thead th {\n",
       "        text-align: right;\n",
       "    }\n",
       "</style>\n",
       "<table border=\"1\" class=\"dataframe\">\n",
       "  <thead>\n",
       "    <tr style=\"text-align: right;\">\n",
       "      <th></th>\n",
       "      <th>time</th>\n",
       "      <th>bid_h</th>\n",
       "      <th>bid_l</th>\n",
       "      <th>ask_h</th>\n",
       "      <th>ask_l</th>\n",
       "    </tr>\n",
       "  </thead>\n",
       "  <tbody>\n",
       "    <tr>\n",
       "      <th>0</th>\n",
       "      <td>2017-01-08 22:00:00+00:00</td>\n",
       "      <td>1.05294</td>\n",
       "      <td>1.05265</td>\n",
       "      <td>1.05364</td>\n",
       "      <td>1.05323</td>\n",
       "    </tr>\n",
       "    <tr>\n",
       "      <th>1</th>\n",
       "      <td>2017-01-08 22:05:00+00:00</td>\n",
       "      <td>1.05295</td>\n",
       "      <td>1.05290</td>\n",
       "      <td>1.05325</td>\n",
       "      <td>1.05323</td>\n",
       "    </tr>\n",
       "  </tbody>\n",
       "</table>\n",
       "</div>"
      ],
      "text/plain": [
       "                       time    bid_h    bid_l    ask_h    ask_l\n",
       "0 2017-01-08 22:00:00+00:00  1.05294  1.05265  1.05364  1.05323\n",
       "1 2017-01-08 22:05:00+00:00  1.05295  1.05290  1.05325  1.05323"
      ]
     },
     "execution_count": 84,
     "metadata": {},
     "output_type": "execute_result"
    }
   ],
   "source": [
    "df_m5_slim.head(2)"
   ]
  },
  {
   "cell_type": "code",
   "execution_count": 85,
   "id": "48ffdab0",
   "metadata": {},
   "outputs": [],
   "source": [
    "merged = pd.merge(left=df_m5_slim, right=df_signals, on='time', how='left')"
   ]
  },
  {
   "cell_type": "code",
   "execution_count": 86,
   "id": "e82a939b",
   "metadata": {},
   "outputs": [],
   "source": [
    "merged.fillna(0, inplace=True)"
   ]
  },
  {
   "cell_type": "code",
   "execution_count": 87,
   "id": "4b9fac68",
   "metadata": {},
   "outputs": [],
   "source": [
    "merged.SIGNAL = merged.SIGNAL.astype(int)\n",
    "merged.start_index_h1 = merged.start_index_h1.astype(int)"
   ]
  },
  {
   "cell_type": "code",
   "execution_count": 88,
   "id": "d6b724e3",
   "metadata": {},
   "outputs": [
    {
     "data": {
      "text/html": [
       "<div>\n",
       "<style scoped>\n",
       "    .dataframe tbody tr th:only-of-type {\n",
       "        vertical-align: middle;\n",
       "    }\n",
       "\n",
       "    .dataframe tbody tr th {\n",
       "        vertical-align: top;\n",
       "    }\n",
       "\n",
       "    .dataframe thead th {\n",
       "        text-align: right;\n",
       "    }\n",
       "</style>\n",
       "<table border=\"1\" class=\"dataframe\">\n",
       "  <thead>\n",
       "    <tr style=\"text-align: right;\">\n",
       "      <th></th>\n",
       "      <th>time</th>\n",
       "      <th>bid_h</th>\n",
       "      <th>bid_l</th>\n",
       "      <th>ask_h</th>\n",
       "      <th>ask_l</th>\n",
       "      <th>start_price_BUY</th>\n",
       "      <th>start_price_SELL</th>\n",
       "      <th>SIGNAL</th>\n",
       "      <th>TP</th>\n",
       "      <th>SL</th>\n",
       "      <th>start_index_h1</th>\n",
       "    </tr>\n",
       "  </thead>\n",
       "  <tbody>\n",
       "    <tr>\n",
       "      <th>0</th>\n",
       "      <td>2017-01-08 22:00:00+00:00</td>\n",
       "      <td>1.05294</td>\n",
       "      <td>1.05265</td>\n",
       "      <td>1.05364</td>\n",
       "      <td>1.05323</td>\n",
       "      <td>0.0</td>\n",
       "      <td>0.0</td>\n",
       "      <td>0</td>\n",
       "      <td>0.0</td>\n",
       "      <td>0.0</td>\n",
       "      <td>0</td>\n",
       "    </tr>\n",
       "    <tr>\n",
       "      <th>1</th>\n",
       "      <td>2017-01-08 22:05:00+00:00</td>\n",
       "      <td>1.05295</td>\n",
       "      <td>1.05290</td>\n",
       "      <td>1.05325</td>\n",
       "      <td>1.05323</td>\n",
       "      <td>0.0</td>\n",
       "      <td>0.0</td>\n",
       "      <td>0</td>\n",
       "      <td>0.0</td>\n",
       "      <td>0.0</td>\n",
       "      <td>0</td>\n",
       "    </tr>\n",
       "    <tr>\n",
       "      <th>2</th>\n",
       "      <td>2017-01-08 22:10:00+00:00</td>\n",
       "      <td>1.05298</td>\n",
       "      <td>1.05293</td>\n",
       "      <td>1.05327</td>\n",
       "      <td>1.05324</td>\n",
       "      <td>0.0</td>\n",
       "      <td>0.0</td>\n",
       "      <td>0</td>\n",
       "      <td>0.0</td>\n",
       "      <td>0.0</td>\n",
       "      <td>0</td>\n",
       "    </tr>\n",
       "    <tr>\n",
       "      <th>3</th>\n",
       "      <td>2017-01-08 22:15:00+00:00</td>\n",
       "      <td>1.05290</td>\n",
       "      <td>1.05280</td>\n",
       "      <td>1.05320</td>\n",
       "      <td>1.05308</td>\n",
       "      <td>0.0</td>\n",
       "      <td>0.0</td>\n",
       "      <td>0</td>\n",
       "      <td>0.0</td>\n",
       "      <td>0.0</td>\n",
       "      <td>0</td>\n",
       "    </tr>\n",
       "    <tr>\n",
       "      <th>4</th>\n",
       "      <td>2017-01-08 22:25:00+00:00</td>\n",
       "      <td>1.05295</td>\n",
       "      <td>1.05281</td>\n",
       "      <td>1.05324</td>\n",
       "      <td>1.05308</td>\n",
       "      <td>0.0</td>\n",
       "      <td>0.0</td>\n",
       "      <td>0</td>\n",
       "      <td>0.0</td>\n",
       "      <td>0.0</td>\n",
       "      <td>0</td>\n",
       "    </tr>\n",
       "  </tbody>\n",
       "</table>\n",
       "</div>"
      ],
      "text/plain": [
       "                       time    bid_h    bid_l    ask_h    ask_l  \\\n",
       "0 2017-01-08 22:00:00+00:00  1.05294  1.05265  1.05364  1.05323   \n",
       "1 2017-01-08 22:05:00+00:00  1.05295  1.05290  1.05325  1.05323   \n",
       "2 2017-01-08 22:10:00+00:00  1.05298  1.05293  1.05327  1.05324   \n",
       "3 2017-01-08 22:15:00+00:00  1.05290  1.05280  1.05320  1.05308   \n",
       "4 2017-01-08 22:25:00+00:00  1.05295  1.05281  1.05324  1.05308   \n",
       "\n",
       "   start_price_BUY  start_price_SELL  SIGNAL   TP   SL  start_index_h1  \n",
       "0              0.0               0.0       0  0.0  0.0               0  \n",
       "1              0.0               0.0       0  0.0  0.0               0  \n",
       "2              0.0               0.0       0  0.0  0.0               0  \n",
       "3              0.0               0.0       0  0.0  0.0               0  \n",
       "4              0.0               0.0       0  0.0  0.0               0  "
      ]
     },
     "execution_count": 88,
     "metadata": {},
     "output_type": "execute_result"
    }
   ],
   "source": [
    "merged.head()"
   ]
  },
  {
   "cell_type": "code",
   "execution_count": null,
   "id": "21750564",
   "metadata": {},
   "outputs": [],
   "source": [
    "class TradeM5:\n",
    "    def __init__(self, row):\n",
    "        self.running = True\n",
    "        self.start_index_m5 = row.name\n",
    "        self.start_index_h1 = row.start_index_h1\n",
    "        \n",
    "        if row.SIGNAL == BUY:\n",
    "            #diff between with spread\n",
    "            self.start_price = row.start_price_BUY\n",
    "            self.trigger_price = row.start_price_BUY\n",
    "        else:\n",
    "            self.start_price = row.start_price_SELL\n",
    "            self.trigger_price = row.start_price_SELL\n",
    "            \n",
    "        self.SIGNAL = row.SIGNAL\n",
    "        self.TP = row.TP\n",
    "        self.SL = row.SL\n",
    "        self.result = 0.0\n",
    "        self.end_time = row.time\n",
    "        self.start_time = row.time\n",
    "        self.duration = 1\n",
    "        \n",
    "    def close_trade(self, row, result, trigger_price):\n",
    "        self.running = False\n",
    "        self.result = result\n",
    "        self.end_time = row.time\n",
    "        self.trigger_price = trigger_price\n",
    "        \n",
    "    def update(self, row):\n",
    "        self.duration += 1\n",
    "        if self.SIGNAL == BUY:\n",
    "            if row.bid_h >= self.TP:\n",
    "                self.close_trade(row, PROFIT_FACTOR, row.bid_h)\n",
    "            elif row.bid_l <= self.SL:\n",
    "                self.close_trade(row, LOSS_FACTOR, row.bid_l)\n",
    "        if self.SIGNAL == SELL:\n",
    "            if row.ask_l <= self.TP:\n",
    "                self.close_trade(row, PROFIT_FACTOR, row.ask_l)\n",
    "            elif row.ask_h >= self.SL:\n",
    "                self.close_trade(row, LOSS_FACTOR, row.ask_h)   "
   ]
  },
  {
   "cell_type": "code",
   "execution_count": null,
   "id": "9899d481",
   "metadata": {},
   "outputs": [],
   "source": [
    "open_trades_m5 = []\n",
    "closed_trades_m5 = []\n",
    "\n",
    "for index, row in merged.iterrows():\n",
    "    \n",
    "    if row.SIGNAL != NONE:\n",
    "        open_trades_m5.append(TradeM5(row))   \n",
    "        \n",
    "    for ot in open_trades_m5:\n",
    "        ot.update(row)\n",
    "        if ot.running == False:\n",
    "            closed_trades_m5.append(ot)\n",
    "    open_trades_m5 = [x for x in open_trades_m5 if x.running == True]"
   ]
  },
  {
   "cell_type": "code",
   "execution_count": null,
   "id": "0bb7407d",
   "metadata": {},
   "outputs": [],
   "source": [
    "df_res_m5 = pd.DataFrame.from_dict([vars(x) for x in closed_trades_m5])"
   ]
  },
  {
   "cell_type": "code",
   "execution_count": null,
   "id": "356f448c",
   "metadata": {},
   "outputs": [],
   "source": [
    "df_res_m5.head()"
   ]
  },
  {
   "cell_type": "code",
   "execution_count": null,
   "id": "8f4fb66c",
   "metadata": {},
   "outputs": [],
   "source": [
    "df_res_m5.result.sum()"
   ]
  },
  {
   "cell_type": "code",
   "execution_count": null,
   "id": "314355c3",
   "metadata": {},
   "outputs": [],
   "source": []
  },
  {
   "cell_type": "code",
   "execution_count": null,
   "id": "36fab442",
   "metadata": {},
   "outputs": [],
   "source": []
  },
  {
   "cell_type": "code",
   "execution_count": null,
   "id": "d9b1f5f0",
   "metadata": {},
   "outputs": [],
   "source": []
  },
  {
   "cell_type": "code",
   "execution_count": null,
   "id": "b3aae0b2",
   "metadata": {},
   "outputs": [],
   "source": []
  },
  {
   "cell_type": "code",
   "execution_count": null,
   "id": "990d4bde",
   "metadata": {},
   "outputs": [],
   "source": []
  },
  {
   "cell_type": "code",
   "execution_count": null,
   "id": "3f968cf3",
   "metadata": {},
   "outputs": [],
   "source": []
  }
 ],
 "metadata": {
  "kernelspec": {
   "display_name": "Python 3 (ipykernel)",
   "language": "python",
   "name": "python3"
  },
  "language_info": {
   "codemirror_mode": {
    "name": "ipython",
    "version": 3
   },
   "file_extension": ".py",
   "mimetype": "text/x-python",
   "name": "python",
   "nbconvert_exporter": "python",
   "pygments_lexer": "ipython3",
   "version": "3.10.9"
  }
 },
 "nbformat": 4,
 "nbformat_minor": 5
}
