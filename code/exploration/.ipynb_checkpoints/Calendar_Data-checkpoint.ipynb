{
 "cells": [
  {
   "cell_type": "code",
   "execution_count": 1,
   "id": "703154c3",
   "metadata": {},
   "outputs": [],
   "source": [
    "import sys\n",
    "sys.path.append(\"../\")\n",
    "\n",
    "import pandas as pd\n",
    "import plotly.graph_objects as go\n",
    "from dateutil import parser\n",
    "import datetime as dt\n",
    "\n",
    "from api.oanda_api import OandaApi\n",
    "from infrastructure.instrument_collection import instrumentCollection as ic\n",
    "from db.db import DataDB\n",
    "\n",
    "pd.set_option('display.max_rows', None)"
   ]
  },
  {
   "cell_type": "code",
   "execution_count": 2,
   "id": "be92638f",
   "metadata": {},
   "outputs": [],
   "source": [
    "database = DataDB()"
   ]
  },
  {
   "cell_type": "code",
   "execution_count": 3,
   "id": "8dc2b3e8",
   "metadata": {},
   "outputs": [],
   "source": [
    "ic.LoadInstrumentsDB()"
   ]
  },
  {
   "cell_type": "code",
   "execution_count": 4,
   "id": "a0d27d68",
   "metadata": {},
   "outputs": [],
   "source": [
    "pairs = []\n",
    "for pair, val in ic.instruments_dict.items():\n",
    "    if val.ins_type == \"CURRENCY\" and \"GBP\" in pair:\n",
    "        pairs.append(pair)"
   ]
  },
  {
   "cell_type": "code",
   "execution_count": 5,
   "id": "b886a581",
   "metadata": {},
   "outputs": [
    {
     "data": {
      "text/plain": [
       "['EUR_GBP',\n",
       " 'GBP_NZD',\n",
       " 'GBP_PLN',\n",
       " 'GBP_CHF',\n",
       " 'GBP_CAD',\n",
       " 'GBP_HKD',\n",
       " 'GBP_ZAR',\n",
       " 'GBP_JPY',\n",
       " 'GBP_AUD',\n",
       " 'GBP_SGD',\n",
       " 'GBP_USD']"
      ]
     },
     "execution_count": 5,
     "metadata": {},
     "output_type": "execute_result"
    }
   ],
   "source": [
    "pairs"
   ]
  },
  {
   "cell_type": "code",
   "execution_count": 6,
   "id": "09c38a94",
   "metadata": {},
   "outputs": [],
   "source": [
    "data = []\n",
    "api = OandaApi()\n",
    "for p in pairs:\n",
    "    d_temp = api.get_candles_df(pair_name=p, granularity=\"D\",count=400)\n",
    "    d_temp['gain'] = ((d_temp.mid_c - d_temp.mid_o) / d_temp.mid_c) * 100\n",
    "    d_temp['pair'] = p\n",
    "    #something else was fisrt _\n",
    "    if '_GBP' in p:\n",
    "        d_temp['gain'] = d_temp['gain'] * -1\n",
    "    data.append(d_temp)\n",
    "candles_df = pd.concat(data)\n",
    "candles_df.reset_index(drop=True, inplace=True)\n",
    "candles_df.time = candles_df.time.dt.date"
   ]
  },
  {
   "cell_type": "code",
   "execution_count": 7,
   "id": "7d43d6e8",
   "metadata": {},
   "outputs": [
    {
     "data": {
      "text/html": [
       "<div>\n",
       "<style scoped>\n",
       "    .dataframe tbody tr th:only-of-type {\n",
       "        vertical-align: middle;\n",
       "    }\n",
       "\n",
       "    .dataframe tbody tr th {\n",
       "        vertical-align: top;\n",
       "    }\n",
       "\n",
       "    .dataframe thead th {\n",
       "        text-align: right;\n",
       "    }\n",
       "</style>\n",
       "<table border=\"1\" class=\"dataframe\">\n",
       "  <thead>\n",
       "    <tr style=\"text-align: right;\">\n",
       "      <th></th>\n",
       "      <th>time</th>\n",
       "      <th>volume</th>\n",
       "      <th>mid_o</th>\n",
       "      <th>mid_h</th>\n",
       "      <th>mid_l</th>\n",
       "      <th>mid_c</th>\n",
       "      <th>bid_o</th>\n",
       "      <th>bid_h</th>\n",
       "      <th>bid_l</th>\n",
       "      <th>bid_c</th>\n",
       "      <th>ask_o</th>\n",
       "      <th>ask_h</th>\n",
       "      <th>ask_l</th>\n",
       "      <th>ask_c</th>\n",
       "      <th>gain</th>\n",
       "      <th>pair</th>\n",
       "    </tr>\n",
       "  </thead>\n",
       "  <tbody>\n",
       "    <tr>\n",
       "      <th>4384</th>\n",
       "      <td>2023-12-26</td>\n",
       "      <td>79626</td>\n",
       "      <td>1.27221</td>\n",
       "      <td>1.28026</td>\n",
       "      <td>1.26988</td>\n",
       "      <td>1.27995</td>\n",
       "      <td>1.27169</td>\n",
       "      <td>1.28017</td>\n",
       "      <td>1.26978</td>\n",
       "      <td>1.27986</td>\n",
       "      <td>1.27273</td>\n",
       "      <td>1.28036</td>\n",
       "      <td>1.26996</td>\n",
       "      <td>1.28004</td>\n",
       "      <td>0.604711</td>\n",
       "      <td>GBP_USD</td>\n",
       "    </tr>\n",
       "    <tr>\n",
       "      <th>4385</th>\n",
       "      <td>2023-12-27</td>\n",
       "      <td>93413</td>\n",
       "      <td>1.27940</td>\n",
       "      <td>1.28280</td>\n",
       "      <td>1.27126</td>\n",
       "      <td>1.27306</td>\n",
       "      <td>1.27890</td>\n",
       "      <td>1.28272</td>\n",
       "      <td>1.27117</td>\n",
       "      <td>1.27295</td>\n",
       "      <td>1.27990</td>\n",
       "      <td>1.28287</td>\n",
       "      <td>1.27135</td>\n",
       "      <td>1.27317</td>\n",
       "      <td>-0.498013</td>\n",
       "      <td>GBP_USD</td>\n",
       "    </tr>\n",
       "    <tr>\n",
       "      <th>4386</th>\n",
       "      <td>2023-12-28</td>\n",
       "      <td>98653</td>\n",
       "      <td>1.27338</td>\n",
       "      <td>1.27728</td>\n",
       "      <td>1.27004</td>\n",
       "      <td>1.27314</td>\n",
       "      <td>1.27264</td>\n",
       "      <td>1.27720</td>\n",
       "      <td>1.26994</td>\n",
       "      <td>1.27303</td>\n",
       "      <td>1.27412</td>\n",
       "      <td>1.27736</td>\n",
       "      <td>1.27014</td>\n",
       "      <td>1.27324</td>\n",
       "      <td>-0.018851</td>\n",
       "      <td>GBP_USD</td>\n",
       "    </tr>\n",
       "    <tr>\n",
       "      <th>4387</th>\n",
       "      <td>2024-01-01</td>\n",
       "      <td>124894</td>\n",
       "      <td>1.27264</td>\n",
       "      <td>1.27600</td>\n",
       "      <td>1.26108</td>\n",
       "      <td>1.26188</td>\n",
       "      <td>1.27205</td>\n",
       "      <td>1.27590</td>\n",
       "      <td>1.26101</td>\n",
       "      <td>1.26180</td>\n",
       "      <td>1.27323</td>\n",
       "      <td>1.27611</td>\n",
       "      <td>1.26116</td>\n",
       "      <td>1.26196</td>\n",
       "      <td>-0.852696</td>\n",
       "      <td>GBP_USD</td>\n",
       "    </tr>\n",
       "    <tr>\n",
       "      <th>4388</th>\n",
       "      <td>2024-01-02</td>\n",
       "      <td>136089</td>\n",
       "      <td>1.26166</td>\n",
       "      <td>1.26766</td>\n",
       "      <td>1.26157</td>\n",
       "      <td>1.26644</td>\n",
       "      <td>1.26138</td>\n",
       "      <td>1.26757</td>\n",
       "      <td>1.26132</td>\n",
       "      <td>1.26635</td>\n",
       "      <td>1.26194</td>\n",
       "      <td>1.26774</td>\n",
       "      <td>1.26168</td>\n",
       "      <td>1.26654</td>\n",
       "      <td>0.377436</td>\n",
       "      <td>GBP_USD</td>\n",
       "    </tr>\n",
       "  </tbody>\n",
       "</table>\n",
       "</div>"
      ],
      "text/plain": [
       "            time  volume    mid_o    mid_h    mid_l    mid_c    bid_o  \\\n",
       "4384  2023-12-26   79626  1.27221  1.28026  1.26988  1.27995  1.27169   \n",
       "4385  2023-12-27   93413  1.27940  1.28280  1.27126  1.27306  1.27890   \n",
       "4386  2023-12-28   98653  1.27338  1.27728  1.27004  1.27314  1.27264   \n",
       "4387  2024-01-01  124894  1.27264  1.27600  1.26108  1.26188  1.27205   \n",
       "4388  2024-01-02  136089  1.26166  1.26766  1.26157  1.26644  1.26138   \n",
       "\n",
       "        bid_h    bid_l    bid_c    ask_o    ask_h    ask_l    ask_c      gain  \\\n",
       "4384  1.28017  1.26978  1.27986  1.27273  1.28036  1.26996  1.28004  0.604711   \n",
       "4385  1.28272  1.27117  1.27295  1.27990  1.28287  1.27135  1.27317 -0.498013   \n",
       "4386  1.27720  1.26994  1.27303  1.27412  1.27736  1.27014  1.27324 -0.018851   \n",
       "4387  1.27590  1.26101  1.26180  1.27323  1.27611  1.26116  1.26196 -0.852696   \n",
       "4388  1.26757  1.26132  1.26635  1.26194  1.26774  1.26168  1.26654  0.377436   \n",
       "\n",
       "         pair  \n",
       "4384  GBP_USD  \n",
       "4385  GBP_USD  \n",
       "4386  GBP_USD  \n",
       "4387  GBP_USD  \n",
       "4388  GBP_USD  "
      ]
     },
     "execution_count": 7,
     "metadata": {},
     "output_type": "execute_result"
    }
   ],
   "source": [
    "candles_df.tail()"
   ]
  },
  {
   "cell_type": "code",
   "execution_count": 10,
   "id": "b96d9c08",
   "metadata": {},
   "outputs": [],
   "source": [
    "calendar_data = database.query_all(DataDB.CALENDAR_COLL) "
   ]
  },
  {
   "cell_type": "code",
   "execution_count": 11,
   "id": "1eb83785",
   "metadata": {},
   "outputs": [],
   "source": [
    "calendar_data_df = pd.DataFrame.from_dict(calendar_data)"
   ]
  },
  {
   "cell_type": "code",
   "execution_count": 12,
   "id": "a268490a",
   "metadata": {},
   "outputs": [],
   "source": [
    "calendar_data_df.date = calendar_data_df.date.dt.date"
   ]
  },
  {
   "cell_type": "code",
   "execution_count": 13,
   "id": "a64f3df6",
   "metadata": {},
   "outputs": [],
   "source": [
    "calendar_data_df_uk = calendar_data_df[calendar_data_df.country == \"united kingdom\"].copy()"
   ]
  },
  {
   "cell_type": "code",
   "execution_count": 16,
   "id": "bb4053a9",
   "metadata": {},
   "outputs": [
    {
     "data": {
      "text/html": [
       "<div>\n",
       "<style scoped>\n",
       "    .dataframe tbody tr th:only-of-type {\n",
       "        vertical-align: middle;\n",
       "    }\n",
       "\n",
       "    .dataframe tbody tr th {\n",
       "        vertical-align: top;\n",
       "    }\n",
       "\n",
       "    .dataframe thead th {\n",
       "        text-align: right;\n",
       "    }\n",
       "</style>\n",
       "<table border=\"1\" class=\"dataframe\">\n",
       "  <thead>\n",
       "    <tr style=\"text-align: right;\">\n",
       "      <th></th>\n",
       "      <th>date</th>\n",
       "      <th>country</th>\n",
       "      <th>category</th>\n",
       "      <th>event</th>\n",
       "      <th>symbol</th>\n",
       "      <th>actual</th>\n",
       "      <th>previous</th>\n",
       "      <th>forecast</th>\n",
       "    </tr>\n",
       "  </thead>\n",
       "  <tbody>\n",
       "    <tr>\n",
       "      <th>11</th>\n",
       "      <td>2022-03-11</td>\n",
       "      <td>united kingdom</td>\n",
       "      <td>monthly gdp mom</td>\n",
       "      <td>gdp mom</td>\n",
       "      <td>GBRMGM</td>\n",
       "      <td>0.8%</td>\n",
       "      <td>-0.2%</td>\n",
       "      <td>0.3%</td>\n",
       "    </tr>\n",
       "  </tbody>\n",
       "</table>\n",
       "</div>"
      ],
      "text/plain": [
       "          date         country         category    event  symbol actual  \\\n",
       "11  2022-03-11  united kingdom  monthly gdp mom  gdp mom  GBRMGM   0.8%   \n",
       "\n",
       "   previous forecast  \n",
       "11    -0.2%     0.3%  "
      ]
     },
     "execution_count": 16,
     "metadata": {},
     "output_type": "execute_result"
    }
   ],
   "source": [
    "calendar_data_df_uk.head(10)"
   ]
  },
  {
   "cell_type": "code",
   "execution_count": 19,
   "id": "142704c9",
   "metadata": {},
   "outputs": [
    {
     "name": "stdout",
     "output_type": "stream",
     "text": [
      "<class 'pandas.core.frame.DataFrame'>\n",
      "Index: 1 entries, 11 to 11\n",
      "Data columns (total 8 columns):\n",
      " #   Column    Non-Null Count  Dtype  \n",
      "---  ------    --------------  -----  \n",
      " 0   date      1 non-null      object \n",
      " 1   country   1 non-null      object \n",
      " 2   category  1 non-null      object \n",
      " 3   event     1 non-null      object \n",
      " 4   symbol    1 non-null      object \n",
      " 5   actual    1 non-null      float64\n",
      " 6   previous  1 non-null      float64\n",
      " 7   forecast  1 non-null      float64\n",
      "dtypes: float64(3), object(5)\n",
      "memory usage: 72.0+ bytes\n"
     ]
    }
   ],
   "source": [
    "calendar_data_df_uk.info()"
   ]
  },
  {
   "cell_type": "code",
   "execution_count": 18,
   "id": "fc566474",
   "metadata": {},
   "outputs": [],
   "source": [
    "for col in ['actual', 'previous', 'forecast']:\n",
    "    for sy in ['£', '%', 'B', 'K']:\n",
    "        calendar_data_df_uk[col] = calendar_data_df_uk[col].str.replace(sy, \"\")\n",
    "    calendar_data_df_uk[col].replace('', 0, inplace=True)\n",
    "    calendar_data_df_uk[col] = calendar_data_df_uk[col].astype(float)"
   ]
  },
  {
   "cell_type": "code",
   "execution_count": null,
   "id": "5be1a527",
   "metadata": {},
   "outputs": [],
   "source": [
    "date_match = {} #loop throguh every row and if it exists in candles df and add 1 date up to 5 \n",
    "#to see where we have a candles dates \n",
    "\n",
    "#very few dates but still happens\n",
    "for orig in calendar_data_df_uk.date.unique():\n",
    "    d = orig\n",
    "    tries = 0\n",
    "    while d not in candles_df.time.values:\n",
    "        d = d + dt.timedelta(days=1)\n",
    "        tries += 1\n",
    "        if tries > 5:\n",
    "            #neve found a date that doesnt match\n",
    "            print(\"Failed\")\n",
    "            break\n",
    "        #now new date \n",
    "    date_match[orig] = d"
   ]
  },
  {
   "cell_type": "code",
   "execution_count": null,
   "id": "60c83c18",
   "metadata": {},
   "outputs": [],
   "source": [
    "calendar_data_df_uk['orig_date'] = calendar_data_df_uk.date\n",
    "calendar_data_df_uk.date = [date_match[x] for x in calendar_data_df_uk.date]"
   ]
  },
  {
   "cell_type": "code",
   "execution_count": null,
   "id": "90342922",
   "metadata": {},
   "outputs": [],
   "source": [
    "calendar_data_df_uk['delta_prev'] = calendar_data_df_uk.actual - calendar_data_df_uk.previous\n",
    "calendar_data_df_uk['delta_fc'] = calendar_data_df_uk.actual - calendar_data_df_uk.forecast"
   ]
  },
  {
   "cell_type": "code",
   "execution_count": null,
   "id": "c243659e",
   "metadata": {},
   "outputs": [],
   "source": [
    "calendar_data_df_uk.head(2)"
   ]
  },
  {
   "cell_type": "code",
   "execution_count": null,
   "id": "687268c0",
   "metadata": {},
   "outputs": [],
   "source": [
    "candles_an.head(2)"
   ]
  },
  {
   "cell_type": "code",
   "execution_count": null,
   "id": "4c57d479",
   "metadata": {},
   "outputs": [],
   "source": [
    "candles_an = candles_df[['time', 'pair', 'gain']].copy()"
   ]
  },
  {
   "cell_type": "code",
   "execution_count": null,
   "id": "79f32951",
   "metadata": {},
   "outputs": [],
   "source": [
    "merged = pd.merge(left=candles_an, right=calendar_data_df_uk, left_on='time', right_on='date')"
   ]
  },
  {
   "cell_type": "code",
   "execution_count": null,
   "id": "57b027d4",
   "metadata": {},
   "outputs": [],
   "source": [
    "merged[merged.category=='inflation rate'].head(2)"
   ]
  },
  {
   "cell_type": "code",
   "execution_count": null,
   "id": "0b9970fc",
   "metadata": {},
   "outputs": [],
   "source": [
    "merged.category.unique()"
   ]
  },
  {
   "cell_type": "code",
   "execution_count": null,
   "id": "35a23d1f",
   "metadata": {},
   "outputs": [],
   "source": [
    "c = 'consumer confidence'\n",
    "df_an = merged[merged.category==c]\n",
    "print(df_an[df_an.delta_fc >= 0].gain.sum())\n",
    "print(df_an[df_an.delta_fc < 0].gain.sum())"
   ]
  },
  {
   "cell_type": "code",
   "execution_count": null,
   "id": "12704f2c",
   "metadata": {},
   "outputs": [],
   "source": [
    "import plotly.express as px"
   ]
  },
  {
   "cell_type": "code",
   "execution_count": null,
   "id": "ea1b8d9f",
   "metadata": {},
   "outputs": [],
   "source": [
    "cat = 'inflation rate'\n",
    "df_cat = merged[merged.category==cat]\n",
    "for p in pairs:\n",
    "    df_plot = df_cat[df_cat.pair == p]\n",
    "    print(p)\n",
    "    fig = px.scatter(df_plot, x=\"gain\", y=\"delta_prev\", trendline=\"ols\")\n",
    "    fig.show()"
   ]
  },
  {
   "cell_type": "code",
   "execution_count": null,
   "id": "70bc0584",
   "metadata": {},
   "outputs": [],
   "source": []
  },
  {
   "cell_type": "code",
   "execution_count": null,
   "id": "f09f1e48",
   "metadata": {},
   "outputs": [],
   "source": []
  },
  {
   "cell_type": "code",
   "execution_count": null,
   "id": "cd511282",
   "metadata": {},
   "outputs": [],
   "source": []
  },
  {
   "cell_type": "code",
   "execution_count": null,
   "id": "4d391587",
   "metadata": {},
   "outputs": [],
   "source": []
  },
  {
   "cell_type": "code",
   "execution_count": null,
   "id": "149afb9c",
   "metadata": {},
   "outputs": [],
   "source": []
  }
 ],
 "metadata": {
  "kernelspec": {
   "display_name": "Python 3 (ipykernel)",
   "language": "python",
   "name": "python3"
  },
  "language_info": {
   "codemirror_mode": {
    "name": "ipython",
    "version": 3
   },
   "file_extension": ".py",
   "mimetype": "text/x-python",
   "name": "python",
   "nbconvert_exporter": "python",
   "pygments_lexer": "ipython3",
   "version": "3.12.1"
  }
 },
 "nbformat": 4,
 "nbformat_minor": 5
}
