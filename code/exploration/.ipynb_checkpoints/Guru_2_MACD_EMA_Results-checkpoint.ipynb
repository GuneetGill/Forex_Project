{
 "cells": [
  {
   "cell_type": "code",
   "execution_count": 1,
   "id": "fececdd1",
   "metadata": {},
   "outputs": [],
   "source": [
    "import sys\n",
    "sys.path.append(\"../\")\n",
    "\n",
    "import pandas as pd\n",
    "import plotly.graph_objects as go"
   ]
  },
  {
   "cell_type": "code",
   "execution_count": 2,
   "id": "cb8b0e40",
   "metadata": {},
   "outputs": [],
   "source": [
    "from infrastructure.instrument_collection import instrumentCollection"
   ]
  },
  {
   "cell_type": "code",
   "execution_count": 4,
   "id": "f751740e",
   "metadata": {},
   "outputs": [],
   "source": [
    "def load_results(ic):\n",
    "    res = []\n",
    "    trades = []\n",
    "    our_curr = ['USD', 'GBP', 'JPY', 'NZD']\n",
    "    for p1 in our_curr:\n",
    "        for p2 in our_curr:\n",
    "            pair = f\"{p1}_{p2}\"\n",
    "            if pair in ic.instruments_dict.keys():\n",
    "                res.append(pd.read_pickle(f\"./macd_ema/macd_ema_res_{pair}.pkl\"))\n",
    "                trades.append(pd.read_pickle(f\"./macd_ema/trades/macd_ema_trades_{pair}.pkl\"))\n",
    "    return pd.concat(res), pd.concat(trades)"
   ]
  },
  {
   "cell_type": "code",
   "execution_count": 5,
   "id": "9c335bf4",
   "metadata": {},
   "outputs": [],
   "source": [
    "instrumentCollection.LoadInstruments('../data/')"
   ]
  },
  {
   "cell_type": "code",
   "execution_count": 6,
   "id": "7188f868",
   "metadata": {},
   "outputs": [],
   "source": [
    "df_results, df_trades = load_results(instrumentCollection)\n",
    "#we have dupcliate index so change that\n",
    "df_results.reset_index(drop=True, inplace=True)\n",
    "df_trades.reset_index(drop=True, inplace=True)"
   ]
  },
  {
   "cell_type": "code",
   "execution_count": 7,
   "id": "71bf6c3f",
   "metadata": {},
   "outputs": [
    {
     "data": {
      "text/html": [
       "<div>\n",
       "<style scoped>\n",
       "    .dataframe tbody tr th:only-of-type {\n",
       "        vertical-align: middle;\n",
       "    }\n",
       "\n",
       "    .dataframe tbody tr th {\n",
       "        vertical-align: top;\n",
       "    }\n",
       "\n",
       "    .dataframe thead th {\n",
       "        text-align: right;\n",
       "    }\n",
       "</style>\n",
       "<table border=\"1\" class=\"dataframe\">\n",
       "  <thead>\n",
       "    <tr style=\"text-align: right;\">\n",
       "      <th></th>\n",
       "      <th>pair</th>\n",
       "      <th>slow</th>\n",
       "      <th>fast</th>\n",
       "      <th>ema</th>\n",
       "      <th>result</th>\n",
       "      <th>signal</th>\n",
       "    </tr>\n",
       "  </thead>\n",
       "  <tbody>\n",
       "    <tr>\n",
       "      <th>0</th>\n",
       "      <td>USD_JPY</td>\n",
       "      <td>26</td>\n",
       "      <td>12</td>\n",
       "      <td>50</td>\n",
       "      <td>3.0</td>\n",
       "      <td>9</td>\n",
       "    </tr>\n",
       "    <tr>\n",
       "      <th>1</th>\n",
       "      <td>USD_JPY</td>\n",
       "      <td>26</td>\n",
       "      <td>12</td>\n",
       "      <td>100</td>\n",
       "      <td>0.0</td>\n",
       "      <td>9</td>\n",
       "    </tr>\n",
       "    <tr>\n",
       "      <th>2</th>\n",
       "      <td>USD_JPY</td>\n",
       "      <td>26</td>\n",
       "      <td>12</td>\n",
       "      <td>50</td>\n",
       "      <td>7.0</td>\n",
       "      <td>12</td>\n",
       "    </tr>\n",
       "    <tr>\n",
       "      <th>3</th>\n",
       "      <td>USD_JPY</td>\n",
       "      <td>26</td>\n",
       "      <td>12</td>\n",
       "      <td>100</td>\n",
       "      <td>8.5</td>\n",
       "      <td>12</td>\n",
       "    </tr>\n",
       "    <tr>\n",
       "      <th>4</th>\n",
       "      <td>USD_JPY</td>\n",
       "      <td>26</td>\n",
       "      <td>18</td>\n",
       "      <td>50</td>\n",
       "      <td>5.5</td>\n",
       "      <td>9</td>\n",
       "    </tr>\n",
       "  </tbody>\n",
       "</table>\n",
       "</div>"
      ],
      "text/plain": [
       "      pair  slow  fast  ema  result  signal\n",
       "0  USD_JPY    26    12   50     3.0       9\n",
       "1  USD_JPY    26    12  100     0.0       9\n",
       "2  USD_JPY    26    12   50     7.0      12\n",
       "3  USD_JPY    26    12  100     8.5      12\n",
       "4  USD_JPY    26    18   50     5.5       9"
      ]
     },
     "execution_count": 7,
     "metadata": {},
     "output_type": "execute_result"
    }
   ],
   "source": [
    "df_results.head()"
   ]
  },
  {
   "cell_type": "code",
   "execution_count": null,
   "id": "172d8463",
   "metadata": {},
   "outputs": [],
   "source": [
    "df_trades.head()"
   ]
  },
  {
   "cell_type": "code",
   "execution_count": null,
   "id": "b5050a85",
   "metadata": {},
   "outputs": [],
   "source": [
    "df_results.columns"
   ]
  },
  {
   "cell_type": "code",
   "execution_count": null,
   "id": "74bbca96",
   "metadata": {},
   "outputs": [],
   "source": [
    "# look at the results grouped by setting\n",
    "gr = df_results.groupby(by=['slow', 'fast', 'ema', 'signal'], as_index=False).sum()"
   ]
  },
  {
   "cell_type": "code",
   "execution_count": null,
   "id": "5497cd29",
   "metadata": {},
   "outputs": [],
   "source": [
    "# sort descending, best result at the top\n",
    "gr.sort_values(by='result', ascending=False, inplace=True)"
   ]
  },
  {
   "cell_type": "code",
   "execution_count": null,
   "id": "d489ff3c",
   "metadata": {},
   "outputs": [],
   "source": [
    "gr.head()"
   ]
  },
  {
   "cell_type": "code",
   "execution_count": null,
   "id": "fd1e65f7",
   "metadata": {},
   "outputs": [],
   "source": [
    "# for the top setting, let's see what we have in terms of individual currency pairs\n",
    "df_results_best = df_results[(df_results.ema==50)&(df_results.fast==18)&(df_results.slow==52)&(df_results.signal==9)]"
   ]
  },
  {
   "cell_type": "code",
   "execution_count": null,
   "id": "8cf1ca9b",
   "metadata": {},
   "outputs": [],
   "source": [
    "df_results_best"
   ]
  },
  {
   "cell_type": "code",
   "execution_count": null,
   "id": "16f0a70a",
   "metadata": {},
   "outputs": [],
   "source": [
    "# let's see the individual trades for the top setting\n",
    "df_trades_best = df_trades[(df_trades.ema==50)&(df_trades.fast==18)&(df_trades.slow==52)&(df_trades.signal==9)].copy()"
   ]
  },
  {
   "cell_type": "code",
   "execution_count": null,
   "id": "cdbadbf0",
   "metadata": {},
   "outputs": [],
   "source": [
    "df_trades_best.columns"
   ]
  },
  {
   "cell_type": "code",
   "execution_count": null,
   "id": "8d264b5c",
   "metadata": {},
   "outputs": [],
   "source": [
    "# let's see how long trades last\n",
    "df_trades_best['duration_h'] = (df_trades_best.end_time - df_trades_best.start_time).dt.total_seconds() / 3600"
   ]
  },
  {
   "cell_type": "code",
   "execution_count": null,
   "id": "6fc04a18",
   "metadata": {},
   "outputs": [],
   "source": [
    "df_trades_best['duration_h'].describe()"
   ]
  },
  {
   "cell_type": "code",
   "execution_count": null,
   "id": "60c6f032",
   "metadata": {},
   "outputs": [],
   "source": [
    "# win percentage\n",
    "wp = (df_trades_best[df_trades_best.result>0].shape[0] / df_trades_best.shape[0]) * 100\n",
    "print(\"Win percentage\", wp)"
   ]
  },
  {
   "cell_type": "code",
   "execution_count": null,
   "id": "b5c7bf2f",
   "metadata": {},
   "outputs": [],
   "source": [
    "# we will take a look at the cumulative gains, so sort by end_time\n",
    "df_trades_best.sort_values(by='end_time', inplace=True)"
   ]
  },
  {
   "cell_type": "code",
   "execution_count": null,
   "id": "867771af",
   "metadata": {},
   "outputs": [],
   "source": [
    "df_trades_best['CUM_RES'] = df_trades_best.result.cumsum()"
   ]
  },
  {
   "cell_type": "code",
   "execution_count": null,
   "id": "1bb7dbcc",
   "metadata": {},
   "outputs": [],
   "source": [
    "fig = go.Figure()\n",
    "\n",
    "fig.add_trace(go.Scatter(\n",
    "    x=df_trades_best.end_time,\n",
    "    y=df_trades_best['CUM_RES'],\n",
    "    line=dict(width=2)\n",
    "))\n",
    "\n",
    "fig.update_yaxes(\n",
    "    gridcolor=\"#1f292f\"\n",
    ")\n",
    "fig.update_xaxes(\n",
    "    gridcolor=\"#1f292f\"\n",
    ")\n",
    "\n",
    "fig.update_layout(\n",
    "    margin=dict(l=10,r=10,b=10,t=10),\n",
    "    paper_bgcolor=\"#2c303c\",\n",
    "    plot_bgcolor=\"#2c303c\",\n",
    "    font=dict(size=8, color=\"#e1e1e1\"),\n",
    "    height=400\n",
    ")\n",
    "\n",
    "fig.show()"
   ]
  },
  {
   "cell_type": "code",
   "execution_count": null,
   "id": "79a5f244",
   "metadata": {},
   "outputs": [],
   "source": []
  }
 ],
 "metadata": {
  "kernelspec": {
   "display_name": "Python 3 (ipykernel)",
   "language": "python",
   "name": "python3"
  },
  "language_info": {
   "codemirror_mode": {
    "name": "ipython",
    "version": 3
   },
   "file_extension": ".py",
   "mimetype": "text/x-python",
   "name": "python",
   "nbconvert_exporter": "python",
   "pygments_lexer": "ipython3",
   "version": "3.10.9"
  }
 },
 "nbformat": 4,
 "nbformat_minor": 5
}
