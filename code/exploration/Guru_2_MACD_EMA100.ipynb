{
 "cells": [
  {
   "cell_type": "code",
   "execution_count": 1,
   "id": "d45bb3a8",
   "metadata": {},
   "outputs": [],
   "source": [
    "import sys\n",
    "sys.path.append(\"../\")"
   ]
  },
  {
   "cell_type": "code",
   "execution_count": 3,
   "id": "2276616b",
   "metadata": {},
   "outputs": [],
   "source": [
    "import pandas as pd\n",
    "import datetime as dt\n",
    "from technicals.indicators import MACD\n",
    "from simulation.guru_tester import GuruTester"
   ]
  },
  {
   "cell_type": "code",
   "execution_count": 4,
   "id": "a0d4271d",
   "metadata": {},
   "outputs": [],
   "source": [
    "BUY = 1\n",
    "SELL = -1\n",
    "NONE = 0\n",
    "\n",
    "def apply_signal(row):\n",
    "    if row.direction == BUY and row.mid_l > row.EMA_100:\n",
    "        return BUY\n",
    "    if row.direction == SELL and row.mid_h < row.EMA_100:\n",
    "        return SELL\n",
    "    return NONE        "
   ]
  },
  {
   "cell_type": "code",
   "execution_count": 5,
   "id": "bee28318",
   "metadata": {},
   "outputs": [],
   "source": [
    "pair = \"EUR_USD\"\n",
    "df_an = pd.read_pickle(f\"../data/{pair}_H1.pkl\")\n",
    "df_m5 = pd.read_pickle(f\"../data/{pair}_M5.pkl\")\n",
    "df_an.reset_index(drop=True, inplace=True)\n",
    "df_m5.reset_index(drop=True, inplace=True)"
   ]
  },
  {
   "cell_type": "code",
   "execution_count": 6,
   "id": "5cb3d8ff",
   "metadata": {},
   "outputs": [],
   "source": [
    "df_an = MACD(df_an)\n",
    "df_an['EMA_100'] = df_an.mid_c.ewm(span=100, min_periods=100).mean()\n",
    "df_an.dropna(inplace=True)\n",
    "df_an.reset_index(drop=True, inplace=True)"
   ]
  },
  {
   "cell_type": "code",
   "execution_count": 10,
   "id": "73107dd0",
   "metadata": {},
   "outputs": [],
   "source": [
    "\n",
    "def apply_cross(row):\n",
    "    #buy cross\n",
    "    if row.macd_delta > 0  and row.macd_delta_prev < 0:\n",
    "        return BUY\n",
    "    #sell cross\n",
    "    if row.macd_delta < 0  and row.macd_delta_prev > 0:\n",
    "        return SELL\n",
    "    return NONE"
   ]
  },
  {
   "cell_type": "code",
   "execution_count": 11,
   "id": "a23c78d5",
   "metadata": {},
   "outputs": [],
   "source": [
    "df_an['macd_delta'] = df_an.MACD - df_an.SIGNAL\n",
    "df_an['macd_delta_prev'] = df_an.macd_delta.shift(1)\n",
    "df_an['direction'] = df_an.apply(apply_cross, axis=1)"
   ]
  },
  {
   "cell_type": "code",
   "execution_count": 12,
   "id": "c3de9109",
   "metadata": {},
   "outputs": [
    {
     "data": {
      "text/plain": [
       "direction\n",
       " 0    34172\n",
       " 1     1473\n",
       "-1     1472\n",
       "Name: count, dtype: int64"
      ]
     },
     "execution_count": 12,
     "metadata": {},
     "output_type": "execute_result"
    }
   ],
   "source": [
    "df_an.direction.value_counts()"
   ]
  },
  {
   "cell_type": "code",
   "execution_count": 13,
   "id": "fe8150da",
   "metadata": {},
   "outputs": [
    {
     "data": {
      "text/html": [
       "<div>\n",
       "<style scoped>\n",
       "    .dataframe tbody tr th:only-of-type {\n",
       "        vertical-align: middle;\n",
       "    }\n",
       "\n",
       "    .dataframe tbody tr th {\n",
       "        vertical-align: top;\n",
       "    }\n",
       "\n",
       "    .dataframe thead th {\n",
       "        text-align: right;\n",
       "    }\n",
       "</style>\n",
       "<table border=\"1\" class=\"dataframe\">\n",
       "  <thead>\n",
       "    <tr style=\"text-align: right;\">\n",
       "      <th></th>\n",
       "      <th>time</th>\n",
       "      <th>volume</th>\n",
       "      <th>mid_o</th>\n",
       "      <th>mid_h</th>\n",
       "      <th>mid_l</th>\n",
       "      <th>mid_c</th>\n",
       "      <th>bid_o</th>\n",
       "      <th>bid_h</th>\n",
       "      <th>bid_l</th>\n",
       "      <th>bid_c</th>\n",
       "      <th>...</th>\n",
       "      <th>ask_h</th>\n",
       "      <th>ask_l</th>\n",
       "      <th>ask_c</th>\n",
       "      <th>MACD</th>\n",
       "      <th>SIGNAL</th>\n",
       "      <th>HIST</th>\n",
       "      <th>EMA_100</th>\n",
       "      <th>macd_delta</th>\n",
       "      <th>macd_delta_prev</th>\n",
       "      <th>direction</th>\n",
       "    </tr>\n",
       "  </thead>\n",
       "  <tbody>\n",
       "    <tr>\n",
       "      <th>0</th>\n",
       "      <td>2017-01-13 01:00:00+00:00</td>\n",
       "      <td>1004</td>\n",
       "      <td>1.06098</td>\n",
       "      <td>1.06198</td>\n",
       "      <td>1.06084</td>\n",
       "      <td>1.06164</td>\n",
       "      <td>1.06091</td>\n",
       "      <td>1.06190</td>\n",
       "      <td>1.06076</td>\n",
       "      <td>1.06157</td>\n",
       "      <td>...</td>\n",
       "      <td>1.06206</td>\n",
       "      <td>1.06091</td>\n",
       "      <td>1.06171</td>\n",
       "      <td>0.000518</td>\n",
       "      <td>0.001241</td>\n",
       "      <td>-0.000723</td>\n",
       "      <td>1.059109</td>\n",
       "      <td>-0.000723</td>\n",
       "      <td>NaN</td>\n",
       "      <td>0</td>\n",
       "    </tr>\n",
       "    <tr>\n",
       "      <th>1</th>\n",
       "      <td>2017-01-13 02:00:00+00:00</td>\n",
       "      <td>902</td>\n",
       "      <td>1.06162</td>\n",
       "      <td>1.06190</td>\n",
       "      <td>1.06038</td>\n",
       "      <td>1.06054</td>\n",
       "      <td>1.06154</td>\n",
       "      <td>1.06183</td>\n",
       "      <td>1.06031</td>\n",
       "      <td>1.06047</td>\n",
       "      <td>...</td>\n",
       "      <td>1.06198</td>\n",
       "      <td>1.06044</td>\n",
       "      <td>1.06061</td>\n",
       "      <td>0.000329</td>\n",
       "      <td>0.001059</td>\n",
       "      <td>-0.000730</td>\n",
       "      <td>1.059142</td>\n",
       "      <td>-0.000730</td>\n",
       "      <td>-0.000723</td>\n",
       "      <td>0</td>\n",
       "    </tr>\n",
       "    <tr>\n",
       "      <th>2</th>\n",
       "      <td>2017-01-13 03:00:00+00:00</td>\n",
       "      <td>639</td>\n",
       "      <td>1.06057</td>\n",
       "      <td>1.06122</td>\n",
       "      <td>1.06042</td>\n",
       "      <td>1.06080</td>\n",
       "      <td>1.06050</td>\n",
       "      <td>1.06114</td>\n",
       "      <td>1.06034</td>\n",
       "      <td>1.06073</td>\n",
       "      <td>...</td>\n",
       "      <td>1.06129</td>\n",
       "      <td>1.06049</td>\n",
       "      <td>1.06087</td>\n",
       "      <td>0.000197</td>\n",
       "      <td>0.000886</td>\n",
       "      <td>-0.000689</td>\n",
       "      <td>1.059179</td>\n",
       "      <td>-0.000689</td>\n",
       "      <td>-0.000730</td>\n",
       "      <td>0</td>\n",
       "    </tr>\n",
       "    <tr>\n",
       "      <th>3</th>\n",
       "      <td>2017-01-13 04:00:00+00:00</td>\n",
       "      <td>382</td>\n",
       "      <td>1.06077</td>\n",
       "      <td>1.06175</td>\n",
       "      <td>1.06056</td>\n",
       "      <td>1.06175</td>\n",
       "      <td>1.06070</td>\n",
       "      <td>1.06168</td>\n",
       "      <td>1.06048</td>\n",
       "      <td>1.06168</td>\n",
       "      <td>...</td>\n",
       "      <td>1.06182</td>\n",
       "      <td>1.06063</td>\n",
       "      <td>1.06182</td>\n",
       "      <td>0.000167</td>\n",
       "      <td>0.000743</td>\n",
       "      <td>-0.000575</td>\n",
       "      <td>1.059238</td>\n",
       "      <td>-0.000575</td>\n",
       "      <td>-0.000689</td>\n",
       "      <td>0</td>\n",
       "    </tr>\n",
       "    <tr>\n",
       "      <th>4</th>\n",
       "      <td>2017-01-13 05:00:00+00:00</td>\n",
       "      <td>363</td>\n",
       "      <td>1.06173</td>\n",
       "      <td>1.06173</td>\n",
       "      <td>1.06126</td>\n",
       "      <td>1.06170</td>\n",
       "      <td>1.06164</td>\n",
       "      <td>1.06166</td>\n",
       "      <td>1.06119</td>\n",
       "      <td>1.06164</td>\n",
       "      <td>...</td>\n",
       "      <td>1.06182</td>\n",
       "      <td>1.06132</td>\n",
       "      <td>1.06177</td>\n",
       "      <td>0.000138</td>\n",
       "      <td>0.000622</td>\n",
       "      <td>-0.000483</td>\n",
       "      <td>1.059294</td>\n",
       "      <td>-0.000483</td>\n",
       "      <td>-0.000575</td>\n",
       "      <td>0</td>\n",
       "    </tr>\n",
       "  </tbody>\n",
       "</table>\n",
       "<p>5 rows × 21 columns</p>\n",
       "</div>"
      ],
      "text/plain": [
       "                       time  volume    mid_o    mid_h    mid_l    mid_c  \\\n",
       "0 2017-01-13 01:00:00+00:00    1004  1.06098  1.06198  1.06084  1.06164   \n",
       "1 2017-01-13 02:00:00+00:00     902  1.06162  1.06190  1.06038  1.06054   \n",
       "2 2017-01-13 03:00:00+00:00     639  1.06057  1.06122  1.06042  1.06080   \n",
       "3 2017-01-13 04:00:00+00:00     382  1.06077  1.06175  1.06056  1.06175   \n",
       "4 2017-01-13 05:00:00+00:00     363  1.06173  1.06173  1.06126  1.06170   \n",
       "\n",
       "     bid_o    bid_h    bid_l    bid_c  ...    ask_h    ask_l    ask_c  \\\n",
       "0  1.06091  1.06190  1.06076  1.06157  ...  1.06206  1.06091  1.06171   \n",
       "1  1.06154  1.06183  1.06031  1.06047  ...  1.06198  1.06044  1.06061   \n",
       "2  1.06050  1.06114  1.06034  1.06073  ...  1.06129  1.06049  1.06087   \n",
       "3  1.06070  1.06168  1.06048  1.06168  ...  1.06182  1.06063  1.06182   \n",
       "4  1.06164  1.06166  1.06119  1.06164  ...  1.06182  1.06132  1.06177   \n",
       "\n",
       "       MACD    SIGNAL      HIST   EMA_100  macd_delta  macd_delta_prev  \\\n",
       "0  0.000518  0.001241 -0.000723  1.059109   -0.000723              NaN   \n",
       "1  0.000329  0.001059 -0.000730  1.059142   -0.000730        -0.000723   \n",
       "2  0.000197  0.000886 -0.000689  1.059179   -0.000689        -0.000730   \n",
       "3  0.000167  0.000743 -0.000575  1.059238   -0.000575        -0.000689   \n",
       "4  0.000138  0.000622 -0.000483  1.059294   -0.000483        -0.000575   \n",
       "\n",
       "   direction  \n",
       "0          0  \n",
       "1          0  \n",
       "2          0  \n",
       "3          0  \n",
       "4          0  \n",
       "\n",
       "[5 rows x 21 columns]"
      ]
     },
     "execution_count": 13,
     "metadata": {},
     "output_type": "execute_result"
    }
   ],
   "source": [
    "df_an.head()"
   ]
  },
  {
   "cell_type": "code",
   "execution_count": null,
   "id": "7bd6ef6f",
   "metadata": {},
   "outputs": [],
   "source": []
  },
  {
   "cell_type": "code",
   "execution_count": null,
   "id": "f7ecf521",
   "metadata": {},
   "outputs": [],
   "source": []
  },
  {
   "cell_type": "code",
   "execution_count": 14,
   "id": "314355c3",
   "metadata": {},
   "outputs": [],
   "source": [
    "def run_pair(pair, time_d=1):\n",
    "    df_an = pd.read_pickle(f\"../data/{pair}_H{time_d}.pkl\")\n",
    "    df_m5 = pd.read_pickle(f\"../data/{pair}_M5.pkl\")\n",
    "    df_an.reset_index(drop=True, inplace=True)\n",
    "    df_m5.reset_index(drop=True, inplace=True)\n",
    "    df_an = MACD(df_an) #MACD over RSI here\n",
    "    df_an['EMA_100'] = df_an.mid_c.ewm(span=100, min_periods=100).mean()\n",
    "\n",
    "    #direction created\n",
    "    df_an['macd_delta'] = df_an.MACD - df_an.SIGNAL\n",
    "    df_an['macd_delta_prev'] = df_an.macd_delta.shift(1)\n",
    "    df_an['direction'] = df_an.apply(apply_cross, axis=1)\n",
    "    \n",
    "    our_cols = ['time', 'mid_o', 'mid_h', 'mid_l', 'mid_c',\n",
    "            'bid_o', 'bid_h', 'bid_l', 'bid_c', \n",
    "            'ask_o', 'ask_h', 'ask_l', 'ask_c',\n",
    "             'direction', 'EMA_100' ]\n",
    "    df_slim = df_an[our_cols].copy()\n",
    "    df_slim.dropna(inplace=True)\n",
    "    \n",
    "    df_slim.reset_index(drop=True, inplace=True)\n",
    "    gt = GuruTester(\n",
    "        df_slim,\n",
    "        apply_signal,\n",
    "        df_m5,\n",
    "        use_spread=True,\n",
    "        time_d=time_d\n",
    "    )\n",
    "    \n",
    "    gt.run_test()\n",
    "    return gt.df_results\n",
    "    "
   ]
  },
  {
   "cell_type": "code",
   "execution_count": null,
   "id": "c66cb656",
   "metadata": {},
   "outputs": [],
   "source": []
  },
  {
   "cell_type": "code",
   "execution_count": 15,
   "id": "36fab442",
   "metadata": {},
   "outputs": [],
   "source": [
    "res = []\n",
    "for p in [\"AUD_NZD\", \"EUR_USD\", \"GBP_JPY\", \"USD_CAD\" ]:\n",
    "    res.append(dict(pair=p,res=run_pair(p, time_d=1)))"
   ]
  },
  {
   "cell_type": "code",
   "execution_count": 16,
   "id": "d9b1f5f0",
   "metadata": {},
   "outputs": [
    {
     "name": "stdout",
     "output_type": "stream",
     "text": [
      "AUD_NZD -524.0\n",
      "EUR_USD -51.0\n",
      "GBP_JPY -6.0\n",
      "USD_CAD -118.5\n"
     ]
    }
   ],
   "source": [
    "for r in res:\n",
    "    print(r['pair'], r['res'].result.sum())"
   ]
  },
  {
   "cell_type": "code",
   "execution_count": 17,
   "id": "990d4bde",
   "metadata": {},
   "outputs": [
    {
     "name": "stdout",
     "output_type": "stream",
     "text": [
      "AUD_NZD -65.0\n",
      "EUR_USD 11.5\n",
      "GBP_JPY 35.5\n",
      "USD_CAD -23.0\n"
     ]
    }
   ],
   "source": [
    "res = []\n",
    "for p in [\"AUD_NZD\", \"EUR_USD\", \"GBP_JPY\", \"USD_CAD\" ]:\n",
    "    res.append(dict(pair=p,res=run_pair(p, time_d=4)))\n",
    "for r in res:\n",
    "    print(r['pair'], r['res'].result.sum())"
   ]
  },
  {
   "cell_type": "code",
   "execution_count": null,
   "id": "3f968cf3",
   "metadata": {},
   "outputs": [],
   "source": []
  },
  {
   "cell_type": "code",
   "execution_count": null,
   "id": "a211c19c",
   "metadata": {},
   "outputs": [],
   "source": []
  }
 ],
 "metadata": {
  "kernelspec": {
   "display_name": "Python 3 (ipykernel)",
   "language": "python",
   "name": "python3"
  },
  "language_info": {
   "codemirror_mode": {
    "name": "ipython",
    "version": 3
   },
   "file_extension": ".py",
   "mimetype": "text/x-python",
   "name": "python",
   "nbconvert_exporter": "python",
   "pygments_lexer": "ipython3",
   "version": "3.10.9"
  }
 },
 "nbformat": 4,
 "nbformat_minor": 5
}
